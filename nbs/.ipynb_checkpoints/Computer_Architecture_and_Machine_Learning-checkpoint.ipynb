{
 "cells": [
  {
   "cell_type": "markdown",
   "metadata": {},
   "source": [
    "# Bedeutung von Rechnerarchitekturen für das Maschinelle Lernen"
   ]
  },
  {
   "cell_type": "markdown",
   "metadata": {},
   "source": [
    "    Dr.-Ing. Rüdiger Alshut"
   ]
  },
  {
   "cell_type": "markdown",
   "metadata": {
    "collapsed": true,
    "slideshow": {
     "slide_type": "slide"
    }
   },
   "source": [
    "Here we have defined `header`, `footer` and `backimage` - [see also the customization doc](http://rise.readthedocs.io/en/latest/customize.html).\n",
    "\n",
    "See [this other notebook](overlay.ipynb) for a short description of how to use `overlay` instead."
   ]
  },
  {
   "cell_type": "markdown",
   "metadata": {
    "slideshow": {
     "slide_type": "skip"
    }
   },
   "source": [
    "# The impact of Computer Architecture on Machine Learning\n",
    "\n",
    "Here I demonstrate the effect of taking advantage of the Computer Architecture on the Gradient Descent Algorithm.\n",
    "\n",
    "For Optimization the Gradient Descent Algorithm is with out any doubt the best starting point to get an understanding for optimization algorithms. Ther are many derivatives of this algorithm get to the global minimum, or to at least near to it, faster. But the basic principle stays the same. Here I implement in a basic way that makes it easer to understand:\n",
    "\n",
    "1. *Batch* Gradient Descent\n",
    "2. *Stochastic* Gradient Descent\n",
    "3. Gradient Descent with *Mini-Batches*\n",
    "4. Gradient Descent with *Mini-Batches* and *GPU-Parallization*\n"
   ]
  },
  {
   "cell_type": "markdown",
   "metadata": {
    "slideshow": {
     "slide_type": "slide"
    }
   },
   "source": [
    "    /* this code block is 4-space indented */"
   ]
  },
  {
   "cell_type": "markdown",
   "metadata": {
    "slideshow": {
     "slide_type": "slide"
    }
   },
   "source": [
    "```\n",
    "# this code block is within triple backquotes\n",
    "```"
   ]
  },
  {
   "cell_type": "markdown",
   "metadata": {},
   "source": [
    "\\begin{equation}%\\label{eq:theta}\n",
    "h_\\theta(x)=\\sum\\limits_{i=0}^{n}\\theta_j x_j\\\\\n",
    "J(\\theta)=\\frac{1}{2m}\\sum\\limits_{i=1}\n",
    "\\end{equation}\n",
    "\n"
   ]
  },
  {
   "cell_type": "code",
   "execution_count": 1,
   "metadata": {},
   "outputs": [],
   "source": [
    "from __future__ import print_function, division\n",
    "%matplotlib inline\n",
    "import math,sys,os,numpy as np\n",
    "from numpy.random import random, permutation, randint\n",
    "from matplotlib import pyplot as plt, rcParams, animation, rc\n",
    "from ipywidgets import interact, interactive, fixed\n",
    "from ipywidgets.widgets import *\n",
    "rc('animation', html='html5')\n",
    "rcParams['figure.figsize'] = 3, 3\n",
    "%precision 4\n",
    "np.set_printoptions(precision=4, linewidth=100)\n",
    "np.random.seed(123)"
   ]
  },
  {
   "cell_type": "code",
   "execution_count": 2,
   "metadata": {},
   "outputs": [],
   "source": [
    "def loss(y,a,b,x): return sse(y, lin(a,b,x))\n",
    "def sse(y,y_pred): return ((y-y_pred)**2).sum()"
   ]
  },
  {
   "cell_type": "markdown",
   "metadata": {
    "slideshow": {
     "slide_type": "slide"
    }
   },
   "source": [
    "Wir starten mit der Geradengleichung\n",
    "\\begin{equation}\\label{eq:1}\n",
    "y=a\\mathbf{x}+b\\\n",
    "\\end{equation}\n"
   ]
  },
  {
   "cell_type": "code",
   "execution_count": 3,
   "metadata": {
    "slideshow": {
     "slide_type": ""
    }
   },
   "outputs": [],
   "source": [
    "def lin(a,b,x): return a*x+b"
   ]
  },
  {
   "cell_type": "code",
   "execution_count": 4,
   "metadata": {},
   "outputs": [],
   "source": [
    "a=1\n",
    "b=2\n",
    "a_start=-5\n",
    "b_start= -1\n",
    "lr=0.01"
   ]
  },
  {
   "cell_type": "code",
   "execution_count": 5,
   "metadata": {},
   "outputs": [],
   "source": [
    "n=30\n",
    "noise=np.random.normal(0,.9,n)\n",
    "x = random(n)\n",
    "y = lin(a,b,x)+noise"
   ]
  },
  {
   "cell_type": "code",
   "execution_count": 6,
   "metadata": {
    "slideshow": {
     "slide_type": "slide"
    }
   },
   "outputs": [
    {
     "data": {
      "text/plain": [
       "<matplotlib.collections.PathCollection at 0x2489a49b358>"
      ]
     },
     "execution_count": 6,
     "metadata": {},
     "output_type": "execute_result"
    },
    {
     "data": {
      "image/png": "[encoded data removed]",
      "text/plain": [
       "<Figure size 432x288 with 1 Axes>"
      ]
     },
     "metadata": {
      "needs_background": "light"
     },
     "output_type": "display_data"
    }
   ],
   "source": [
    "plt.scatter(x,y)"
   ]
  },
  {
   "cell_type": "markdown",
   "metadata": {},
   "source": [
    "\\begin{equation}%\\label{eq:theta}\n",
    "%h_\\theta(x)=\\sum\\limits_{i=0}^{n}\\theta_j x_j\\\\\n",
    "J(\\theta)=\\frac{1}{2m}\\sum\\limits_{i=1}\n",
    "\\end{equation}\n"
   ]
  },
  {
   "cell_type": "code",
   "execution_count": 7,
   "metadata": {
    "slideshow": {
     "slide_type": "slide"
    }
   },
   "outputs": [],
   "source": [
    "def upd(x,y):\n",
    "    global a_guess, b_guess\n",
    "    y_pred = lin(a_guess, b_guess, x)\n",
    "    a_guess = a_guess - lr * len(x)**-1*((y_pred-y) * x).sum()\n",
    "    b_guess = b_guess - lr * len(x)**-1*((y_pred-y)).sum()\n",
    "    \n",
    "    "
   ]
  },
  {
   "cell_type": "code",
   "execution_count": 8,
   "metadata": {},
   "outputs": [],
   "source": [
    "def upd_stoastic(n):\n",
    "    global a_guess, b_guess\n",
    "    y_pred = lin(a_guess, b_guess, x[n])\n",
    "    a_guess = a_guess - lr * (y_pred-y[n])*x[n]\n",
    "    b_guess = b_guess - lr * (y_pred-y[n])"
   ]
  },
  {
   "cell_type": "code",
   "execution_count": 9,
   "metadata": {
    "code_folding": []
   },
   "outputs": [],
   "source": [
    "def iterate_minibatches(inputs, targets, batchsize, shuffle=False):\n",
    "    assert inputs.shape[0] == targets.shape[0]\n",
    "    if shuffle:\n",
    "        indices = np.arange(inputs.shape[0])\n",
    "        np.random.shuffle(indices)\n",
    "    for start_idx in range(0, inputs.shape[0], batchsize):\n",
    "        end_idx = min(start_idx + batchsize, inputs.shape[0])\n",
    "        if shuffle:\n",
    "            excerpt = indices[start_idx:end_idx]\n",
    "        else:\n",
    "            excerpt = slice(start_idx, end_idx)\n",
    "        yield inputs[excerpt], targets[excerpt]"
   ]
  },
  {
   "cell_type": "code",
   "execution_count": 10,
   "metadata": {},
   "outputs": [
    {
     "data": {
      "text/plain": [
       "(10000,)"
      ]
     },
     "execution_count": 10,
     "metadata": {},
     "output_type": "execute_result"
    }
   ],
   "source": [
    "n=int(1e4)\n",
    "a_start=-1\n",
    "a_start=-2\n",
    "x = random(n)\n",
    "noise=np.random.normal(0,.9,n)\n",
    "y = lin(a,b,x)+noise\n",
    "x.shape"
   ]
  },
  {
   "cell_type": "code",
   "execution_count": null,
   "metadata": {},
   "outputs": [],
   "source": []
  },
  {
   "cell_type": "code",
   "execution_count": 11,
   "metadata": {
    "cell_style": "split",
    "code_folding": [
     10
    ],
    "slideshow": {
     "slide_type": "slide"
    }
   },
   "outputs": [
    {
     "ename": "IndentationError",
     "evalue": "unexpected indent (<unknown>, line 9)",
     "output_type": "error",
     "traceback": [
      "Traceback \u001b[1;36m(most recent call last)\u001b[0m:\n",
      "  File \u001b[0;32m\"C:\\Users\\ruediger\\Anaconda3\\envs\\pytorch\\lib\\site-packages\\IPython\\core\\interactiveshell.py\"\u001b[0m, line \u001b[0;32m3296\u001b[0m, in \u001b[0;35mrun_code\u001b[0m\n    exec(code_obj, self.user_global_ns, self.user_ns)\n",
      "  File \u001b[0;32m\"<ipython-input-11-64c147b4586d>\"\u001b[0m, line \u001b[0;32m1\u001b[0m, in \u001b[0;35m<module>\u001b[0m\n    get_ipython().run_cell_magic('time', '', 'a_guess=a_start\\nb_guess=b_start\\nglobal run\\nrun=0\\nfor i in range(100000):\\n    run=run+1\\n#     if np.mod(run,200)==1:\\n#         print( \"Run=%s, Loss= %.10s, a_guess= %.10s, b_guess= %.10s, a=%.10s, b=%.10s\" % (run, loss(y,a_guess,b_guess,x),a_guess,b_guess,a,b)) #Print information about current loss\\n        upd(x,y)    \\nprint( \"Run=%s, Loss= %.10s\\\\na_guess= %.10s, b_guess= %.10s\\\\na=%.10s, b=%.10s\" % (run, loss(y,a_guess,b_guess,x),a_guess,b_guess,a,b))\\n    \\n')\n",
      "  File \u001b[0;32m\"C:\\Users\\ruediger\\Anaconda3\\envs\\pytorch\\lib\\site-packages\\IPython\\core\\interactiveshell.py\"\u001b[0m, line \u001b[0;32m2352\u001b[0m, in \u001b[0;35mrun_cell_magic\u001b[0m\n    result = fn(*args, **kwargs)\n",
      "  File \u001b[0;32m\"<C:\\Users\\ruediger\\Anaconda3\\envs\\pytorch\\lib\\site-packages\\decorator.py:decorator-gen-62>\"\u001b[0m, line \u001b[0;32m2\u001b[0m, in \u001b[0;35mtime\u001b[0m\n",
      "  File \u001b[0;32m\"C:\\Users\\ruediger\\Anaconda3\\envs\\pytorch\\lib\\site-packages\\IPython\\core\\magic.py\"\u001b[0m, line \u001b[0;32m187\u001b[0m, in \u001b[0;35m<lambda>\u001b[0m\n    call = lambda f, *a, **k: f(*a, **k)\n",
      "  File \u001b[0;32m\"C:\\Users\\ruediger\\Anaconda3\\envs\\pytorch\\lib\\site-packages\\IPython\\core\\magics\\execution.py\"\u001b[0m, line \u001b[0;32m1255\u001b[0m, in \u001b[0;35mtime\u001b[0m\n    expr_ast = self.shell.compile.ast_parse(expr)\n",
      "\u001b[1;36m  File \u001b[1;32m\"C:\\Users\\ruediger\\Anaconda3\\envs\\pytorch\\lib\\site-packages\\IPython\\core\\compilerop.py\"\u001b[1;36m, line \u001b[1;32m100\u001b[1;36m, in \u001b[1;35mast_parse\u001b[1;36m\u001b[0m\n\u001b[1;33m    return compile(source, filename, symbol, self.flags | PyCF_ONLY_AST, 1)\u001b[0m\n",
      "\u001b[1;36m  File \u001b[1;32m\"<unknown>\"\u001b[1;36m, line \u001b[1;32m9\u001b[0m\n\u001b[1;33m    upd(x,y)\u001b[0m\n\u001b[1;37m    ^\u001b[0m\n\u001b[1;31mIndentationError\u001b[0m\u001b[1;31m:\u001b[0m unexpected indent\n"
     ]
    }
   ],
   "source": [
    "%%time \n",
    "a_guess=a_start\n",
    "b_guess=b_start\n",
    "global run\n",
    "run=0\n",
    "for i in range(100000):\n",
    "    run=run+1\n",
    "#     if np.mod(run,200)==1:\n",
    "#         print( \"Run=%s, Loss= %.10s, a_guess= %.10s, b_guess= %.10s, a=%.10s, b=%.10s\" % (run, loss(y,a_guess,b_guess,x),a_guess,b_guess,a,b)) #Print information about current loss\n",
    "    upd(x,y)    \n",
    "print( \"Run=%s, Loss= %.10s\\na_guess= %.10s, b_guess= %.10s\\na=%.10s, b=%.10s\" % (run, loss(y,a_guess,b_guess,x),a_guess,b_guess,a,b))\n",
    "    "
   ]
  },
  {
   "cell_type": "code",
   "execution_count": 181,
   "metadata": {
    "cell_style": "split",
    "code_folding": [],
    "scrolled": false
   },
   "outputs": [
    {
     "name": "stdout",
     "output_type": "stream",
     "text": [
      "Run=2, Loss= 273374.012\n",
      "a_guess= 1.27009492, b_guess= 2.17019003\n",
      "a=1, b=2\n",
      "Wall time: 2.1 s\n"
     ]
    }
   ],
   "source": [
    "%%time \n",
    "a_guess=a_start\n",
    "b_guess=b_start\n",
    "global run\n",
    "run=0\n",
    "for i in range(2):\n",
    "    run=run+1\n",
    "    np.random.seed(123)    \n",
    "#     print( \"Run=%s, Loss= %.10s, a_guess= %.10s, b_guess= %.10s, a=%.10s, b=%.10s\" % (run, loss(y,a_guess,b_guess,x),a_guess,b_guess,a,b))\n",
    "    for n in permutation(len(x)): \n",
    "            upd_stoastic(n)\n",
    "print( \"Run=%s, Loss= %.10s\\na_guess= %.10s, b_guess= %.10s\\na=%.10s, b=%.10s\" % (run, loss(y,a_guess,b_guess,x),a_guess,b_guess,a,b))"
   ]
  },
  {
   "cell_type": "code",
   "execution_count": 205,
   "metadata": {
    "slideshow": {
     "slide_type": "slide"
    }
   },
   "outputs": [
    {
     "name": "stdout",
     "output_type": "stream",
     "text": [
      "Run=0, Loss= 243573.787, a_guess= 1.00903471, b_guess= 1.99561960, a=1, b=2\n",
      "Wall time: 117 ms\n"
     ]
    }
   ],
   "source": [
    "%%time \n",
    "a_guess=a_start\n",
    "b_guess=b_start\n",
    "global run\n",
    "run=0\n",
    "for n in range(1):\n",
    "    for batch in iterate_minibatches(x, y, 100, shuffle=True):\n",
    "        x_batch, y_batch = batch\n",
    "        upd(x_batch,y_batch)\n",
    "print( \"Run=%s, Loss= %.10s, a_guess= %.10s, b_guess= %.10s, a=%.10s, b=%.10s\" % (run, loss(y,a_guess,b_guess,x),a_guess,b_guess,a,b))\n",
    "    "
   ]
  },
  {
   "cell_type": "code",
   "execution_count": 13,
   "metadata": {},
   "outputs": [],
   "source": [
    "import torch\n",
    "x_t=torch.from_numpy(x).cuda()\n",
    "y_t=torch.from_numpy(y).cuda()\n",
    "# a_guess_t=torch.tensor(a_guess).cuda()\n",
    "# b_guess_t=torch.tensor(b_guess).cuda()\n",
    "# lr_t=torch.tensor(lr).cuda()"
   ]
  },
  {
   "cell_type": "code",
   "execution_count": 231,
   "metadata": {},
   "outputs": [],
   "source": [
    "def upd_t(x_t,y_t):\n",
    "    global a_guess_t, b_guess_t\n",
    "    y_pred_t = a_guess_t*x_t+b_guess_t\n",
    "    a_guess_t = a_guess_t - lr_t * len(x_t)**-1*((y_pred_t-y_t) * x_t).sum()\n",
    "    b_guess_t = b_guess_t - lr_t * len(x_t)**-1*((y_pred_t-y_t)).sum()\n",
    "    \n",
    "    "
   ]
  },
  {
   "cell_type": "code",
   "execution_count": 237,
   "metadata": {
    "cell_style": "split",
    "code_folding": [
     10
    ],
    "scrolled": true,
    "slideshow": {
     "slide_type": "slide"
    }
   },
   "outputs": [
    {
     "ename": "TypeError",
     "evalue": "mul(): argument 'other' (position 1) must be Tensor, not numpy.ndarray",
     "output_type": "error",
     "traceback": [
      "\u001b[1;31m---------------------------------------------------------------------------\u001b[0m",
      "\u001b[1;31mTypeError\u001b[0m                                 Traceback (most recent call last)",
      "\u001b[1;32m<timed exec>\u001b[0m in \u001b[0;36m<module>\u001b[1;34m\u001b[0m\n",
      "\u001b[1;32m<ipython-input-2-91962d1a9a33>\u001b[0m in \u001b[0;36mloss\u001b[1;34m(y, a, b, x)\u001b[0m\n\u001b[1;32m----> 1\u001b[1;33m \u001b[1;32mdef\u001b[0m \u001b[0mloss\u001b[0m\u001b[1;33m(\u001b[0m\u001b[0my\u001b[0m\u001b[1;33m,\u001b[0m\u001b[0ma\u001b[0m\u001b[1;33m,\u001b[0m\u001b[0mb\u001b[0m\u001b[1;33m,\u001b[0m\u001b[0mx\u001b[0m\u001b[1;33m)\u001b[0m\u001b[1;33m:\u001b[0m \u001b[1;32mreturn\u001b[0m \u001b[0msse\u001b[0m\u001b[1;33m(\u001b[0m\u001b[0my\u001b[0m\u001b[1;33m,\u001b[0m \u001b[0mlin\u001b[0m\u001b[1;33m(\u001b[0m\u001b[0ma\u001b[0m\u001b[1;33m,\u001b[0m\u001b[0mb\u001b[0m\u001b[1;33m,\u001b[0m\u001b[0mx\u001b[0m\u001b[1;33m)\u001b[0m\u001b[1;33m)\u001b[0m\u001b[1;33m\u001b[0m\u001b[1;33m\u001b[0m\u001b[0m\n\u001b[0m\u001b[0;32m      2\u001b[0m \u001b[1;32mdef\u001b[0m \u001b[0msse\u001b[0m\u001b[1;33m(\u001b[0m\u001b[0my\u001b[0m\u001b[1;33m,\u001b[0m\u001b[0my_pred\u001b[0m\u001b[1;33m)\u001b[0m\u001b[1;33m:\u001b[0m \u001b[1;32mreturn\u001b[0m \u001b[1;33m(\u001b[0m\u001b[1;33m(\u001b[0m\u001b[0my\u001b[0m\u001b[1;33m-\u001b[0m\u001b[0my_pred\u001b[0m\u001b[1;33m)\u001b[0m\u001b[1;33m**\u001b[0m\u001b[1;36m2\u001b[0m\u001b[1;33m)\u001b[0m\u001b[1;33m.\u001b[0m\u001b[0msum\u001b[0m\u001b[1;33m(\u001b[0m\u001b[1;33m)\u001b[0m\u001b[1;33m\u001b[0m\u001b[1;33m\u001b[0m\u001b[0m\n",
      "\u001b[1;32m<ipython-input-3-a36d7b9403e4>\u001b[0m in \u001b[0;36mlin\u001b[1;34m(a, b, x)\u001b[0m\n\u001b[1;32m----> 1\u001b[1;33m \u001b[1;32mdef\u001b[0m \u001b[0mlin\u001b[0m\u001b[1;33m(\u001b[0m\u001b[0ma\u001b[0m\u001b[1;33m,\u001b[0m\u001b[0mb\u001b[0m\u001b[1;33m,\u001b[0m\u001b[0mx\u001b[0m\u001b[1;33m)\u001b[0m\u001b[1;33m:\u001b[0m \u001b[1;32mreturn\u001b[0m \u001b[0ma\u001b[0m\u001b[1;33m*\u001b[0m\u001b[0mx\u001b[0m\u001b[1;33m+\u001b[0m\u001b[0mb\u001b[0m\u001b[1;33m\u001b[0m\u001b[1;33m\u001b[0m\u001b[0m\n\u001b[0m",
      "\u001b[1;31mTypeError\u001b[0m: mul(): argument 'other' (position 1) must be Tensor, not numpy.ndarray"
     ]
    }
   ],
   "source": [
    "%%time \n",
    "a_guess=a_start\n",
    "b_guess=b_start\n",
    "a_guess_t=torch.tensor(a_guess).cuda()\n",
    "b_guess_t=torch.tensor(b_guess).cuda()\n",
    "global run\n",
    "run=0\n",
    "for i in range(100000):\n",
    "    run=run+1\n",
    "    if np.mod(run,200)==1:\n",
    "#         print( \"Run=%s, Loss= %.10s, a_guess= %.10s, b_guess= %.10s, a=%.10s, b=%.10s\" % (run, loss(y,a_guess,b_guess,x),a_guess,b_guess,a,b)) #Print information about current loss\n",
    "        upd_t2(x_t,y_t)    \n",
    "# a_guess=a_guess_t.cpu().numpy()\n",
    "# b_guess=b_guess_t.cpu().numpy()\n",
    "print( \"Run=%s, Loss= %.10s, a_guess= %.10s, b_guess= %.10s, a=%.10s, b=%.10s\" % (run, loss(y,a_guess,b_guess,x),a_guess,b_guess,a,b))\n",
    "    "
   ]
  },
  {
   "cell_type": "code",
   "execution_count": 230,
   "metadata": {},
   "outputs": [
    {
     "data": {
      "text/plain": [
       "tensor([-1.4564, -1.9244, -1.3502,  ..., -1.6847, -1.9781, -1.0824],\n",
       "       device='cuda:0', dtype=torch.float64)"
      ]
     },
     "execution_count": 230,
     "metadata": {},
     "output_type": "execute_result"
    }
   ],
   "source": [
    "a_guess_t=torch.tensor(a_guess).cuda()\n",
    "b_guess_t=torch.tensor(b_guess).cuda()\n",
    "y_pred_t = a_guess*x_t+b_guess\n",
    "y_pred_t"
   ]
  },
  {
   "cell_type": "markdown",
   "metadata": {
    "cell_style": "split"
   },
   "source": [
    "\\begin{equation}\\label{eq:}\n",
    "\\frac{X}{Y}\n",
    "\\end{equation}\n"
   ]
  },
  {
   "cell_type": "markdown",
   "metadata": {
    "cell_style": "split"
   },
   "source": [
    "\\begin{equation}\\label{eq:2}\n",
    "\\frac{X}{Y}\n",
    "\\end{equation}\n"
   ]
  },
  {
   "cell_type": "code",
   "execution_count": 14,
   "metadata": {
    "cell_style": "split",
    "code_folding": [
     10
    ],
    "slideshow": {
     "slide_type": "slide"
    }
   },
   "outputs": [
    {
     "name": "stdout",
     "output_type": "stream",
     "text": [
      "Run=100000, Loss= 8219.44720\n",
      "a_guess= 0.99119820, b_guess= 2.02127546\n",
      "a=1, b=2\n",
      "Wall time: 7.04 s\n"
     ]
    }
   ],
   "source": [
    "%%time \n",
    "a_guess=a_start\n",
    "b_guess=b_start\n",
    "global run\n",
    "run=0\n",
    "for i in range(100000):\n",
    "    run=run+1\n",
    "#     if np.mod(run,200)==1:\n",
    "#         print( \"Run=%s, Loss= %.10s, a_guess= %.10s, b_guess= %.10s, a=%.10s, b=%.10s\" % (run, loss(y,a_guess,b_guess,x),a_guess,b_guess,a,b)) #Print information about current loss\n",
    "    upd(x,y)    \n",
    "print( \"Run=%s, Loss= %.10s\\na_guess= %.10s, b_guess= %.10s\\na=%.10s, b=%.10s\" % (run, loss(y,a_guess,b_guess,x),a_guess,b_guess,a,b))\n",
    "    "
   ]
  },
  {
   "cell_type": "code",
   "execution_count": null,
   "metadata": {
    "cell_style": "split",
    "code_folding": [
     10
    ],
    "slideshow": {
     "slide_type": "slide"
    }
   },
   "outputs": [],
   "source": [
    "%%time \n",
    "a_guess=a_start\n",
    "b_guess=b_start\n",
    "global run\n",
    "run=0\n",
    "for i in range(100000):\n",
    "    run=run+1\n",
    "#      if np.mod(run,200)==1:\n",
    "#         print( \"Run=%s, Loss= %.10s, a_guess= %.10s, b_guess= %.10s, a=%.10s, b=%.10s\" % (run, loss(y,a_guess,b_guess,x),a_guess,b_guess,a,b)) #Print information about current loss\n",
    "    upd(x_t,y_t)\n",
    "a_guess=a_guess_t.cpu().numpy()\n",
    "b_guess=b_guess_t.cpu().numpy()\n",
    "print( \"Run=%s, Loss= %.10s\\na_guess= %.10s, b_guess= %.10s\\na=%.10s, b=%.10s\" % (run, loss(y,a_guess,b_guess,x),a_guess,b_guess,a,b))\n",
    "    "
   ]
  },
  {
   "cell_type": "code",
   "execution_count": 213,
   "metadata": {},
   "outputs": [
    {
     "data": {
      "text/plain": [
       "numpy.ndarray"
      ]
     },
     "execution_count": 213,
     "metadata": {},
     "output_type": "execute_result"
    }
   ],
   "source": [
    " type(a_guess)"
   ]
  },
  {
   "cell_type": "code",
   "execution_count": 214,
   "metadata": {
    "cell_style": "split",
    "code_folding": [
     10
    ],
    "slideshow": {
     "slide_type": "slide"
    }
   },
   "outputs": [
    {
     "name": "stdout",
     "output_type": "stream",
     "text": [
      "Run=100000, Loss= 690565076., a_guess= 5.50100394, b_guess= 47.7008151, a=1, b=2\n"
     ]
    }
   ],
   "source": []
  },
  {
   "cell_type": "code",
   "execution_count": 204,
   "metadata": {},
   "outputs": [
    {
     "data": {
      "text/plain": [
       "numpy.ndarray"
      ]
     },
     "execution_count": 204,
     "metadata": {},
     "output_type": "execute_result"
    }
   ],
   "source": [
    "type()"
   ]
  },
  {
   "cell_type": "markdown",
   "metadata": {},
   "source": [
    "# Animation Area"
   ]
  },
  {
   "cell_type": "code",
   "execution_count": 121,
   "metadata": {
    "slideshow": {
     "slide_type": "slide"
    }
   },
   "outputs": [
    {
     "name": "stdout",
     "output_type": "stream",
     "text": [
      "Run = 1 , Loss= 6540942.17, a_guess= -2, b_guess= -1, a=1, b=2\n",
      "Run = 11 , Loss= 1108846.24, a_guess= -0.6766776, b_guess= 1.21032221, a=1, b=2\n"
     ]
    },
    {
     "ename": "KeyboardInterrupt",
     "evalue": "",
     "output_type": "error",
     "traceback": [
      "\u001b[1;31m---------------------------------------------------------------------------\u001b[0m",
      "\u001b[1;31mKeyboardInterrupt\u001b[0m                         Traceback (most recent call last)",
      "\u001b[1;32m<ipython-input-121-2cf3c1e4c84e>\u001b[0m in \u001b[0;36m<module>\u001b[1;34m\u001b[0m\n\u001b[0;32m     25\u001b[0m \u001b[0mani_stoch\u001b[0m \u001b[1;33m=\u001b[0m \u001b[0manimation\u001b[0m\u001b[1;33m.\u001b[0m\u001b[0mFuncAnimation\u001b[0m\u001b[1;33m(\u001b[0m\u001b[0mfig\u001b[0m\u001b[1;33m,\u001b[0m \u001b[0manimate_stochastic\u001b[0m\u001b[1;33m,\u001b[0m \u001b[0mnp\u001b[0m\u001b[1;33m.\u001b[0m\u001b[0marange\u001b[0m\u001b[1;33m(\u001b[0m\u001b[1;36m0\u001b[0m\u001b[1;33m,\u001b[0m \u001b[1;36m70\u001b[0m\u001b[1;33m)\u001b[0m\u001b[1;33m,\u001b[0m \u001b[0minterval\u001b[0m\u001b[1;33m=\u001b[0m\u001b[1;36m100\u001b[0m\u001b[1;33m)\u001b[0m\u001b[1;33m\u001b[0m\u001b[1;33m\u001b[0m\u001b[0m\n\u001b[0;32m     26\u001b[0m \u001b[1;33m\u001b[0m\u001b[0m\n\u001b[1;32m---> 27\u001b[1;33m \u001b[0mani_stoch\u001b[0m\u001b[1;33m\u001b[0m\u001b[1;33m\u001b[0m\u001b[0m\n\u001b[0m",
      "\u001b[1;32m~\\Anaconda3\\envs\\pytorch\\lib\\site-packages\\IPython\\core\\displayhook.py\u001b[0m in \u001b[0;36m__call__\u001b[1;34m(self, result)\u001b[0m\n\u001b[0;32m    255\u001b[0m             \u001b[0mself\u001b[0m\u001b[1;33m.\u001b[0m\u001b[0mstart_displayhook\u001b[0m\u001b[1;33m(\u001b[0m\u001b[1;33m)\u001b[0m\u001b[1;33m\u001b[0m\u001b[1;33m\u001b[0m\u001b[0m\n\u001b[0;32m    256\u001b[0m             \u001b[0mself\u001b[0m\u001b[1;33m.\u001b[0m\u001b[0mwrite_output_prompt\u001b[0m\u001b[1;33m(\u001b[0m\u001b[1;33m)\u001b[0m\u001b[1;33m\u001b[0m\u001b[1;33m\u001b[0m\u001b[0m\n\u001b[1;32m--> 257\u001b[1;33m             \u001b[0mformat_dict\u001b[0m\u001b[1;33m,\u001b[0m \u001b[0mmd_dict\u001b[0m \u001b[1;33m=\u001b[0m \u001b[0mself\u001b[0m\u001b[1;33m.\u001b[0m\u001b[0mcompute_format_data\u001b[0m\u001b[1;33m(\u001b[0m\u001b[0mresult\u001b[0m\u001b[1;33m)\u001b[0m\u001b[1;33m\u001b[0m\u001b[1;33m\u001b[0m\u001b[0m\n\u001b[0m\u001b[0;32m    258\u001b[0m             \u001b[0mself\u001b[0m\u001b[1;33m.\u001b[0m\u001b[0mupdate_user_ns\u001b[0m\u001b[1;33m(\u001b[0m\u001b[0mresult\u001b[0m\u001b[1;33m)\u001b[0m\u001b[1;33m\u001b[0m\u001b[1;33m\u001b[0m\u001b[0m\n\u001b[0;32m    259\u001b[0m             \u001b[0mself\u001b[0m\u001b[1;33m.\u001b[0m\u001b[0mfill_exec_result\u001b[0m\u001b[1;33m(\u001b[0m\u001b[0mresult\u001b[0m\u001b[1;33m)\u001b[0m\u001b[1;33m\u001b[0m\u001b[1;33m\u001b[0m\u001b[0m\n",
      "\u001b[1;32m~\\Anaconda3\\envs\\pytorch\\lib\\site-packages\\IPython\\core\\displayhook.py\u001b[0m in \u001b[0;36mcompute_format_data\u001b[1;34m(self, result)\u001b[0m\n\u001b[0;32m    149\u001b[0m \u001b[1;33m\u001b[0m\u001b[0m\n\u001b[0;32m    150\u001b[0m         \"\"\"\n\u001b[1;32m--> 151\u001b[1;33m         \u001b[1;32mreturn\u001b[0m \u001b[0mself\u001b[0m\u001b[1;33m.\u001b[0m\u001b[0mshell\u001b[0m\u001b[1;33m.\u001b[0m\u001b[0mdisplay_formatter\u001b[0m\u001b[1;33m.\u001b[0m\u001b[0mformat\u001b[0m\u001b[1;33m(\u001b[0m\u001b[0mresult\u001b[0m\u001b[1;33m)\u001b[0m\u001b[1;33m\u001b[0m\u001b[1;33m\u001b[0m\u001b[0m\n\u001b[0m\u001b[0;32m    152\u001b[0m \u001b[1;33m\u001b[0m\u001b[0m\n\u001b[0;32m    153\u001b[0m     \u001b[1;31m# This can be set to True by the write_output_prompt method in a subclass\u001b[0m\u001b[1;33m\u001b[0m\u001b[1;33m\u001b[0m\u001b[1;33m\u001b[0m\u001b[0m\n",
      "\u001b[1;32m~\\Anaconda3\\envs\\pytorch\\lib\\site-packages\\IPython\\core\\formatters.py\u001b[0m in \u001b[0;36mformat\u001b[1;34m(self, obj, include, exclude)\u001b[0m\n\u001b[0;32m    178\u001b[0m             \u001b[0mmd\u001b[0m \u001b[1;33m=\u001b[0m \u001b[1;32mNone\u001b[0m\u001b[1;33m\u001b[0m\u001b[1;33m\u001b[0m\u001b[0m\n\u001b[0;32m    179\u001b[0m             \u001b[1;32mtry\u001b[0m\u001b[1;33m:\u001b[0m\u001b[1;33m\u001b[0m\u001b[1;33m\u001b[0m\u001b[0m\n\u001b[1;32m--> 180\u001b[1;33m                 \u001b[0mdata\u001b[0m \u001b[1;33m=\u001b[0m \u001b[0mformatter\u001b[0m\u001b[1;33m(\u001b[0m\u001b[0mobj\u001b[0m\u001b[1;33m)\u001b[0m\u001b[1;33m\u001b[0m\u001b[1;33m\u001b[0m\u001b[0m\n\u001b[0m\u001b[0;32m    181\u001b[0m             \u001b[1;32mexcept\u001b[0m\u001b[1;33m:\u001b[0m\u001b[1;33m\u001b[0m\u001b[1;33m\u001b[0m\u001b[0m\n\u001b[0;32m    182\u001b[0m                 \u001b[1;31m# FIXME: log the exception\u001b[0m\u001b[1;33m\u001b[0m\u001b[1;33m\u001b[0m\u001b[1;33m\u001b[0m\u001b[0m\n",
      "\u001b[1;32m<C:\\Users\\ruediger\\Anaconda3\\envs\\pytorch\\lib\\site-packages\\decorator.py:decorator-gen-9>\u001b[0m in \u001b[0;36m__call__\u001b[1;34m(self, obj)\u001b[0m\n",
      "\u001b[1;32m~\\Anaconda3\\envs\\pytorch\\lib\\site-packages\\IPython\\core\\formatters.py\u001b[0m in \u001b[0;36mcatch_format_error\u001b[1;34m(method, self, *args, **kwargs)\u001b[0m\n\u001b[0;32m    222\u001b[0m     \u001b[1;34m\"\"\"show traceback on failed format call\"\"\"\u001b[0m\u001b[1;33m\u001b[0m\u001b[1;33m\u001b[0m\u001b[0m\n\u001b[0;32m    223\u001b[0m     \u001b[1;32mtry\u001b[0m\u001b[1;33m:\u001b[0m\u001b[1;33m\u001b[0m\u001b[1;33m\u001b[0m\u001b[0m\n\u001b[1;32m--> 224\u001b[1;33m         \u001b[0mr\u001b[0m \u001b[1;33m=\u001b[0m \u001b[0mmethod\u001b[0m\u001b[1;33m(\u001b[0m\u001b[0mself\u001b[0m\u001b[1;33m,\u001b[0m \u001b[1;33m*\u001b[0m\u001b[0margs\u001b[0m\u001b[1;33m,\u001b[0m \u001b[1;33m**\u001b[0m\u001b[0mkwargs\u001b[0m\u001b[1;33m)\u001b[0m\u001b[1;33m\u001b[0m\u001b[1;33m\u001b[0m\u001b[0m\n\u001b[0m\u001b[0;32m    225\u001b[0m     \u001b[1;32mexcept\u001b[0m \u001b[0mNotImplementedError\u001b[0m\u001b[1;33m:\u001b[0m\u001b[1;33m\u001b[0m\u001b[1;33m\u001b[0m\u001b[0m\n\u001b[0;32m    226\u001b[0m         \u001b[1;31m# don't warn on NotImplementedErrors\u001b[0m\u001b[1;33m\u001b[0m\u001b[1;33m\u001b[0m\u001b[1;33m\u001b[0m\u001b[0m\n",
      "\u001b[1;32m~\\Anaconda3\\envs\\pytorch\\lib\\site-packages\\IPython\\core\\formatters.py\u001b[0m in \u001b[0;36m__call__\u001b[1;34m(self, obj)\u001b[0m\n\u001b[0;32m    343\u001b[0m             \u001b[0mmethod\u001b[0m \u001b[1;33m=\u001b[0m \u001b[0mget_real_method\u001b[0m\u001b[1;33m(\u001b[0m\u001b[0mobj\u001b[0m\u001b[1;33m,\u001b[0m \u001b[0mself\u001b[0m\u001b[1;33m.\u001b[0m\u001b[0mprint_method\u001b[0m\u001b[1;33m)\u001b[0m\u001b[1;33m\u001b[0m\u001b[1;33m\u001b[0m\u001b[0m\n\u001b[0;32m    344\u001b[0m             \u001b[1;32mif\u001b[0m \u001b[0mmethod\u001b[0m \u001b[1;32mis\u001b[0m \u001b[1;32mnot\u001b[0m \u001b[1;32mNone\u001b[0m\u001b[1;33m:\u001b[0m\u001b[1;33m\u001b[0m\u001b[1;33m\u001b[0m\u001b[0m\n\u001b[1;32m--> 345\u001b[1;33m                 \u001b[1;32mreturn\u001b[0m \u001b[0mmethod\u001b[0m\u001b[1;33m(\u001b[0m\u001b[1;33m)\u001b[0m\u001b[1;33m\u001b[0m\u001b[1;33m\u001b[0m\u001b[0m\n\u001b[0m\u001b[0;32m    346\u001b[0m             \u001b[1;32mreturn\u001b[0m \u001b[1;32mNone\u001b[0m\u001b[1;33m\u001b[0m\u001b[1;33m\u001b[0m\u001b[0m\n\u001b[0;32m    347\u001b[0m         \u001b[1;32melse\u001b[0m\u001b[1;33m:\u001b[0m\u001b[1;33m\u001b[0m\u001b[1;33m\u001b[0m\u001b[0m\n",
      "\u001b[1;32m~\\Anaconda3\\envs\\pytorch\\lib\\site-packages\\matplotlib\\animation.py\u001b[0m in \u001b[0;36m_repr_html_\u001b[1;34m(self)\u001b[0m\n\u001b[0;32m   1400\u001b[0m         \u001b[0mfmt\u001b[0m \u001b[1;33m=\u001b[0m \u001b[0mrcParams\u001b[0m\u001b[1;33m[\u001b[0m\u001b[1;34m'animation.html'\u001b[0m\u001b[1;33m]\u001b[0m\u001b[1;33m\u001b[0m\u001b[1;33m\u001b[0m\u001b[0m\n\u001b[0;32m   1401\u001b[0m         \u001b[1;32mif\u001b[0m \u001b[0mfmt\u001b[0m \u001b[1;33m==\u001b[0m \u001b[1;34m'html5'\u001b[0m\u001b[1;33m:\u001b[0m\u001b[1;33m\u001b[0m\u001b[1;33m\u001b[0m\u001b[0m\n\u001b[1;32m-> 1402\u001b[1;33m             \u001b[1;32mreturn\u001b[0m \u001b[0mself\u001b[0m\u001b[1;33m.\u001b[0m\u001b[0mto_html5_video\u001b[0m\u001b[1;33m(\u001b[0m\u001b[1;33m)\u001b[0m\u001b[1;33m\u001b[0m\u001b[1;33m\u001b[0m\u001b[0m\n\u001b[0m\u001b[0;32m   1403\u001b[0m         \u001b[1;32melif\u001b[0m \u001b[0mfmt\u001b[0m \u001b[1;33m==\u001b[0m \u001b[1;34m'jshtml'\u001b[0m\u001b[1;33m:\u001b[0m\u001b[1;33m\u001b[0m\u001b[1;33m\u001b[0m\u001b[0m\n\u001b[0;32m   1404\u001b[0m             \u001b[1;32mreturn\u001b[0m \u001b[0mself\u001b[0m\u001b[1;33m.\u001b[0m\u001b[0mto_jshtml\u001b[0m\u001b[1;33m(\u001b[0m\u001b[1;33m)\u001b[0m\u001b[1;33m\u001b[0m\u001b[1;33m\u001b[0m\u001b[0m\n",
      "\u001b[1;32m~\\Anaconda3\\envs\\pytorch\\lib\\site-packages\\matplotlib\\animation.py\u001b[0m in \u001b[0;36mto_html5_video\u001b[1;34m(self, embed_limit)\u001b[0m\n\u001b[0;32m   1341\u001b[0m                                 \u001b[0mbitrate\u001b[0m\u001b[1;33m=\u001b[0m\u001b[0mrcParams\u001b[0m\u001b[1;33m[\u001b[0m\u001b[1;34m'animation.bitrate'\u001b[0m\u001b[1;33m]\u001b[0m\u001b[1;33m,\u001b[0m\u001b[1;33m\u001b[0m\u001b[1;33m\u001b[0m\u001b[0m\n\u001b[0;32m   1342\u001b[0m                                 fps=1000. / self._interval)\n\u001b[1;32m-> 1343\u001b[1;33m                 \u001b[0mself\u001b[0m\u001b[1;33m.\u001b[0m\u001b[0msave\u001b[0m\u001b[1;33m(\u001b[0m\u001b[0mstr\u001b[0m\u001b[1;33m(\u001b[0m\u001b[0mpath\u001b[0m\u001b[1;33m)\u001b[0m\u001b[1;33m,\u001b[0m \u001b[0mwriter\u001b[0m\u001b[1;33m=\u001b[0m\u001b[0mwriter\u001b[0m\u001b[1;33m)\u001b[0m\u001b[1;33m\u001b[0m\u001b[1;33m\u001b[0m\u001b[0m\n\u001b[0m\u001b[0;32m   1344\u001b[0m                 \u001b[1;31m# Now open and base64 encode.\u001b[0m\u001b[1;33m\u001b[0m\u001b[1;33m\u001b[0m\u001b[1;33m\u001b[0m\u001b[0m\n\u001b[0;32m   1345\u001b[0m                 \u001b[0mvid64\u001b[0m \u001b[1;33m=\u001b[0m \u001b[0mbase64\u001b[0m\u001b[1;33m.\u001b[0m\u001b[0mencodebytes\u001b[0m\u001b[1;33m(\u001b[0m\u001b[0mpath\u001b[0m\u001b[1;33m.\u001b[0m\u001b[0mread_bytes\u001b[0m\u001b[1;33m(\u001b[0m\u001b[1;33m)\u001b[0m\u001b[1;33m)\u001b[0m\u001b[1;33m\u001b[0m\u001b[1;33m\u001b[0m\u001b[0m\n",
      "\u001b[1;32m~\\Anaconda3\\envs\\pytorch\\lib\\site-packages\\matplotlib\\animation.py\u001b[0m in \u001b[0;36msave\u001b[1;34m(self, filename, writer, fps, dpi, codec, bitrate, extra_args, metadata, extra_anim, savefig_kwargs)\u001b[0m\n\u001b[0;32m   1172\u001b[0m                         \u001b[1;31m# TODO: See if turning off blit is really necessary\u001b[0m\u001b[1;33m\u001b[0m\u001b[1;33m\u001b[0m\u001b[1;33m\u001b[0m\u001b[0m\n\u001b[0;32m   1173\u001b[0m                         \u001b[0manim\u001b[0m\u001b[1;33m.\u001b[0m\u001b[0m_draw_next_frame\u001b[0m\u001b[1;33m(\u001b[0m\u001b[0md\u001b[0m\u001b[1;33m,\u001b[0m \u001b[0mblit\u001b[0m\u001b[1;33m=\u001b[0m\u001b[1;32mFalse\u001b[0m\u001b[1;33m)\u001b[0m\u001b[1;33m\u001b[0m\u001b[1;33m\u001b[0m\u001b[0m\n\u001b[1;32m-> 1174\u001b[1;33m                     \u001b[0mwriter\u001b[0m\u001b[1;33m.\u001b[0m\u001b[0mgrab_frame\u001b[0m\u001b[1;33m(\u001b[0m\u001b[1;33m**\u001b[0m\u001b[0msavefig_kwargs\u001b[0m\u001b[1;33m)\u001b[0m\u001b[1;33m\u001b[0m\u001b[1;33m\u001b[0m\u001b[0m\n\u001b[0m\u001b[0;32m   1175\u001b[0m \u001b[1;33m\u001b[0m\u001b[0m\n\u001b[0;32m   1176\u001b[0m         \u001b[1;31m# Reconnect signal for first draw if necessary\u001b[0m\u001b[1;33m\u001b[0m\u001b[1;33m\u001b[0m\u001b[1;33m\u001b[0m\u001b[0m\n",
      "\u001b[1;32m~\\Anaconda3\\envs\\pytorch\\lib\\site-packages\\matplotlib\\animation.py\u001b[0m in \u001b[0;36mgrab_frame\u001b[1;34m(self, **savefig_kwargs)\u001b[0m\n\u001b[0;32m    374\u001b[0m             \u001b[1;31m# frame format and dpi.\u001b[0m\u001b[1;33m\u001b[0m\u001b[1;33m\u001b[0m\u001b[1;33m\u001b[0m\u001b[0m\n\u001b[0;32m    375\u001b[0m             self.fig.savefig(self._frame_sink(), format=self.frame_format,\n\u001b[1;32m--> 376\u001b[1;33m                              dpi=self.dpi, **savefig_kwargs)\n\u001b[0m\u001b[0;32m    377\u001b[0m         \u001b[1;32mexcept\u001b[0m \u001b[1;33m(\u001b[0m\u001b[0mRuntimeError\u001b[0m\u001b[1;33m,\u001b[0m \u001b[0mIOError\u001b[0m\u001b[1;33m)\u001b[0m \u001b[1;32mas\u001b[0m \u001b[0me\u001b[0m\u001b[1;33m:\u001b[0m\u001b[1;33m\u001b[0m\u001b[1;33m\u001b[0m\u001b[0m\n\u001b[0;32m    378\u001b[0m             \u001b[0mout\u001b[0m\u001b[1;33m,\u001b[0m \u001b[0merr\u001b[0m \u001b[1;33m=\u001b[0m \u001b[0mself\u001b[0m\u001b[1;33m.\u001b[0m\u001b[0m_proc\u001b[0m\u001b[1;33m.\u001b[0m\u001b[0mcommunicate\u001b[0m\u001b[1;33m(\u001b[0m\u001b[1;33m)\u001b[0m\u001b[1;33m\u001b[0m\u001b[1;33m\u001b[0m\u001b[0m\n",
      "\u001b[1;32m~\\Anaconda3\\envs\\pytorch\\lib\\site-packages\\matplotlib\\figure.py\u001b[0m in \u001b[0;36msavefig\u001b[1;34m(self, fname, frameon, transparent, **kwargs)\u001b[0m\n\u001b[0;32m   2092\u001b[0m             \u001b[0mself\u001b[0m\u001b[1;33m.\u001b[0m\u001b[0mset_frameon\u001b[0m\u001b[1;33m(\u001b[0m\u001b[0mframeon\u001b[0m\u001b[1;33m)\u001b[0m\u001b[1;33m\u001b[0m\u001b[1;33m\u001b[0m\u001b[0m\n\u001b[0;32m   2093\u001b[0m \u001b[1;33m\u001b[0m\u001b[0m\n\u001b[1;32m-> 2094\u001b[1;33m         \u001b[0mself\u001b[0m\u001b[1;33m.\u001b[0m\u001b[0mcanvas\u001b[0m\u001b[1;33m.\u001b[0m\u001b[0mprint_figure\u001b[0m\u001b[1;33m(\u001b[0m\u001b[0mfname\u001b[0m\u001b[1;33m,\u001b[0m \u001b[1;33m**\u001b[0m\u001b[0mkwargs\u001b[0m\u001b[1;33m)\u001b[0m\u001b[1;33m\u001b[0m\u001b[1;33m\u001b[0m\u001b[0m\n\u001b[0m\u001b[0;32m   2095\u001b[0m \u001b[1;33m\u001b[0m\u001b[0m\n\u001b[0;32m   2096\u001b[0m         \u001b[1;32mif\u001b[0m \u001b[0mframeon\u001b[0m\u001b[1;33m:\u001b[0m\u001b[1;33m\u001b[0m\u001b[1;33m\u001b[0m\u001b[0m\n",
      "\u001b[1;32m~\\Anaconda3\\envs\\pytorch\\lib\\site-packages\\matplotlib\\backend_bases.py\u001b[0m in \u001b[0;36mprint_figure\u001b[1;34m(self, filename, dpi, facecolor, edgecolor, orientation, format, bbox_inches, **kwargs)\u001b[0m\n\u001b[0;32m   2073\u001b[0m                     \u001b[0morientation\u001b[0m\u001b[1;33m=\u001b[0m\u001b[0morientation\u001b[0m\u001b[1;33m,\u001b[0m\u001b[1;33m\u001b[0m\u001b[1;33m\u001b[0m\u001b[0m\n\u001b[0;32m   2074\u001b[0m                     \u001b[0mbbox_inches_restore\u001b[0m\u001b[1;33m=\u001b[0m\u001b[0m_bbox_inches_restore\u001b[0m\u001b[1;33m,\u001b[0m\u001b[1;33m\u001b[0m\u001b[1;33m\u001b[0m\u001b[0m\n\u001b[1;32m-> 2075\u001b[1;33m                     **kwargs)\n\u001b[0m\u001b[0;32m   2076\u001b[0m             \u001b[1;32mfinally\u001b[0m\u001b[1;33m:\u001b[0m\u001b[1;33m\u001b[0m\u001b[1;33m\u001b[0m\u001b[0m\n\u001b[0;32m   2077\u001b[0m                 \u001b[1;32mif\u001b[0m \u001b[0mbbox_inches\u001b[0m \u001b[1;32mand\u001b[0m \u001b[0mrestore_bbox\u001b[0m\u001b[1;33m:\u001b[0m\u001b[1;33m\u001b[0m\u001b[1;33m\u001b[0m\u001b[0m\n",
      "\u001b[1;32m~\\Anaconda3\\envs\\pytorch\\lib\\site-packages\\matplotlib\\backends\\backend_agg.py\u001b[0m in \u001b[0;36mprint_raw\u001b[1;34m(self, filename_or_obj, *args, **kwargs)\u001b[0m\n\u001b[0;32m    459\u001b[0m \u001b[1;33m\u001b[0m\u001b[0m\n\u001b[0;32m    460\u001b[0m     \u001b[1;32mdef\u001b[0m \u001b[0mprint_raw\u001b[0m\u001b[1;33m(\u001b[0m\u001b[0mself\u001b[0m\u001b[1;33m,\u001b[0m \u001b[0mfilename_or_obj\u001b[0m\u001b[1;33m,\u001b[0m \u001b[1;33m*\u001b[0m\u001b[0margs\u001b[0m\u001b[1;33m,\u001b[0m \u001b[1;33m**\u001b[0m\u001b[0mkwargs\u001b[0m\u001b[1;33m)\u001b[0m\u001b[1;33m:\u001b[0m\u001b[1;33m\u001b[0m\u001b[1;33m\u001b[0m\u001b[0m\n\u001b[1;32m--> 461\u001b[1;33m         \u001b[0mFigureCanvasAgg\u001b[0m\u001b[1;33m.\u001b[0m\u001b[0mdraw\u001b[0m\u001b[1;33m(\u001b[0m\u001b[0mself\u001b[0m\u001b[1;33m)\u001b[0m\u001b[1;33m\u001b[0m\u001b[1;33m\u001b[0m\u001b[0m\n\u001b[0m\u001b[0;32m    462\u001b[0m         \u001b[0mrenderer\u001b[0m \u001b[1;33m=\u001b[0m \u001b[0mself\u001b[0m\u001b[1;33m.\u001b[0m\u001b[0mget_renderer\u001b[0m\u001b[1;33m(\u001b[0m\u001b[1;33m)\u001b[0m\u001b[1;33m\u001b[0m\u001b[1;33m\u001b[0m\u001b[0m\n\u001b[0;32m    463\u001b[0m         \u001b[1;32mwith\u001b[0m \u001b[0mcbook\u001b[0m\u001b[1;33m.\u001b[0m\u001b[0m_setattr_cm\u001b[0m\u001b[1;33m(\u001b[0m\u001b[0mrenderer\u001b[0m\u001b[1;33m,\u001b[0m \u001b[0mdpi\u001b[0m\u001b[1;33m=\u001b[0m\u001b[0mself\u001b[0m\u001b[1;33m.\u001b[0m\u001b[0mfigure\u001b[0m\u001b[1;33m.\u001b[0m\u001b[0mdpi\u001b[0m\u001b[1;33m)\u001b[0m\u001b[1;33m,\u001b[0m\u001b[0;31m \u001b[0m\u001b[0;31m\\\u001b[0m\u001b[1;33m\u001b[0m\u001b[1;33m\u001b[0m\u001b[0m\n",
      "\u001b[1;32m~\\Anaconda3\\envs\\pytorch\\lib\\site-packages\\matplotlib\\backends\\backend_agg.py\u001b[0m in \u001b[0;36mdraw\u001b[1;34m(self)\u001b[0m\n\u001b[0;32m    400\u001b[0m         \u001b[0mtoolbar\u001b[0m \u001b[1;33m=\u001b[0m \u001b[0mself\u001b[0m\u001b[1;33m.\u001b[0m\u001b[0mtoolbar\u001b[0m\u001b[1;33m\u001b[0m\u001b[1;33m\u001b[0m\u001b[0m\n\u001b[0;32m    401\u001b[0m         \u001b[1;32mtry\u001b[0m\u001b[1;33m:\u001b[0m\u001b[1;33m\u001b[0m\u001b[1;33m\u001b[0m\u001b[0m\n\u001b[1;32m--> 402\u001b[1;33m             \u001b[0mself\u001b[0m\u001b[1;33m.\u001b[0m\u001b[0mfigure\u001b[0m\u001b[1;33m.\u001b[0m\u001b[0mdraw\u001b[0m\u001b[1;33m(\u001b[0m\u001b[0mself\u001b[0m\u001b[1;33m.\u001b[0m\u001b[0mrenderer\u001b[0m\u001b[1;33m)\u001b[0m\u001b[1;33m\u001b[0m\u001b[1;33m\u001b[0m\u001b[0m\n\u001b[0m\u001b[0;32m    403\u001b[0m             \u001b[1;31m# A GUI class may be need to update a window using this draw, so\u001b[0m\u001b[1;33m\u001b[0m\u001b[1;33m\u001b[0m\u001b[1;33m\u001b[0m\u001b[0m\n\u001b[0;32m    404\u001b[0m             \u001b[1;31m# don't forget to call the superclass.\u001b[0m\u001b[1;33m\u001b[0m\u001b[1;33m\u001b[0m\u001b[1;33m\u001b[0m\u001b[0m\n",
      "\u001b[1;32m~\\Anaconda3\\envs\\pytorch\\lib\\site-packages\\matplotlib\\artist.py\u001b[0m in \u001b[0;36mdraw_wrapper\u001b[1;34m(artist, renderer, *args, **kwargs)\u001b[0m\n\u001b[0;32m     48\u001b[0m                 \u001b[0mrenderer\u001b[0m\u001b[1;33m.\u001b[0m\u001b[0mstart_filter\u001b[0m\u001b[1;33m(\u001b[0m\u001b[1;33m)\u001b[0m\u001b[1;33m\u001b[0m\u001b[1;33m\u001b[0m\u001b[0m\n\u001b[0;32m     49\u001b[0m \u001b[1;33m\u001b[0m\u001b[0m\n\u001b[1;32m---> 50\u001b[1;33m             \u001b[1;32mreturn\u001b[0m \u001b[0mdraw\u001b[0m\u001b[1;33m(\u001b[0m\u001b[0martist\u001b[0m\u001b[1;33m,\u001b[0m \u001b[0mrenderer\u001b[0m\u001b[1;33m,\u001b[0m \u001b[1;33m*\u001b[0m\u001b[0margs\u001b[0m\u001b[1;33m,\u001b[0m \u001b[1;33m**\u001b[0m\u001b[0mkwargs\u001b[0m\u001b[1;33m)\u001b[0m\u001b[1;33m\u001b[0m\u001b[1;33m\u001b[0m\u001b[0m\n\u001b[0m\u001b[0;32m     51\u001b[0m         \u001b[1;32mfinally\u001b[0m\u001b[1;33m:\u001b[0m\u001b[1;33m\u001b[0m\u001b[1;33m\u001b[0m\u001b[0m\n\u001b[0;32m     52\u001b[0m             \u001b[1;32mif\u001b[0m \u001b[0martist\u001b[0m\u001b[1;33m.\u001b[0m\u001b[0mget_agg_filter\u001b[0m\u001b[1;33m(\u001b[0m\u001b[1;33m)\u001b[0m \u001b[1;32mis\u001b[0m \u001b[1;32mnot\u001b[0m \u001b[1;32mNone\u001b[0m\u001b[1;33m:\u001b[0m\u001b[1;33m\u001b[0m\u001b[1;33m\u001b[0m\u001b[0m\n",
      "\u001b[1;32m~\\Anaconda3\\envs\\pytorch\\lib\\site-packages\\matplotlib\\figure.py\u001b[0m in \u001b[0;36mdraw\u001b[1;34m(self, renderer)\u001b[0m\n\u001b[0;32m   1647\u001b[0m \u001b[1;33m\u001b[0m\u001b[0m\n\u001b[0;32m   1648\u001b[0m             mimage._draw_list_compositing_images(\n\u001b[1;32m-> 1649\u001b[1;33m                 renderer, self, artists, self.suppressComposite)\n\u001b[0m\u001b[0;32m   1650\u001b[0m \u001b[1;33m\u001b[0m\u001b[0m\n\u001b[0;32m   1651\u001b[0m             \u001b[0mrenderer\u001b[0m\u001b[1;33m.\u001b[0m\u001b[0mclose_group\u001b[0m\u001b[1;33m(\u001b[0m\u001b[1;34m'figure'\u001b[0m\u001b[1;33m)\u001b[0m\u001b[1;33m\u001b[0m\u001b[1;33m\u001b[0m\u001b[0m\n",
      "\u001b[1;32m~\\Anaconda3\\envs\\pytorch\\lib\\site-packages\\matplotlib\\image.py\u001b[0m in \u001b[0;36m_draw_list_compositing_images\u001b[1;34m(renderer, parent, artists, suppress_composite)\u001b[0m\n\u001b[0;32m    136\u001b[0m     \u001b[1;32mif\u001b[0m \u001b[0mnot_composite\u001b[0m \u001b[1;32mor\u001b[0m \u001b[1;32mnot\u001b[0m \u001b[0mhas_images\u001b[0m\u001b[1;33m:\u001b[0m\u001b[1;33m\u001b[0m\u001b[1;33m\u001b[0m\u001b[0m\n\u001b[0;32m    137\u001b[0m         \u001b[1;32mfor\u001b[0m \u001b[0ma\u001b[0m \u001b[1;32min\u001b[0m \u001b[0martists\u001b[0m\u001b[1;33m:\u001b[0m\u001b[1;33m\u001b[0m\u001b[1;33m\u001b[0m\u001b[0m\n\u001b[1;32m--> 138\u001b[1;33m             \u001b[0ma\u001b[0m\u001b[1;33m.\u001b[0m\u001b[0mdraw\u001b[0m\u001b[1;33m(\u001b[0m\u001b[0mrenderer\u001b[0m\u001b[1;33m)\u001b[0m\u001b[1;33m\u001b[0m\u001b[1;33m\u001b[0m\u001b[0m\n\u001b[0m\u001b[0;32m    139\u001b[0m     \u001b[1;32melse\u001b[0m\u001b[1;33m:\u001b[0m\u001b[1;33m\u001b[0m\u001b[1;33m\u001b[0m\u001b[0m\n\u001b[0;32m    140\u001b[0m         \u001b[1;31m# Composite any adjacent images together\u001b[0m\u001b[1;33m\u001b[0m\u001b[1;33m\u001b[0m\u001b[1;33m\u001b[0m\u001b[0m\n",
      "\u001b[1;32m~\\Anaconda3\\envs\\pytorch\\lib\\site-packages\\matplotlib\\artist.py\u001b[0m in \u001b[0;36mdraw_wrapper\u001b[1;34m(artist, renderer, *args, **kwargs)\u001b[0m\n\u001b[0;32m     48\u001b[0m                 \u001b[0mrenderer\u001b[0m\u001b[1;33m.\u001b[0m\u001b[0mstart_filter\u001b[0m\u001b[1;33m(\u001b[0m\u001b[1;33m)\u001b[0m\u001b[1;33m\u001b[0m\u001b[1;33m\u001b[0m\u001b[0m\n\u001b[0;32m     49\u001b[0m \u001b[1;33m\u001b[0m\u001b[0m\n\u001b[1;32m---> 50\u001b[1;33m             \u001b[1;32mreturn\u001b[0m \u001b[0mdraw\u001b[0m\u001b[1;33m(\u001b[0m\u001b[0martist\u001b[0m\u001b[1;33m,\u001b[0m \u001b[0mrenderer\u001b[0m\u001b[1;33m,\u001b[0m \u001b[1;33m*\u001b[0m\u001b[0margs\u001b[0m\u001b[1;33m,\u001b[0m \u001b[1;33m**\u001b[0m\u001b[0mkwargs\u001b[0m\u001b[1;33m)\u001b[0m\u001b[1;33m\u001b[0m\u001b[1;33m\u001b[0m\u001b[0m\n\u001b[0m\u001b[0;32m     51\u001b[0m         \u001b[1;32mfinally\u001b[0m\u001b[1;33m:\u001b[0m\u001b[1;33m\u001b[0m\u001b[1;33m\u001b[0m\u001b[0m\n\u001b[0;32m     52\u001b[0m             \u001b[1;32mif\u001b[0m \u001b[0martist\u001b[0m\u001b[1;33m.\u001b[0m\u001b[0mget_agg_filter\u001b[0m\u001b[1;33m(\u001b[0m\u001b[1;33m)\u001b[0m \u001b[1;32mis\u001b[0m \u001b[1;32mnot\u001b[0m \u001b[1;32mNone\u001b[0m\u001b[1;33m:\u001b[0m\u001b[1;33m\u001b[0m\u001b[1;33m\u001b[0m\u001b[0m\n",
      "\u001b[1;32m~\\Anaconda3\\envs\\pytorch\\lib\\site-packages\\matplotlib\\axes\\_base.py\u001b[0m in \u001b[0;36mdraw\u001b[1;34m(self, renderer, inframe)\u001b[0m\n\u001b[0;32m   2626\u001b[0m             \u001b[0mrenderer\u001b[0m\u001b[1;33m.\u001b[0m\u001b[0mstop_rasterizing\u001b[0m\u001b[1;33m(\u001b[0m\u001b[1;33m)\u001b[0m\u001b[1;33m\u001b[0m\u001b[1;33m\u001b[0m\u001b[0m\n\u001b[0;32m   2627\u001b[0m \u001b[1;33m\u001b[0m\u001b[0m\n\u001b[1;32m-> 2628\u001b[1;33m         \u001b[0mmimage\u001b[0m\u001b[1;33m.\u001b[0m\u001b[0m_draw_list_compositing_images\u001b[0m\u001b[1;33m(\u001b[0m\u001b[0mrenderer\u001b[0m\u001b[1;33m,\u001b[0m \u001b[0mself\u001b[0m\u001b[1;33m,\u001b[0m \u001b[0martists\u001b[0m\u001b[1;33m)\u001b[0m\u001b[1;33m\u001b[0m\u001b[1;33m\u001b[0m\u001b[0m\n\u001b[0m\u001b[0;32m   2629\u001b[0m \u001b[1;33m\u001b[0m\u001b[0m\n\u001b[0;32m   2630\u001b[0m         \u001b[0mrenderer\u001b[0m\u001b[1;33m.\u001b[0m\u001b[0mclose_group\u001b[0m\u001b[1;33m(\u001b[0m\u001b[1;34m'axes'\u001b[0m\u001b[1;33m)\u001b[0m\u001b[1;33m\u001b[0m\u001b[1;33m\u001b[0m\u001b[0m\n",
      "\u001b[1;32m~\\Anaconda3\\envs\\pytorch\\lib\\site-packages\\matplotlib\\image.py\u001b[0m in \u001b[0;36m_draw_list_compositing_images\u001b[1;34m(renderer, parent, artists, suppress_composite)\u001b[0m\n\u001b[0;32m    136\u001b[0m     \u001b[1;32mif\u001b[0m \u001b[0mnot_composite\u001b[0m \u001b[1;32mor\u001b[0m \u001b[1;32mnot\u001b[0m \u001b[0mhas_images\u001b[0m\u001b[1;33m:\u001b[0m\u001b[1;33m\u001b[0m\u001b[1;33m\u001b[0m\u001b[0m\n\u001b[0;32m    137\u001b[0m         \u001b[1;32mfor\u001b[0m \u001b[0ma\u001b[0m \u001b[1;32min\u001b[0m \u001b[0martists\u001b[0m\u001b[1;33m:\u001b[0m\u001b[1;33m\u001b[0m\u001b[1;33m\u001b[0m\u001b[0m\n\u001b[1;32m--> 138\u001b[1;33m             \u001b[0ma\u001b[0m\u001b[1;33m.\u001b[0m\u001b[0mdraw\u001b[0m\u001b[1;33m(\u001b[0m\u001b[0mrenderer\u001b[0m\u001b[1;33m)\u001b[0m\u001b[1;33m\u001b[0m\u001b[1;33m\u001b[0m\u001b[0m\n\u001b[0m\u001b[0;32m    139\u001b[0m     \u001b[1;32melse\u001b[0m\u001b[1;33m:\u001b[0m\u001b[1;33m\u001b[0m\u001b[1;33m\u001b[0m\u001b[0m\n\u001b[0;32m    140\u001b[0m         \u001b[1;31m# Composite any adjacent images together\u001b[0m\u001b[1;33m\u001b[0m\u001b[1;33m\u001b[0m\u001b[1;33m\u001b[0m\u001b[0m\n",
      "\u001b[1;32m~\\Anaconda3\\envs\\pytorch\\lib\\site-packages\\matplotlib\\artist.py\u001b[0m in \u001b[0;36mdraw_wrapper\u001b[1;34m(artist, renderer, *args, **kwargs)\u001b[0m\n\u001b[0;32m     48\u001b[0m                 \u001b[0mrenderer\u001b[0m\u001b[1;33m.\u001b[0m\u001b[0mstart_filter\u001b[0m\u001b[1;33m(\u001b[0m\u001b[1;33m)\u001b[0m\u001b[1;33m\u001b[0m\u001b[1;33m\u001b[0m\u001b[0m\n\u001b[0;32m     49\u001b[0m \u001b[1;33m\u001b[0m\u001b[0m\n\u001b[1;32m---> 50\u001b[1;33m             \u001b[1;32mreturn\u001b[0m \u001b[0mdraw\u001b[0m\u001b[1;33m(\u001b[0m\u001b[0martist\u001b[0m\u001b[1;33m,\u001b[0m \u001b[0mrenderer\u001b[0m\u001b[1;33m,\u001b[0m \u001b[1;33m*\u001b[0m\u001b[0margs\u001b[0m\u001b[1;33m,\u001b[0m \u001b[1;33m**\u001b[0m\u001b[0mkwargs\u001b[0m\u001b[1;33m)\u001b[0m\u001b[1;33m\u001b[0m\u001b[1;33m\u001b[0m\u001b[0m\n\u001b[0m\u001b[0;32m     51\u001b[0m         \u001b[1;32mfinally\u001b[0m\u001b[1;33m:\u001b[0m\u001b[1;33m\u001b[0m\u001b[1;33m\u001b[0m\u001b[0m\n\u001b[0;32m     52\u001b[0m             \u001b[1;32mif\u001b[0m \u001b[0martist\u001b[0m\u001b[1;33m.\u001b[0m\u001b[0mget_agg_filter\u001b[0m\u001b[1;33m(\u001b[0m\u001b[1;33m)\u001b[0m \u001b[1;32mis\u001b[0m \u001b[1;32mnot\u001b[0m \u001b[1;32mNone\u001b[0m\u001b[1;33m:\u001b[0m\u001b[1;33m\u001b[0m\u001b[1;33m\u001b[0m\u001b[0m\n",
      "\u001b[1;32m~\\Anaconda3\\envs\\pytorch\\lib\\site-packages\\matplotlib\\collections.py\u001b[0m in \u001b[0;36mdraw\u001b[1;34m(self, renderer)\u001b[0m\n\u001b[0;32m    881\u001b[0m     \u001b[1;32mdef\u001b[0m \u001b[0mdraw\u001b[0m\u001b[1;33m(\u001b[0m\u001b[0mself\u001b[0m\u001b[1;33m,\u001b[0m \u001b[0mrenderer\u001b[0m\u001b[1;33m)\u001b[0m\u001b[1;33m:\u001b[0m\u001b[1;33m\u001b[0m\u001b[1;33m\u001b[0m\u001b[0m\n\u001b[0;32m    882\u001b[0m         \u001b[0mself\u001b[0m\u001b[1;33m.\u001b[0m\u001b[0mset_sizes\u001b[0m\u001b[1;33m(\u001b[0m\u001b[0mself\u001b[0m\u001b[1;33m.\u001b[0m\u001b[0m_sizes\u001b[0m\u001b[1;33m,\u001b[0m \u001b[0mself\u001b[0m\u001b[1;33m.\u001b[0m\u001b[0mfigure\u001b[0m\u001b[1;33m.\u001b[0m\u001b[0mdpi\u001b[0m\u001b[1;33m)\u001b[0m\u001b[1;33m\u001b[0m\u001b[1;33m\u001b[0m\u001b[0m\n\u001b[1;32m--> 883\u001b[1;33m         \u001b[0mCollection\u001b[0m\u001b[1;33m.\u001b[0m\u001b[0mdraw\u001b[0m\u001b[1;33m(\u001b[0m\u001b[0mself\u001b[0m\u001b[1;33m,\u001b[0m \u001b[0mrenderer\u001b[0m\u001b[1;33m)\u001b[0m\u001b[1;33m\u001b[0m\u001b[1;33m\u001b[0m\u001b[0m\n\u001b[0m\u001b[0;32m    884\u001b[0m \u001b[1;33m\u001b[0m\u001b[0m\n\u001b[0;32m    885\u001b[0m \u001b[1;33m\u001b[0m\u001b[0m\n",
      "\u001b[1;32m~\\Anaconda3\\envs\\pytorch\\lib\\site-packages\\matplotlib\\artist.py\u001b[0m in \u001b[0;36mdraw_wrapper\u001b[1;34m(artist, renderer, *args, **kwargs)\u001b[0m\n\u001b[0;32m     48\u001b[0m                 \u001b[0mrenderer\u001b[0m\u001b[1;33m.\u001b[0m\u001b[0mstart_filter\u001b[0m\u001b[1;33m(\u001b[0m\u001b[1;33m)\u001b[0m\u001b[1;33m\u001b[0m\u001b[1;33m\u001b[0m\u001b[0m\n\u001b[0;32m     49\u001b[0m \u001b[1;33m\u001b[0m\u001b[0m\n\u001b[1;32m---> 50\u001b[1;33m             \u001b[1;32mreturn\u001b[0m \u001b[0mdraw\u001b[0m\u001b[1;33m(\u001b[0m\u001b[0martist\u001b[0m\u001b[1;33m,\u001b[0m \u001b[0mrenderer\u001b[0m\u001b[1;33m,\u001b[0m \u001b[1;33m*\u001b[0m\u001b[0margs\u001b[0m\u001b[1;33m,\u001b[0m \u001b[1;33m**\u001b[0m\u001b[0mkwargs\u001b[0m\u001b[1;33m)\u001b[0m\u001b[1;33m\u001b[0m\u001b[1;33m\u001b[0m\u001b[0m\n\u001b[0m\u001b[0;32m     51\u001b[0m         \u001b[1;32mfinally\u001b[0m\u001b[1;33m:\u001b[0m\u001b[1;33m\u001b[0m\u001b[1;33m\u001b[0m\u001b[0m\n\u001b[0;32m     52\u001b[0m             \u001b[1;32mif\u001b[0m \u001b[0martist\u001b[0m\u001b[1;33m.\u001b[0m\u001b[0mget_agg_filter\u001b[0m\u001b[1;33m(\u001b[0m\u001b[1;33m)\u001b[0m \u001b[1;32mis\u001b[0m \u001b[1;32mnot\u001b[0m \u001b[1;32mNone\u001b[0m\u001b[1;33m:\u001b[0m\u001b[1;33m\u001b[0m\u001b[1;33m\u001b[0m\u001b[0m\n",
      "\u001b[1;32m~\\Anaconda3\\envs\\pytorch\\lib\\site-packages\\matplotlib\\collections.py\u001b[0m in \u001b[0;36mdraw\u001b[1;34m(self, renderer)\u001b[0m\n\u001b[0;32m    332\u001b[0m                 self._offset_position)\n\u001b[0;32m    333\u001b[0m \u001b[1;33m\u001b[0m\u001b[0m\n\u001b[1;32m--> 334\u001b[1;33m         \u001b[0mgc\u001b[0m\u001b[1;33m.\u001b[0m\u001b[0mrestore\u001b[0m\u001b[1;33m(\u001b[0m\u001b[1;33m)\u001b[0m\u001b[1;33m\u001b[0m\u001b[1;33m\u001b[0m\u001b[0m\n\u001b[0m\u001b[0;32m    335\u001b[0m         \u001b[0mrenderer\u001b[0m\u001b[1;33m.\u001b[0m\u001b[0mclose_group\u001b[0m\u001b[1;33m(\u001b[0m\u001b[0mself\u001b[0m\u001b[1;33m.\u001b[0m\u001b[0m__class__\u001b[0m\u001b[1;33m.\u001b[0m\u001b[0m__name__\u001b[0m\u001b[1;33m)\u001b[0m\u001b[1;33m\u001b[0m\u001b[1;33m\u001b[0m\u001b[0m\n\u001b[0;32m    336\u001b[0m         \u001b[0mself\u001b[0m\u001b[1;33m.\u001b[0m\u001b[0mstale\u001b[0m \u001b[1;33m=\u001b[0m \u001b[1;32mFalse\u001b[0m\u001b[1;33m\u001b[0m\u001b[1;33m\u001b[0m\u001b[0m\n",
      "\u001b[1;31mKeyboardInterrupt\u001b[0m: "
     ]
    }
   ],
   "source": [
    "a_guess=a_start\n",
    "b_guess=b_start\n",
    "lr=0.1\n",
    "fig = plt.figure(dpi=100, figsize=(5, 4))\n",
    "plt.scatter(x,y)\n",
    "line, = plt.plot(x,lin(a_guess,b_guess,x))\n",
    "plt.close()\n",
    "run=0\n",
    "def animate_stochastic(i):\n",
    "    global run\n",
    "    line.set_ydata(lin(a_guess,b_guess,x))\n",
    "    run=run+1\n",
    "    if np.mod(run,10)==1:\n",
    "        print( \"Run = %d , Loss= %.10s, a_guess= %.10s, b_guess= %.10s, a=%.10s, b=%.10s\" % (run, loss(y,a_guess,b_guess,x),a_guess,b_guess,a,b))\n",
    "    \n",
    "    #np.random.seed(123)\n",
    "    \n",
    "#     for n in permutation(len(x)): \n",
    "#         print(n)\n",
    "#         upd_stoastic(n)\n",
    "    upd_stoastic(randint(len(x)))\n",
    "    return line,\n",
    "    \n",
    "\n",
    "ani_stoch = animation.FuncAnimation(fig, animate_stochastic, np.arange(0, 70), interval=100)\n",
    "\n",
    "ani_stoch"
   ]
  },
  {
   "cell_type": "code",
   "execution_count": 492,
   "metadata": {
    "slideshow": {
     "slide_type": "slide"
    }
   },
   "outputs": [
    {
     "name": "stdout",
     "output_type": "stream",
     "text": [
      "-5\n",
      "-1\n",
      "1112.2133781506543\n",
      "Run = 1 , Loss= 1085.20032, a_guess= -4.9658133, b_guess= -0.9420159, a=1, b=2\n",
      "Run = 11 , Loss= 849.787938, a_guess= -4.6454779, b_guess= -0.4019133, a=1, b=2\n",
      "Run = 21 , Loss= 667.349108, a_guess= -4.3609870, b_guess= 0.07206654, a=1, b=2\n",
      "Run = 31 , Loss= 525.945779, a_guess= -4.1080625, b_guess= 0.48786040, a=1, b=2\n",
      "Run = 41 , Loss= 416.330504, a_guess= -3.8829391, b_guess= 0.85245345, a=1, b=2\n",
      "Run = 51 , Loss= 331.340029, a_guess= -3.6823027, b_guess= 1.17199348, a=1, b=2\n",
      "Run = 61 , Loss= 265.425549, a_guess= -3.5032364, b_guess= 1.45189122, a=1, b=2\n",
      "Run = 71 , Loss= 214.288845, a_guess= -3.3431728, b_guess= 1.69690871, a=1, b=2\n",
      "Run = 81 , Loss= 174.600421, a_guess= -3.1998520, b_guess= 1.91123706, a=1, b=2\n",
      "Run = 91 , Loss= 143.781173, a_guess= -3.0712851, b_guess= 2.09856491, a=1, b=2\n",
      "Run = 101 , Loss= 119.833264, a_guess= -2.9557213, b_guess= 2.26213862, a=1, b=2\n",
      "Run = 111 , Loss= 101.209118, a_guess= -2.8516197, b_guess= 2.40481533, a=1, b=2\n",
      "Run = 121 , Loss= 86.7099389, a_guess= -2.7576239, b_guess= 2.52910962, a=1, b=2\n",
      "Run = 131 , Loss= 75.4070999, a_guess= -2.6725400, b_guess= 2.63723455, a=1, b=2\n",
      "Run = 141 , Loss= 66.5812562, a_guess= -2.5953170, b_guess= 2.73113781, a=1, b=2\n",
      "Run = 151 , Loss= 59.6751743, a_guess= -2.5250299, b_guess= 2.81253354, a=1, b=2\n",
      "Run = 161 , Loss= 54.2571959, a_guess= -2.4608644, b_guess= 2.88293034, a=1, b=2\n",
      "Run = 171 , Loss= 49.9929359, a_guess= -2.4021036, b_guess= 2.94365589, a=1, b=2\n",
      "Run = 181 , Loss= 46.6233585, a_guess= -2.3481166, b_guess= 2.99587864, a=1, b=2\n",
      "Run = 191 , Loss= 43.9477956, a_guess= -2.2983479, b_guess= 3.04062691, a=1, b=2\n",
      "Run = 201 , Loss= 41.8107915, a_guess= -2.2523084, b_guess= 3.07880568, a=1, b=2\n",
      "Run = 211 , Loss= 40.0919135, a_guess= -2.2095676, b_guess= 3.11121137, a=1, b=2\n",
      "Run = 221 , Loss= 38.6978580, a_guess= -2.1697465, b_guess= 3.13854488, a=1, b=2\n",
      "Run = 231 , Loss= 37.5563369, a_guess= -2.1325113, b_guess= 3.16142301, a=1, b=2\n",
      "Run = 241 , Loss= 36.6113409, a_guess= -2.0975682, b_guess= 3.18038856, a=1, b=2\n",
      "Run = 251 , Loss= 35.8194707, a_guess= -2.0646585, b_guess= 3.19591920, a=1, b=2\n",
      "Run = 261 , Loss= 35.1470954, a_guess= -2.0335544, b_guess= 3.20843526, a=1, b=2\n",
      "Run = 271 , Loss= 34.5681510, a_guess= -2.0040551, b_guess= 3.21830664, a=1, b=2\n",
      "Run = 281 , Loss= 34.0624350, a_guess= -1.9759841, b_guess= 3.22585882, a=1, b=2\n",
      "Run = 291 , Loss= 33.6142855, a_guess= -1.9491856, b_guess= 3.23137821, a=1, b=2\n",
      "Run = 301 , Loss= 33.2115582, a_guess= -1.9235226, b_guess= 3.23511681, a=1, b=2\n",
      "Run = 311 , Loss= 32.8448339, a_guess= -1.8988742, b_guess= 3.23729638, a=1, b=2\n",
      "Run = 321 , Loss= 32.5068039, a_guess= -1.8751342, b_guess= 3.23811199, a=1, b=2\n",
      "Run = 331 , Loss= 32.1917951, a_guess= -1.8522086, b_guess= 3.23773531, a=1, b=2\n",
      "Run = 341 , Loss= 31.8954013, a_guess= -1.8300149, b_guess= 3.23631734, a=1, b=2\n",
      "Run = 351 , Loss= 31.6141980, a_guess= -1.8084803, b_guess= 3.23399093, a=1, b=2\n",
      "Run = 361 , Loss= 31.3455209, a_guess= -1.7875404, b_guess= 3.23087294, a=1, b=2\n",
      "Run = 371 , Loss= 31.0872952, a_guess= -1.7671387, b_guess= 3.22706618, a=1, b=2\n",
      "Run = 381 , Loss= 30.8379027, a_guess= -1.7472253, b_guess= 3.22266106, a=1, b=2\n",
      "Run = 391 , Loss= 30.5960791, a_guess= -1.7277560, b_guess= 3.21773709, a=1, b=2\n",
      "Run = 401 , Loss= 30.3608341, a_guess= -1.7086920, b_guess= 3.21236421, a=1, b=2\n",
      "Run = 411 , Loss= 30.1313903, a_guess= -1.6899989, b_guess= 3.20660391, a=1, b=2\n",
      "Run = 421 , Loss= 29.9071352, a_guess= -1.6716464, b_guess= 3.20051024, a=1, b=2\n",
      "Run = 431 , Loss= 29.6875839, a_guess= -1.6536077, b_guess= 3.19413072, a=1, b=2\n",
      "Run = 441 , Loss= 29.4723509, a_guess= -1.6358591, b_guess= 3.18750714, a=1, b=2\n",
      "Run = 451 , Loss= 29.2611275, a_guess= -1.6183797, b_guess= 3.18067620, a=1, b=2\n",
      "Run = 461 , Loss= 29.0536650, a_guess= -1.6011509, b_guess= 3.17367015, a=1, b=2\n",
      "Run = 471 , Loss= 28.8497608, a_guess= -1.5841563, b_guess= 3.16651733, a=1, b=2\n",
      "Run = 481 , Loss= 28.6492487, a_guess= -1.5673813, b_guess= 3.15924261, a=1, b=2\n",
      "Run = 491 , Loss= 28.4519907, a_guess= -1.5508131, b_guess= 3.15186784, a=1, b=2\n",
      "Run = 501 , Loss= 28.2578704, a_guess= -1.5344402, b_guess= 3.14441219, a=1, b=2\n",
      "Run = 511 , Loss= 28.0667887, a_guess= -1.5182524, b_guess= 3.13689249, a=1, b=2\n",
      "Run = 521 , Loss= 27.8786600, a_guess= -1.5022406, b_guess= 3.12932349, a=1, b=2\n",
      "Run = 531 , Loss= 27.6934089, a_guess= -1.4863968, b_guess= 3.12171812, a=1, b=2\n",
      "Run = 541 , Loss= 27.5109686, a_guess= -1.4707138, b_guess= 3.11408770, a=1, b=2\n",
      "Run = 551 , Loss= 27.3312786, a_guess= -1.4551851, b_guess= 3.10644217, a=1, b=2\n",
      "Run = 561 , Loss= 27.1542836, a_guess= -1.4398050, b_guess= 3.09879019, a=1, b=2\n",
      "Run = 571 , Loss= 26.9799326, a_guess= -1.4245683, b_guess= 3.09113936, a=1, b=2\n",
      "Run = 581 , Loss= 26.8081778, a_guess= -1.4094703, b_guess= 3.08349630, a=1, b=2\n",
      "Run = 591 , Loss= 26.6389741, a_guess= -1.3945070, b_guess= 3.07586681, a=1, b=2\n",
      "Run = 601 , Loss= 26.4722787, a_guess= -1.3796745, b_guess= 3.06825591, a=1, b=2\n",
      "Run = 611 , Loss= 26.3080506, a_guess= -1.3649695, b_guess= 3.06066800, a=1, b=2\n",
      "Run = 621 , Loss= 26.1462502, a_guess= -1.3503888, b_guess= 3.05310689, a=1, b=2\n",
      "Run = 631 , Loss= 25.9868393, a_guess= -1.3359297, b_guess= 3.04557589, a=1, b=2\n",
      "Run = 641 , Loss= 25.8297810, a_guess= -1.3215896, b_guess= 3.03807786, a=1, b=2\n",
      "Run = 651 , Loss= 25.6750389, a_guess= -1.3073661, b_guess= 3.03061527, a=1, b=2\n",
      "Run = 661 , Loss= 25.5225781, a_guess= -1.2932571, b_guess= 3.02319025, a=1, b=2\n",
      "Run = 671 , Loss= 25.3723639, a_guess= -1.2792606, b_guess= 3.01580463, a=1, b=2\n",
      "Run = 681 , Loss= 25.2243626, a_guess= -1.2653748, b_guess= 3.00845996, a=1, b=2\n",
      "Run = 691 , Loss= 25.0785411, a_guess= -1.2515980, b_guess= 3.00115757, a=1, b=2\n",
      "Run = 701 , Loss= 24.9348670, a_guess= -1.2379287, b_guess= 2.99389858, a=1, b=2\n",
      "Run = 711 , Loss= 24.7933082, a_guess= -1.2243652, b_guess= 2.98668394, a=1, b=2\n",
      "Run = 721 , Loss= 24.6538335, a_guess= -1.2109064, b_guess= 2.97951443, a=1, b=2\n",
      "Run = 731 , Loss= 24.5164120, a_guess= -1.1975508, b_guess= 2.97239068, a=1, b=2\n",
      "Run = 741 , Loss= 24.3810133, a_guess= -1.1842972, b_guess= 2.96531324, a=1, b=2\n",
      "Run = 751 , Loss= 24.2476075, a_guess= -1.1711445, b_guess= 2.95828250, a=1, b=2\n",
      "Run = 761 , Loss= 24.1161652, a_guess= -1.1580916, b_guess= 2.95129879, a=1, b=2\n",
      "Run = 771 , Loss= 23.9866575, a_guess= -1.1451374, b_guess= 2.94436236, a=1, b=2\n",
      "Run = 781 , Loss= 23.8590558, a_guess= -1.1322810, b_guess= 2.93747336, a=1, b=2\n",
      "Run = 791 , Loss= 23.7333320, a_guess= -1.1195212, b_guess= 2.93063190, a=1, b=2\n",
      "Run = 801 , Loss= 23.6094585, a_guess= -1.1068573, b_guess= 2.92383803, a=1, b=2\n",
      "Run = 811 , Loss= 23.4874080, a_guess= -1.0942883, b_guess= 2.91709175, a=1, b=2\n",
      "Run = 821 , Loss= 23.3671536, a_guess= -1.0818134, b_guess= 2.91039302, a=1, b=2\n",
      "Run = 831 , Loss= 23.2486690, a_guess= -1.0694316, b_guess= 2.90374177, a=1, b=2\n",
      "Run = 841 , Loss= 23.1319280, a_guess= -1.0571423, b_guess= 2.89713787, a=1, b=2\n",
      "Run = 851 , Loss= 23.0169050, a_guess= -1.0449445, b_guess= 2.89058119, a=1, b=2\n",
      "Run = 861 , Loss= 22.9035747, a_guess= -1.0328376, b_guess= 2.88407157, a=1, b=2\n",
      "Run = 871 , Loss= 22.7919122, a_guess= -1.0208207, b_guess= 2.87760883, a=1, b=2\n",
      "Run = 881 , Loss= 22.6818930, a_guess= -1.0088932, b_guess= 2.87119276, a=1, b=2\n",
      "Run = 891 , Loss= 22.5734928, a_guess= -0.9970542, b_guess= 2.86482314, a=1, b=2\n",
      "Run = 901 , Loss= 22.4666878, a_guess= -0.9853031, b_guess= 2.85849974, a=1, b=2\n",
      "Run = 911 , Loss= 22.3614546, a_guess= -0.9736392, b_guess= 2.85222233, a=1, b=2\n",
      "Run = 921 , Loss= 22.2577700, a_guess= -0.9620617, b_guess= 2.84599064, a=1, b=2\n",
      "Run = 931 , Loss= 22.1556112, a_guess= -0.9505701, b_guess= 2.83980441, a=1, b=2\n",
      "Run = 941 , Loss= 22.0549558, a_guess= -0.9391636, b_guess= 2.83366338, a=1, b=2\n",
      "Run = 951 , Loss= 21.9557816, a_guess= -0.9278416, b_guess= 2.82756727, a=1, b=2\n",
      "Run = 961 , Loss= 21.8580669, a_guess= -0.9166034, b_guess= 2.82151580, a=1, b=2\n",
      "Run = 971 , Loss= 21.7617902, a_guess= -0.9054484, b_guess= 2.81550869, a=1, b=2\n",
      "Run = 981 , Loss= 21.6669303, a_guess= -0.8943759, b_guess= 2.80954565, a=1, b=2\n",
      "Run = 991 , Loss= 21.5734663, a_guess= -0.8833853, b_guess= 2.80362639, a=1, b=2\n",
      "Run = 1001 , Loss= 21.4813778, a_guess= -0.8724760, b_guess= 2.79775061, a=1, b=2\n"
     ]
    },
    {
     "data": {
      "text/html": [
       "<video width=\"500\" height=\"400\" controls autoplay loop>\n",
       "  <source type=\"video/mp4\" src=\"data:video/mp4;base64,AAAAHGZ0eXBNNFYgAAACAGlzb21pc28yYXZjMQAAAAhmcmVlAACx3G1kYXQAAAKuBgX//6rcRem9\n",
       "5tlIt5Ys2CDZI+7veDI2NCAtIGNvcmUgMTU3IHIyOTcwIDU0OTNiZTggLSBILjI2NC9NUEVHLTQg\n",
       "QVZDIGNvZGVjIC0gQ29weWxlZnQgMjAwMy0yMDE5IC0gaHR0cDovL3d3dy52aWRlb2xhbi5vcmcv\n",
       "eDI2NC5odG1sIC0gb3B0aW9uczogY2FiYWM9MSByZWY9MyBkZWJsb2NrPTE6MDowIGFuYWx5c2U9\n",
       "MHgzOjB4MTEzIG1lPWhleCBzdWJtZT03IHBzeT0xIHBzeV9yZD0xLjAwOjAuMDAgbWl4ZWRfcmVm\n",
       "PTEgbWVfcmFuZ2U9MTYgY2hyb21hX21lPTEgdHJlbGxpcz0xIDh4OGRjdD0xIGNxbT0wIGRlYWR6\n",
       "b25lPTIxLDExIGZhc3RfcHNraXA9MSBjaHJvbWFfcXBfb2Zmc2V0PS0yIHRocmVhZHM9NiBsb29r\n",
       "YWhlYWRfdGhyZWFkcz0xIHNsaWNlZF90aHJlYWRzPTAgbnI9MCBkZWNpbWF0ZT0xIGludGVybGFj\n",
       "ZWQ9MCBibHVyYXlfY29tcGF0PTAgY29uc3RyYWluZWRfaW50cmE9MCBiZnJhbWVzPTMgYl9weXJh\n",
       "bWlkPTIgYl9hZGFwdD0xIGJfYmlhcz0wIGRpcmVjdD0xIHdlaWdodGI9MSBvcGVuX2dvcD0wIHdl\n",
       "aWdodHA9MiBrZXlpbnQ9MjUwIGtleWludF9taW49MTAgc2NlbmVjdXQ9NDAgaW50cmFfcmVmcmVz\n",
       "aD0wIHJjX2xvb2thaGVhZD00MCByYz1jcmYgbWJ0cmVlPTEgY3JmPTIzLjAgcWNvbXA9MC42MCBx\n",
       "cG1pbj0wIHFwbWF4PTY5IHFwc3RlcD00IGlwX3JhdGlvPTEuNDAgYXE9MToxLjAwAIAAAB18ZYiE\n",
       "ABH//veIHzLLafk613IR560urR9Q7kZxXqS9/iAAAAMAAAR1HNHnmrI7bLsAAAW/T/4LR/iCtByt\n",
       "jnqErAQlJ/uepGkFYjrFg4oz23omlQ+Ph5LjK/YPtJLxCWngSmMfmedhEXxcns/3OkZIFYjfF2zR\n",
       "8ujEZluJaMdeTkdl6FkknajZlXRVADhUzW5HDFiOuq6cqy14PYy2gbeN6Zb8wCbpZv7rhAsVH+mQ\n",
       "+wkPU2qvPOF3CduEgqTbHlUhHaDpcz+VJ6CoUVJ++DuKX/rgJKLdG9Lt1S4O+EYWuP7CppmnK8C3\n",
       "E+aIjQMeWCQyn7C9mYRqj6aJmr6DLmS7ZBDAILMVuy0mXkNY30ZFe0cxgZw8O+wDcmV/6PKz6xpl\n",
       "DLEpXD2EVdfblKLh3+nnMwadHnlsozRpXiG5yUpXr+PussGZ2mDA3gxh8BaYXkDP6OIieLiBdBFg\n",
       "8xyijrYiypqhXBlvDS60Bz00LtFzeL0mbqBnw4zYqzDu8pqRngD/oiqYP2iEKDnjFoSjibAUK6iZ\n",
       "pc7AQDgHxTqd5NhWm98utmqbL50OZ8MJSxAGtVVLb4yuDbpOscAfqgcQwVfmj04ANhxcU92nuyri\n",
       "uXOHoTuGDccxNtVYrXwumnoyf3yDkOlEa7mAvv////kIUzoEd/qaJ+uL+xbyyedvozPNQQPYXYTP\n",
       "cG1Hz/QQlJa7PdMHNJBtQgisdJn1soZfvlYRFiMRxAGo5LxhwOn4bgwX1qzmrDxv1/GbLFgP8Pir\n",
       "xOKsDK6DVvs96VuONXbd561+oWn78f5s6S9vpjxIh6EWTmqptsBqEvbvnsbnDP5EN5yCoSi2nU4L\n",
       "pTxCszkwzs5rw9wDZR6dRRwfUMOiHC5GWQ1NPlG9N8OPYGVIWEde2FV+wukw883xsLbWONRrm7lh\n",
       "Aw3kyHG3snmz7sfQblPQZx/xzQolNcm9ySkeASj5ewo+02NDoUoX8so/v7SUYAjqqnHhs8FoXM97\n",
       "/kk+KdfTiXqaA6uSTSa7uD+Un79frVA7f9xRTFqazNj/frhME8FD/EuY2qtM+A9duoh6jzoIokSN\n",
       "FVreTd0Llg6mAuLgsQTqISNjZURi+m/LiIdMEY6CNd9u+6dBOKzZ2xydbRGmwKhS4NG5p5TIv4R+\n",
       "IHhTgOLcFfCG7xn9mpfY4zFHiX3gSmC4tnIoL65T850kxwGWHRAujyyT90KM5BMwa9JwOhRiaEJJ\n",
       "ND/r1c73msG01db8Ji+YOxgi3eaEe4hUAUJ1oxMcOgKsYCeC7a3zTkZ1f3RMiTNtL1R0ZXRaE9Wh\n",
       "vynqAfKy2RPml6tTgECZfdad0e2dKWqvDU96CWDeyUh/3WBmypz/d6cmikuec2xWTaDA90tL5tmD\n",
       "nAVTcb8Li7/9+9nJGpdhBAPg7+BDjfgfWHZoAHAZOltUzWlLInziss7E7SGjRGzZ8OvXfJ2xZGOI\n",
       "qJ7TX3vJ3a2Z1RXpOCjubVa0D7C4WRbJbhH5PirjNI+sRWTSh60aprkwhFfA3ZJvxWCA56tyqTfP\n",
       "vYG6wmJkB80sqdaEP1sK6o+CtC9Nq5WILRFganb9kvlN0tR3IjzkyiB2u+3hckmTCu/sVOxwXtw7\n",
       "sFVFWcD5OjK54f+y2rBWt6Hz5Zmd4WYXRWUBKutMrtMhey2BitPfYMMf2tYrhq6Nyj+sapeLqE+2\n",
       "v640jGa2WHQdIQPDM63aNCk9Ab0KqIuq6bk/JRU2+liN0W5rgDFKtylTEwAxEF0c3/dQM2P+DcA8\n",
       "9USY41034MS1GHevoFnlB3cISphg/w/jmNRMHSKefbZQktZkiAxbqsOey6i7uPHkmzW5ROJAbVS+\n",
       "5f0GLXGRKzdTcld/F5nrD7u8n53WBWxNuzcMqRBPbJsTBpM0vkwxtcbrgKcg4FtC5fni2wb0oND3\n",
       "bAv3fgPwpN8EuI1kbVmGK9RUsZB1AfxoDPG4h1d/5LT8WpJjRAg0w56JSH0pggrlyiu1wnbR7QAC\n",
       "857zUZ3kI+U+kiY41t1QpEUHH45NwNc8wo6zcUSvEKnzJR5ZMAfny8tONi3feLMCmbbZcAptYsFH\n",
       "eIHIN6hw36LSupaiP9vWw5scyNY4Nuf4YXAJc3hw9gsS6TuiCIsXcUDf35kX9hihDg6jbx/S9QQr\n",
       "7RyDiwNlbHmHt9vuMVUCx+zLrBeCVM4Kp5ypudXf+daYhv1oD6LqA1yCgF++vEMa8ENeDZO2gUZE\n",
       "Tgla8mbGaozXFEP2eJHa2SWOXvkY2shbcC6cOt9pAIm1CIZReUh0UO2C9LNUqP80mRHUFDscqtEi\n",
       "kpCB2sfnV/5MpM7Njx1n/YnnPCGIdM4kPvdmInk+8xrv//5eamx162/je8L8w/5Vq3tjNxH5MKrY\n",
       "QQftlc64JyGCyAQdfelsUPrNc1PT4e+eX6ZrDCrkRIhNL5UORPZwb10q/RL98Y+u31LKs2anLO9H\n",
       "lcMVChruy85ffHgP49pKKE4T7zSZ51oYPEPxvrmMCRtw77I0v7j/5nj3qr9q6JlyEhTBCJtOWXYb\n",
       "lTUxRF8IJZyGFX8QniEmSincypotvd9WykHCoguIJXrD0nPuCWnauE/XQS3HRNNwF+6VosE/zuoi\n",
       "QF29PKy8b66SoMsl5nV7s+TuFjG78SlzYt6MT+Gb2q7lxtaF62UCYbFqrRz+gH9v11ZVHqgV7Eze\n",
       "gsQipGpTGh7LuMbtMRrfCx1nBvakFCyrO/oLljSqGF1ATBF+pOsqUrVcCMq9eNIVRcE8wDnaB53Q\n",
       "GnYR0EFSs2C8MxcJV1du2fLSlXRNtXrAEEJHCOlypxGgurs4cznwfiwYdvv1QqYvwNI9HQb/E1QI\n",
       "3UjmJysa2rC0IoF2Y+tBqW13DVnMtROloYKBGRxORqE83gRU1TCb+bAB+4LS1rZnbm8V7SoPu7mj\n",
       "Xx21GUoFdF6nSdfQz8Xgr18Hs6ol7GwOsMK9OnZDBvN/f990cAcv4sZn7xI+KETJjR91+SNO1iD4\n",
       "uUy+yML0NXEeJwOfwOzVOXZYqFD3vZD8AbP/Feh22cpZkRt60pLyaGs4e0hN45SyL2XeV4U2I/yc\n",
       "nO4rQI2Rwc3PFfeMd2TgyH5nP5MNb9bz3YQYWORhPunHoUB9MN+lb39qw3QUFhstBJ087fDLQRle\n",
       "ZWzh7W+2ffTrJlBLyZU9He36FP6sgFA0ng1rH//pYYoIlGlerwt4aXHSSOHn3+LwRZ49Y1jaNOWL\n",
       "JQN0f4WNiBNhGZ5t09fGR0LQaL1w8XOXpY8t14tgaG65ktKWVU9P6Jwuj6HPkHRZ+d2ibuFl1KpH\n",
       "FE7O0oOdqGF/554pR9LYu2jvqrzlFk5auxsqz8WVZmN5rU+h/PK6cUhAJ3/DL097QxiC2Q0j/VU6\n",
       "5RAiNs6td7iZ8QzRp6K8dnRjYgRn7YRE5zGRuuErpPuVtNPmEqGx459mOtuMXuBTuRWN8wsbqzu3\n",
       "GMOYhGVJrGMujMc4++ddEfkzukYjDKGRFgMSo46FQojJy43QLTRN8DCn8+yfB20cqomh9ErvKiFA\n",
       "VJLws2f8hcceJPWZbUJXuGw8Lsr7AWWEOhPyjs0l/jhUKRd/9LDSnq2+p59PW/hRmIUB4sWo5MSq\n",
       "MEoPVVDZNj426NDV4R7MoZ24cm7fE5ppZF8SiFzu3SOfFsEjIoiz8s6tbywEaj8CeENWzK9uReNu\n",
       "LikPrnylgMcMU6xGN5jTfaVnwXk0WPhPxdz0fnbbC3qZmFU8zMfuFV2zdh719JIxLo5T17QzpbEB\n",
       "iLiQWyke/FMTq2mI1o2ySs+sOv3V+Wsq96OzYtVBXpagBbdF+I7T6B8aS42MyShFaUNjxDgiNq9H\n",
       "Har23ck5qEKlCxxVA24wN2umn1KnPOlkvtmmiDqtyRv4kkFGguc7v3mJKQV+QktdAwGCh4m9/EFG\n",
       "fHZNc24cEHS+PL9jidXQY38ZET7lc1kS3r0Msj7ln1aOwY25HW6okAPKzBFRBKk65srFzipw8YcE\n",
       "iM/n+OF6ALvAS9V1O1ARaHDpdbNefiQK86KZRXZdzzG9JV5tX2wcH2LQqBSlC/VM2BLv/XWs2M4A\n",
       "qPy9fJoGMhIpmrMwhf+HqEGlFbQEHNCmLlXGegPcWvF7GZR/7itwL+E4mMmzOVBqg7bP+T7g0P3a\n",
       "fKK2RER032gl+Ghi/ySXmYp1kF0RJQq+4oOHE0YN38PGRYX1ghIETI9h4yg4n9uatCrS0P4tY3JU\n",
       "O0jQ1lPjD+5Hgc9s94Crfo9VnUJZzZvS9G7jmF0mU8RWukAST1PH4p1dDSQGJwtTqoUGeeaVowAm\n",
       "HnejetlMv4TG34u7jOObEo3m7Tox0RFJ0wB1Xq6o6CYAQLYfLqMSTddKg8fUxULPvShZLMOHKAav\n",
       "2GXuGYtiKeetYgdnN0YolvSudyKWbkYq+LktFHDWD9vusdVUMeH76Pdr56kaaZLdwzFIr5Al6eHH\n",
       "CWJxiNk+Vbs7IgF3zfb+vdZFcLrHH8SdMnXF4QDTRKEi6zjL8FxE2wrSKM33tGTzaK2PNny/KoVs\n",
       "UeW5y4+e5quTcnj52E8O/+Gpv8afuqkWEIxD57TOyRLiumqKMX9IrN/i7h/wRPkRfv0zFCx+BKXZ\n",
       "1Ea4eYXzG3LkaTkqBlSH06VO1ZzXZWWEZJTZmppiMsd2RLKB/+XQjHsyyQvCekUTZ5DJjnvmkA3d\n",
       "/m3iHmIFkSvHIlzfhoxKOnMQ/hvPAt1IG3l9Tk5LwuLGhyMVgbEHVAC0HVKb3Jcqz0FhsH130nfa\n",
       "K4cVQv29UF4Y1/gO3UPwXJwML0/dHDImfzBEWll+AMj2FPL46qvOi0rQP4n6hL2deVISX0WCB1Ru\n",
       "TTsw/HHqdF2uXVuDZdtYXG9JtA73p32K8j0TjkvDI1uLm9/PezavQKvMxVOMBYeV5KvuIzB11uah\n",
       "aPnHneAutG7jG0liXpSA4BXecKPh21VH22XibSndiDDYJJD2daMSvTWUcpJ4susPisLGIfO1h1NW\n",
       "8Z3aB0AVJiz2Mu5yFxRqyHFpzUUSZXZFOfx48/Bjrea6M0vjsugiJbCcDAY0cfGXOCkCwWde1HH5\n",
       "I4g3gg0422o1w7sLc5uWbShpvJBsfZPj/c8oDrSBWJjKEgKWQQ5pOIVhgiMi4v47OGpk5/XqVMvB\n",
       "px5hvvsCr7scixYGvgE9qCQdrfx5OWQBhEk615c33k/pdJ/biJ1zoxaFF56oV+E2Vrd6EkL9C+cN\n",
       "QX19h+4i54ODgxG0TmB69cMKbKPcOCsftxpdgSRmLNOk3rpt9ZGObpxpYWiZpCMEyekA9aHTMYF/\n",
       "EkR0TglI6fTcGHADVxFQhYftZhnQ/55Drelv2Ba/mErp4c6LeHlPT2x/mkAIpDxa0cARzHKbB/8w\n",
       "ZZriUK3WlPiLaoT24NaGPnTXwrEjkStonmX+MNG/gHAyPVqtIBmmpY2DyJtrTPj7Z3Lvss5DMa2G\n",
       "YnFi8Wm8hSn3I9w94aVyxecEOChEL4rMrYkD3X7Iio2N4cGzQEzQ1S16ciIULg+qn6nrqDMbt0LK\n",
       "NKtGQEvmyXt3w+hkXXOzOttXMHFRqIRr5AKkb3mZThJG4Dgj5f4W1Iz/hEKlOwtmowKwdMFD/s+2\n",
       "YipF9uzMgTh2SWTt90tU2rGGimG/hwgz2ymKAjeYIqo9w93BvcR9QXXy5AWTwVfEL6O0Yw3DIO1U\n",
       "9fu7Z9OqKcXWGtz9F2Y43lIJ2AlBi4E+f04OtRBw4PIpKI6aJO0NIcw02XkKvbUFtiHYMe/FtQb+\n",
       "sYZ4lRRBif1iRakRQ75tz0jIoPJjFaDuWVGXcHO0zExjGtzGHdCHY06NMoV6RQChpF5LXHfxkSMH\n",
       "n5bmw1gszqtBvm6kAPrzSBEAKU2it+ooQcQWJl080JNer5bqDSCi+FI9XoO1MnuTzVv/nA6EbHI/\n",
       "4C68AOMpnwrvGZhZMpBA1jZ4rzTz51cpqU3AvwBwGiRjuCwJRvo8B147GUT9b739kG3wE2e5qhEA\n",
       "aJ2zwiiYKi4wu7fxbSv7XKLhOyN2PfWy9el2Q+AJ2J2DV/cJq7W16nMNhBJ6sW8uIoGlMCo2eUlu\n",
       "2EugXPYDIMp+Zse8/qIl1pwGU2x1hM1OmKxeXufPauR4JIqMx5RkAf4fzWzNgt271LXbbZRFICeN\n",
       "Z2S3pSraTSTHfHisufaqEQy0/np67tR09UQVPvROf9Ny6TtST3lMWmhOsrmyq9UWoPOe0O7OoKr8\n",
       "mIRELc8lbGAu9D+wdLY3G2GrgoHeKNLaO6/ArT5dWALhDDqgqsndY5DQKiH8JqTrzh5MY5d0fk/W\n",
       "v5R2TPJ5MCwr5Ylrnirzlq375fLq5hLFknzWIKis++rqYdKy+J+xFirT8LYvyIXWUjWtIZ89++6v\n",
       "w86fWJepNuO3qjUpKeNMmKzUFrnLNQdiqm5Jr3a1+JN/Ma8TSfL9aHmcRx0KzIMxnfR4AdBZAE7a\n",
       "glh1mzK1Jf93O6c4w7uSs42CRulUV0h4C5oFL52SGI7Bvgoq+5VxWzEe7Aa1nOCdrvaUtnEvPMCP\n",
       "7FqUdhoUjJWwlz8++kcARpPBGwQtv0AJP5YtP2/DzlrEn0qq1zIKvX0TQ7h3tNz+Vs0xd73Vs3hS\n",
       "t48fU5IVmtclcYykCmHqFbnrfrc0Tuiitk+e9ui/JTSjb++N5Tv5dQhktyngMrTroLh1981nWGRO\n",
       "1LGtgUrKAwKqG2nVtj9lxBbeAV6XxSWzyhqBzANsq0dvV9dGukTec/Qw0JQP6I5N4C6jlyxxTq40\n",
       "2QIuWCt+vMr9jdCwmB9M9Boz2fTmwABOWcBlu4y9Mm9OrFLrUQyt1ubSSmPIkFpfrIsiH+nN/XbV\n",
       "0e+Bv6+UZwXxSn+1vuJ+ck7yMxd0DJhJy6qtqll8Kz7ICUfEFnvr03skPBlpWSrsMioDnj6fLig9\n",
       "4ja3Ka/ceBGO8y9jhEEf9YoXMc8+HgaGzGEprpZlfKibs1Oo+kzbM3o023QlgqYWiU9TYUXAoAqV\n",
       "E7lTRuoOOo1JEk66b3ODxSDS989Dbtlr3Jvn27okK/jAApYB4GB92L+31Uu8wlPl6QwHw5P/kMi3\n",
       "nB84b3urwJ0ZstKqRSmHLLZzVnb+foMmbX/7Ub2r9Y1W4txQdJ91wZF9S44Ta4sjqTmQJ5aWGETW\n",
       "esprUnb9HevsTFDyXlzdBmlbWFxhsTEILwSHl60ysT0oL/vRVXb9l3NvQWNf433ydxvhQgfgb+i3\n",
       "MwzyPkJ1uIGYkSZ0EqHKr6IprYHX5Kzkg+eOq0zF3/G0O0vIkIuQGka5x2PGHvw7zZdkWkowBeaG\n",
       "+6hRfH9f2DvI0Lf2islV5777V3tfkUzqOFKH/R6uD65ZYtd2NFJdSqaFjge4oIeIIEcnuA17lC9h\n",
       "HAqhPqJrTUhi0XRZWq/4o33p8DJUKbIpQZzjV+YCeAY8+1y6StSJ6phrzDhmpGthyCasYrF0svpZ\n",
       "uaJl8QhHVYp2DgMVLsWcZzZrwn8+6K55GoAgL+5mjptYCMbzZNQuzZm0tNoQKJ9C/1JqgV/zXjKd\n",
       "n82rfsEnykbAVtWbfV1ZsJZ0Wd/HIyeLRuIYdedqcEfrGD1mMmbCQM10+l6v+af4ML7BzSbDO16y\n",
       "cMt4GwH3oZgS9PpEibqdDjb4604Gv9uGCivw0B/M8m0yBngibIeZZmEqlAtz/Yu4xbCTOJtwBrzL\n",
       "ahR19BfgxWIv27qCidtPrxWJC2I/Ze/2xeG1G1tRufGKW0ObHDdlL4j73FY4sIQAC5grHUr8k1SJ\n",
       "NkFMbYy9ScWT+pWujjRJ22Hzyt9ON8KEDhFx906fHfLZ+FS4UTqKnDKn5Hl2YngQQkv+TI3W4H0S\n",
       "mzQWG8qajQ47Io6jYl6VWiwgFivtspDaQSiK0+CfuUZF/iJbAbxfyg07ksRj8lJVyifrsR85rovz\n",
       "YMpy9meQDxvAPqHXYKikKuVXvVU9iDT5wVaCZ8+eW/6nD8NdwskNUndO0AB5smRTcGUl5VgHRtxs\n",
       "IzZCDgYBJyRnAKEqN+WtymXDdlie3NLNAqbjsXGTCWUzAvEo6fwDuJdNqZ7CQNOvbmHIwad3j0P1\n",
       "nSjso+c9xp7pZ0H4vFMoPac8IxQH+cJ9F+onFcJFofGtALmss8UrXcVnasbmEFgJSa7787VBthCu\n",
       "NgAHxYt53nRHg0854CWUPIh4LP7pOSzsdDNI5ikrrPMMSJRYLG61kSvEN23/uzDuo51pZIiW+BFU\n",
       "6P1MgS9l+dGB2HG7LrCpWfTyzzLczE0htgwVSYrwL3+S93iUf0EJCJFWvCT4f7WC+zUPWvgABJcf\n",
       "/0+IASakerlhoSZa6qkqE0/wMyp33+HUgvzHsUE+EJb/BBPpn4YY6T3n/vnNI3J3HhKQxysmx4j7\n",
       "zUhtHgkcQmIX2d0lKOpU0D1bYVSdCU7FCCNqOZDboA0/ZrXPIjnfMxFCCNqObGIm+bm/TZlM84ys\n",
       "yaHGSdLKH2wWlkhMcppcgt5SgWFpkrlDeZWv3X5Bw8fWl521HVthkKCq2fPvrR20RiBdHUZRi9Wy\n",
       "YO0P6PKtbaypEU2kWsaizN+2efHhBZ1XClfck14mtKk8X/OP5GeR5vfobExepkNMO343KeNlYIlS\n",
       "WftEcxydChFdNwPUKDMF3z/uns3MJbu1PH3h6ZFqdXomUHnhQZJfK2BHcUpM8ohfertVJ0l2bzyJ\n",
       "qFzwqN7VU6WShTFQO1mbVngPbhcj3ir5zadQA4PgOcKbGz4fjd9MR2wAM6HxnhaEW5pAYs5gVq1u\n",
       "g59a7UWlXG7bqpuYbRMGJolxx3UwhggU7V6Fpy7dttmWFdu9I2+RQvi/Qk98JyA2Viiz0ThX1UqU\n",
       "jyWT29M08orjmXNMPo+8JSR60KqYenVNuqWEvGExemP/HHV0loupfNprXkooeJ7R8w+dK0ivKGeW\n",
       "rUgu05H6F65KdpoSWB6D/Q7hyInUNl0wYoXG0Ss/wj132sAOl1jzbKJSYBj5jBEueRh+o6QU41Z6\n",
       "E/XUaonYS2KArWr+E/99P/em6qME71vq6JgXlinjJuoIGk1glNLc+0Zwiwjh/q6wj8NYef5fUi2e\n",
       "yd1NecnqD2We5oYC1EVk9itHbY2WyoXpHX/lyHfaHduxar38gY87lEtLbIhnd42KJkXQXZc5VAhX\n",
       "XoawbqVmXv5WnxKBZFM8vamfvVK/jI0oIN32SQg55Bx1D0DcmDDufYfPervomO2tJuU/+umEV27j\n",
       "v6LaEshp3MnXZr4cXMoNjP5Zl77lrmNknyiqPX0uhuT1izgbtXyJUEb0T6C9+XYyU/qiQ8gxmwxT\n",
       "CxdMSZ8iuPVcxxBd32P2inryX4uJalAgwlhh0ZVpbWjgx2bmpiBM16X6qlYTDwT4EK/GjpWPnCrU\n",
       "soPU0CmqcqLGUsNb40BF3W+pTkdZOl82ryK1rrMads2v4/hPaCG+tiBIX2cpzU9/vS7zKbsLgmJo\n",
       "VLl8aJaQbzzCcKhETLX28ySjWaPenfrjvxi+DUH9kddAEl1JL3d0b5KBM32CPWQp1xTBz+9RHlCl\n",
       "Fomd9/5wuw34/a/++DDx52ATjszlO2v4LPWNCqr6k4VAAPIJxNTSrEptv8T1IM1tI3XOOYOLRC1w\n",
       "pzjrhEt5Rv9evr4emBNzd8KvIMoKyVIpoWZk8o2ZDzb1WY91wo7Nobivz31jyGfEq8iEF0ba72r9\n",
       "sX23U6feRvCyRZ5uHfIBSH4mP3QuR3vOmT3kmEmaRzAXAF2r4q/L2TJ+WMdJ7LEJZBMmvnALcGtx\n",
       "IvcVz9PScx2RgNZmHOIiGx0t8Mou/R318oIUU3ld2bH/L9cq9lYGf8bNlHKUQISOrIJqxHZG0hk6\n",
       "1P0TKftrZCxCyIXY7Ou63OgWfLasPXWQjoGuQEfF8tqlesKJaP5t8BntZv5HNZgA2PcTE6CyELdj\n",
       "rKANWMldiyZ7+qElTxv97ZWi158BhS2q8gyywqIpgf1GzuHu0Habxr/9Wok+mIlGwzsaYeCnMv6/\n",
       "BrZBVKtYa9Q9xoWr2sBxbO7XzpjqRexQRGnvv/PCMGhcoIdPMm1pXw1T2FhAULt1opGfYNTgWYMU\n",
       "8EySLY51K0EO4fWy6Twi57Td6SNpmcUfq1B+SpfNidRZERycCKYE1xHN0aJrrntNgsWf1pn6BEbO\n",
       "ZmhY2huPqPJWvtCn0iJsRKdwAAjpAAAGHUGaJGxBD/6qVQAOkzCAA2yIMXOxpX4QrZTlq/pM7tq+\n",
       "DWcwGzg44SsFaTnTo59mQCwKKC9/IqzalMhUf/kBLKmX53ShWcwTR7ccMXNqlwC+eFpUq9FBTnzh\n",
       "dSnz7UziGi1jiqTA9S12VlrKYH6lzPvf+tjBmtdj5LiYWL/+Ll0MixhS2DuUxJS3ZmRVtg2ipZCq\n",
       "j15yLkQQaE06rMw2McADesKnujEZ5jXwgjY7fJ+STI5OiebWs4uNxCpeVTkVvFykIZ8aMBM+zgvK\n",
       "32OTjNumhMaJ2BpFFuyZehYlFtVzB0PCbwG9C0p4Zeu0bk4iNpq44pviqWvfjk6p9n5WvBxgOLPd\n",
       "wNACUp9IQhAkso9RRRLIlr3XfaDT+cKQcET+l/zU6MO5D/lrJsE/hImrGE7Kd0YxFBYbvB0+dx+f\n",
       "jCha/my77K3Vae+UBab9WFvrb2YrhC4pP5YPm8Wl0JdX/2RWTW+A5524D4Zwmd2/++vaBVBMIqbB\n",
       "2Wn3jtzV8zQLYCclZLZBMeGXChIBIbwctRg6dXAIEoojDguGa5UGcwNQa8JG1BBFs4aBzG+WJLdh\n",
       "+Ezb5t5muDcdoLimFCRY0/WVJ19vtPJMX/fZ3PDKPSmdyAhJJPXIzR9bgMRhAMuhuiKfDDo9czZq\n",
       "Q6t5TtprTxWGALWGjI11gHalYhboYePhzOKZ+TgM1SyVnnsgOn74gxVrbtOQYT5EOa04WuAd33Ol\n",
       "arfz+/y416CiNYWRZzlPTKEDn143gCODPPVtDhF4y1bOI653gQt9I0NYUh3J0hKOg/HzEP6WHLyP\n",
       "ix1PCO03YI1Q4CnEUU5ULdwTOo41bCb6xZaqrWjIwgbWu5nKbMq2QUg/fXal6YA44yUlPNzp7Akc\n",
       "UyeJ242NGAEuP0XObYOe+z9fsNyR5320io6voU3URTJKaFm0bvI1lX8Wx+IrzsKF7PtfluwU80JA\n",
       "a6SlPrPd6qEyqL6QKI2RE0SwGWdd/oZQjvLSeYo56vNYiDjrJhuYdj4B4XDUGBEvi4rpNtxGYgEe\n",
       "PCtaTyJLp+boQuFuP8EU0PBBUzUUgrwpsrdQB0fBG3KBtAhsHNyOu2LiQd/wiL/q2ibVpqr8qt80\n",
       "FAwedS+DR4fdObU2ROHdxPqoFdADOyb2s1PUynSQgcd095/QS35dGlZeFXXE4wKec+GvdMiw2Utx\n",
       "g5gxH6nMWCYU2zSidyxqISCvcOEzdVSlIDs+gQnGXOjBgpggiFLsGWpuOSF9KqY6NLqGwJlesxuF\n",
       "lY54DLtXnGn7gah8DarwfBqensXlXHVhuRZUK4lhX7DLZKyFTpR4d3SFTXyl+dZZSU/utecrGlYw\n",
       "ZkmayaGFVk5EAOliFDCbN5IPpd1hFbVhuEnutSaj/HTSi8ZTLU9HWoLK/tWMfGMAtxsloA8lynYI\n",
       "iHi0v0ISjzYyA9m9OSWgzyFiphAbTydo7zkv2/Sir47AD49GvpTOnBneAexaezwupunlTDjBZ4Th\n",
       "7EKtUKPD4u7Kizu/hBCVipsUzvyPjWP3PVRmI95ZZS9Uh9vQ9gGruR7ozLK3eb9nR6lzXJvQzi8i\n",
       "uIHN05XEDqtjwyoKpxwzg7H2UDU94FF5jFmhYeGpgYwE7HkogaVLMclYiySMvwBgkEwD9bbKjrEp\n",
       "gS/sthmoKG1KYFt/VkVMJqgwvdTDG4gyBs8Vbv3aqUzIdJgvxythztUeGW1wwlaZXAEQTZ5qm2V0\n",
       "2t/RDKuIfSueEG+ruOLFpr4lsyM1UJJor3ZXMoPpWCt6NTcrsgG7jKLCQiruqz0hvOi8V9BA3PX+\n",
       "RimuKDXnpwmwxzhvSP8tRL09PaIf1Ql8rjf6aOxBL+PXPufSnF9+8ZOEYWEKzs5NMAgNxKk+EBG6\n",
       "XcTUwK5+keCFhpRQxJMxxg+ia5kn5eAB8ppDUjK0QF0LwxiL7XdFgXz/TdiB8aJRmcjeJUJOgC5y\n",
       "Y6WypSuH2QOBfkRSCmYU1xW+7xFCXzIQQQhkgtujmAEuOV2uPinQh9/enIm5tfy2lx+ID+HV4YgC\n",
       "tqwtfWv0VctjlP9tLH91LTNGfyUsmYGZTV94G81uCC8M2TTLURUtG4q4CLXDdhlwlucoAAAF1kGe\n",
       "QniHfwAcfQkqObsDuoSgM34tdqFmfb0QnNunDWhN+//9bk4SMCoAQlb1StmA8Q7GKsCllFiN8FVj\n",
       "lJolG91kdIOd9p5H0KE7zvozR8L34Q1mthOpH18qK02LJQuUXeBxiDDrshnACRe0HuCldFkyHjH+\n",
       "pFDUiT5fQydesn/HxJgEz/Ol6zLI/LCBn2yEaV81Z9iGrpak7+kESy28Ei4dwAFnqsoohU3igGNP\n",
       "XrcYCdIcl3FcLwqsiEnl6RcDv+NemxXdh8hOpzo343UlF8gPZt/4vS/r9c0ItAuZt+L9NnJg2lC1\n",
       "Kk37YhO6Ai3r/wdBfu53q4odNgE7fKcEDcWwbq3VArhUc/eRZ6VhAEBjTmoycGdzfqnLlsyShXLA\n",
       "E/HtAhB7A/Ac+BZFiq4OkbEqpsrvIhywekjC4/dtbGosuLgU88lk0yvA2WpvYa9mO7YGUXo8RQdK\n",
       "daq4UVMNACDK0WLoJd/eJ3nA87e8e0FLfB/Q3QPxJcV3IzPUOD97EGbzwanKPqhe8HGRIABvfvAa\n",
       "3TRaZl0gcrfuqcQm5kGC7LsXCNMUiYyhvkNCVTN1RkciXdxLFdvT+5fhzO88oSeUtbNyAqd7CoKQ\n",
       "HQTFITRPmUi2Jl61tvdERBU5980RGwr0s0h8tG1l37AUA0I6LepNw2PJ4mi3becty7jzuFD6aM2f\n",
       "xk2Egp6LJZnWMzdR3qKgw6EmDL/AAgnYr8wWXK+drMrw8NzENmZ1Kw1BLUAAZw4R82FNC+ZKDGMb\n",
       "KhCdX1U5pDiFs/VPOWA7xL+4Fr/O6o4QXrHMijvakOOtKsbFamwOGkyrXL+5lE7K7tBjSHbM1YxT\n",
       "QytNQn5PkTxVwClsT5LqJHlsAB4dSDtcx2MVtY1EFsqGmOsLYNsLsZCMUvOh+WpMweZVnx8iKFrg\n",
       "S2Hkcmg1J2+dgoHcKI0jayof7uncnlswU6PtJWwT8E8t5/GtOtpAn777bLM5KWPjA12OCTuOLV1A\n",
       "rJ+o108qXqOJ85wDWaJ88YlPCHVgwhdj4PR1iRIj7VNPoHLhDHSyuRYkuKK1JYl19OEuAnzYgXwy\n",
       "d7xcTkn/3rg5W/euzOjOw9LqGzeJmho8vWKentvWucHqf9HH7+6Id2h1MEr/2RvDx3UZK4Vx1MYg\n",
       "jLf10Eahd4aYPIA14/91xuY/DSyJxNsBWkjdULdLtjMih/EQ47M9W2moFsj+iRg7OtOfL/CvjNrz\n",
       "50Q2fpxl1kut4/Gux45cm0pRSHv8fMEuVjmDkthCUnnpWYlPDLMvlt2i87L8TyO0Q3MelR+chTsj\n",
       "y+UuW2IphHTpkg+ADg9qXpbg5wZ7/PO4OVv3Giy1ilYYBx49w9CaSbZ1WJshyqjwVhAc8J9wwSVF\n",
       "9uUPH3EN8uEzUIrvUXWxw1yT62utAKJYhyb8LNBJSO9KsEPTXCKyE+DULSxbBzmBg1GIuQ4ESCti\n",
       "U2CoIBZBjP3rxPeYk5LAnlE9rPUma90ltPg1SQe5Dh+8WFfiA9a6URiQ45itbUum0ZjBxzmrDVr8\n",
       "J2Z/WxM1ZcFMQEHvXyFbsyVvwoC6eePb0cR1YODqFhgArHbFr/A1BNIu6ugm+5k2lypknip0PmEi\n",
       "qUn6RooZI7HSi3kMEW/20+PjzeGOac01RDLFIzoIEZW/lL8T+g5kUyV99JsTRmHMxLvLPbV5fV37\n",
       "s39J2BcttyatHCxIOzzvO+8wceNrvWsfo8x+H7VWcBmCXr++tmX6jXDXfFagfwmoc+S3+TgqfzLY\n",
       "8KqwlVOAv2pZAZRa0RgayUImyp7DbXupxBJJ1jOSjMSnh4owGi5f6losxCOpD8Sgre7BcMdZUL93\n",
       "Om6RmgZL4HI1T7r58MHfEab5SHKeWeUy8OKlQgilmV1HsLawqR+V9sy5rpxi+Et34XmtrrgPplSB\n",
       "/GNNcSx1ZH65hypJEhOCdaUUShCEcX41ZZSdYo+h8f/24g8wCc3cx66JvW2n6xMt4XgqfA3Lc2BX\n",
       "D6bLq7Tlq0STMQAAAa0BnmF0Q38AKOd8WX2yx8y3DZwaa9nT+heP6ACda1BHLXyXwW9/OQRiR/qC\n",
       "LLOUInwWUGm/ZLZUE5ueU700Q+z49a83/I/wby6QiHGeSbAEcgbG0wLYGjnX7YrsqJLmQ2m0SrFI\n",
       "6LGSlqYOthvB0zQMGyJzNGycCcCVHds4DFBeXpuCXZ+fDcMvcy+ozDwPtVUctV87QNg4Z5ZjeTxx\n",
       "VDS/U6S+O34nJlEDQ7jcmAg/jPffQInotawQ3+eKOOohSgzkK53DBSOAwJO7AOQevSGtdR/R6JCK\n",
       "0vwyPf8vEt632TuNLwM5NiGiCsW9wfiX6e7bM/BmyCWSgYg+hcWVotyQcNHHeNr1XO9vdcgyCMLU\n",
       "TqL6AlsXpXdosr5Ew6XgLa10L1hOmvL55K1pdXkRqcU3M8Y5jTcKFZIwM9N35Y5l85p9BXUZA70y\n",
       "leZkurYy70z12/iM+OgVAgpVkCeUGCY9oin9q6XxwH4O+tPpKgqgf8NyzEFvEPya41Oe+gILNmgX\n",
       "T39Xn3yKEWmxfrUdcU8NexEcn/3BVqVTyAjo5GVTzHTGSmKAHfcDngPMhIAAAAGAAZ5jakN/AAFH\n",
       "eh5rZ5FoAEP1fQIohiDJ1eXZhcdSSuGnnN3zbRA4KkJzvxBnr8ada3sPu1AeggozjTdxziA7JD2L\n",
       "6Rm/Wou1h7w0hMQrmL4NRv0I5kWWtH8e8G0yAFzyNtKPdSK6F7gAGnZtMCqqnTlwhglg28pAEuB9\n",
       "23Q3xM5bpqm3isrSMSeVk3Q31mSQWiDjEhrP3V6mwq3n1nMl7a6oslTx+D0esCNA4tXToxiSItRl\n",
       "gGvKnHKDJDqpf/top8Cb8hYIOTqeiJeYBcMJ0rZZErQEq+ib+8f68aIBMd9kVUTjC1V4jmeRPoNk\n",
       "iO94n2NXAoPx8HuiX89/HHPJNduqLQdfri26Dp/fPWvCgdPcUWDrPszVSEnVwFRimdpI2iiiqw0/\n",
       "0YcDoqhX1SDe763WXtXsVM0ILcFDwRf4b0E2NwqmdgJ3NW03v0WaqgInxIh33u1KL5dZsi2ZeGx+\n",
       "6kwVOOPN/gk4vJqZMcm9MHEnCUAHvmxYnE0KuMT+V0GjAAAGIEGaaEmoQWiZTAh///6plgAGKX9i\n",
       "/lPwIANXYfivciIZRzd4xjl1F1FIiTkAAZwedCIzy3D43Mes+d6wNRLCKWDAao1el4LS7QfyCdqY\n",
       "o9NXnFvu1v2Vr/mo0uRAShA0CwifqMSebqUMYBPJrn5UdrQ35QPSWInTVP38MOAtmvt8TZbjban8\n",
       "56E0//BDVp1pumspblXRs82RHeDwcqYNHqpb6qVARH/5Lgg9eE6xV3/qz+SGE+8PSUNRGKgjmqwg\n",
       "ZArycJfFTc04AQtCAfSqhqTmHPxwYtzKeaHznYsc66o9L0OIub81/v/jFPtqrDDQ8HO3xnYXCRXD\n",
       "xdCnpWrixnkkXnQZQCsPLA7jy5OdBtl7yszHs9AbSPtLqfDB1pM7t9UhrSlWTm8hvFbK5qIFPzlQ\n",
       "uX5qZgdTGJ/IXL8DvJOvfH7niV5v97lotbdP2keyzCIqWeEvv5EVAiRYkGIbrTmMlobg6kaCQ4hD\n",
       "fz35KxLAhIPaMcQ0Wv01m3rEEQzp31ou5jhkV2aixO3BQt3Yn+hep9lFKUklcHuZv/WzFruRB2Ol\n",
       "bVwkg1Y94IPWpwgxZlgj4x33i8DYTp7y4z60ouae0Ww+nc++6yCdLHW5PkZ7ue/ATgWC5ZCITXr7\n",
       "D7BRuaWc7qkWUhNBkGbusHQ4o//RK41NipvQQJrgvl4NZhcWn2WLxiH3bvUPfKdxTNPIooHA0to/\n",
       "Amh7PtQ9bCTbIwWv2csRDAoxPLQSZCREq2Fnc9G2hHdtDNsAtshnjjCQ0EKOrULs0HwZfgIq3RZm\n",
       "jcOi1sbdUw9Qr99M2djTF2UUnqj5Hlf4cMHzx83yfSfTqvicPynCBx2G9o8hfDZpW//Sk0jwUkg/\n",
       "0B/66SG9Eh/B/Wcn3Yd2vqeiYuHy3udi9t4c1x4vkUdsvzgXbNVktqtwWqGufXiaVm4f+15kQUmT\n",
       "/qUOpOrd0h5di4RMp38JlDBMPIQv5ODQJc1hq343tJDdxxYjlbustZZLCAM7eCZJ/shw7HTcajJa\n",
       "sTPu5VKTz2vg/LCxkTEUOfKdqYfTni6cXzbMn+iZ6cC0Wrbwvgrbo/+MdVe9P2/kx/w0A9teb8Qa\n",
       "N0zfTuFb2ECuZMPbdUom2I34fnNdk/amMX3isygmN7BOG+KU9OUnlLErPuHe6I8/3+7+pOEnoTyj\n",
       "mF4OXcQgORy+cDzLodYwYy0Xkpp7k7CdrwjAEFO4iKtgcNlISPPcx0oRUHTGJZh0/Vi438w0mM5s\n",
       "g0Ccn85Gi2yD5i4kzPhRKJKD5fzJCJk4LhG7JAZNY87kahJhdD2P0N8gxr3/mkyENPExRP4x/BYh\n",
       "g/wQNZWSe9OK9J2wwcDFDYutpLLoAoOSiDXD4vZ+WfAYZDwDkHKpzkPU0BhDL2Mu4LVmc6Sv7t0h\n",
       "mHMLhlgVD+hJCKVAjLF3Jq/5V/0MMkGEgBmn4mWhJqDbkKB3sfJDEZL09o/kL54hLEb0o7XOjbzm\n",
       "GfVurDRkxc2B+YdqJZVOmZ6j929FleeD+Mdntj8BAQOA4IL2M5C1x08H80Ixk2+x1vJM0daoCfZ4\n",
       "rEpKJLphIhBb4QUq8KNl//AstB/O9zh0uJMZ6kG0RsXclugHI68GYneSWhBfAgItDugAL5PfsjCB\n",
       "xeubZVxQOJor/ZHkWN0f6hJLKxDq099Q3jNIzUax4qbz2K8EuQ1fLZGrKN/f/qYNa6T7fV7FpN+d\n",
       "e1VpcuOVByzNhv2K6/tq+CF0GxU9WaXxUuSfMXTN6qhc38mLJiws+biS42hCCdDpBpFG/hxEjOk7\n",
       "r0wCX4c4clKn5J/V4WA/vgSztNlpmKDtIpRNAI4gpkUcjWHeYYiSAo3wEbzU//E7U9e/HwlWRmIU\n",
       "0XGxLwXUx2DVIWZK2NXApYXupWFLVDX44h96ceFCDqZ2HLX1dD9C/z1wsLWfTm2Kx8fhR4nd+J7d\n",
       "taCqpAmL7kfyERUqrOa7KLSKPjSMeE65A5pWADbCAU5nFf/gjcHraTP7Nd+ZY8M3ic/TyisfdYTQ\n",
       "a3JEMf8AMpi0wDpTd5HymWIcXx18u+vgfeEZomofV3g0f+4kSKQ4ZQmXS5JMbOdnFS/MvejvQ+kz\n",
       "5QdyBEyprAM/AAAC2UGehkURLDv/AA2ZIAbl6dt/1MR06/Wir+MliAC4FaYLTcZbK+HxaONBZZh8\n",
       "BcNhf6jWeLNhApy4P2BT+dmQ4D5gn6QLFYenvcjJ+gTpARPBG+rLltOzvptjks785dDsA9J/xNvJ\n",
       "o+dPldrvJ7/+EiceRclNOA7RLWRX+nZmC3OqUn65emb7bfM3nosT8Ulsvngrt5aGF1bfs+AVK7wu\n",
       "OEl247enTChsmzpY6i1xjO7Zxa2iDyO7TnNqnNaM0jKcpJvDYivXI2UkZTHQvXoPOX5HDlmJ9k07\n",
       "ob7hXRhewcbqqUqMIUKMKh18zOzcjNcrDaH+rhqVmfnzQLXYdZyHVN+eDg4S/z6jLVDQaWkuL61n\n",
       "TwrzHuZTtTUoWk8BG5yPDs2Kek3UK5GPP7WuFB9CEtAwbWAaSQBBi0+mpemC4RVmbjKHhGF6bp7I\n",
       "Ambsokcn90GK/oxxRqhH9FfBXxNvAHbSWg0h3NifhLi5Fsig+IL10z4YUzh6bZNEgn6QgCxoTfSC\n",
       "UJIbZovG0xA2cp0Y22ADI4sCIrtXEJ3c0/qQAI2nLGoBW4icKFRk7ch7wt7GWXAnKJ1/d+9tiM5/\n",
       "a1HNk6MDwWPvUO1otlYlChAlrW1p+UwgpS/r8PkZv3iByIQeUgjV+yJ5KlGtyQUYtq5kIXGU60Xj\n",
       "UlpCjlbTjsgZ6epuAKyIOzYM251oXKACPLXnc8lKB2JddQiwOsY6krwX7H/JqIPj2eHQoBbawkPE\n",
       "8YBULfzvl/VyT1kuKYB89IIfEVrZeLnxn3j3aJ74Yjr19t95dMCDOGC10GyWAMVWc5lvR6zbUcgC\n",
       "sf4q223HBkhy3feuNLKP9y7fg40JhvrFDyjotvN+DMtzoTKjw2gP6/llOobGKbYmsQgjcppPLrYP\n",
       "9ZYcACc9fMy4aCSOrbfA92JLRFqgQNh27EzzVXpThzsgebQwfk6MGzvkmekJ6fkNEEnGSg8bpeQH\n",
       "pQAAAYMBnqV0Q38AAeZBVQAQ/WnLVI57eBlA8AgR9qzgwMY3ZGDG7RPE+q0aQPpOxugbIDnUCgiG\n",
       "1UouGLkCslH0f88L5P+XKYu9PYD8CHgwKRcAVvrhVMquL0C5LkqwLMmnNHXkFrqqBdMiB0sknY+B\n",
       "mGcCxkfQrECqH9r+WI7j6pT3o1RRiD4TxZeibMfCKw+81cIQgYJ+HwdgN6r4/v9d0WqKT+Gg1TBZ\n",
       "Y5MBGMPob1JsiX7Fkr01hG5V1z6WZZ08BeAEKhl0HtDZ5h92PBUbZZOK3moEBHkA7hh3oSjE8ev2\n",
       "MI8mrRY4Xc/BGOyroTvn/DeYJYs0V2Xu0N0xt39ouifIqh8DyAu/TO5YeeOnhsfIMVal7yHNPeLW\n",
       "jr6+bbTgBcvDdveyWynBOJvqoutfy/JfaURSj2xmHQc1XODlQubxO8zn8gFU7SKVqMZ52zpiC7o1\n",
       "tmI44wyt4La3+DxutIddxPYmXG4SU6P8ICyuNVCJ9JsJ2BWkbjLXn56KLeyVDHzyxF0AAAF6AZ6n\n",
       "akN/AARVDwp0/SLgtmACEqoXPriM7ya4/V1c7CAP/YUaTwoXbCU4lQlHEiYSgMqpb7lur1HvFiYx\n",
       "tBTAVFNvNXVLECn7SG8FwBNbzneTjVrvLtyy/Y6KU8oKa7M+SqgmG0rCowM1g2PexEN6gcVO0+Qm\n",
       "VAEVEMcXD1+J9UhtrAFGgkF8sn5lMrBdypx74zrphXePragEawnV6rdyZooEoZh3uYwjam3VnbuB\n",
       "mbQXSv6v6Z9WZqOWGfKZKxVixqEvq+c2Ttw54PGycfx+QfM3kQrZ3aK+YNJ8aoEZ+qp7YVqz7nKq\n",
       "fRLcDg/nIpJxCYZpW/q3ubGw3y79BQGNGg6kqkqziKG+IlsA+/OsRA6DKz62OVqtPiquh7aCFwea\n",
       "X7HITP/V68x18gJZFNK8e7dCHzteCxnvkIKDGdjxZhjTvQexNM7pb8EbLwK6E0QCYjX5Eep4+vbn\n",
       "eIr6mlDw8+uDgAPMu9u6plApG8wL0I0rgaJu3MwgAHzAAAAC70GaqUmoQWyZTAh///6plgAGKXB9\n",
       "c+6SImABbqIF8Q92JRpX9000CJ0vUnnHFv/NFBsvtbNwuGuunJrm6sLwDOMUwXuQTYQiQwYw1yTk\n",
       "gG3E+UfcaTpW+HjOL/FdWAHwxNE8uAG1ReW5IpjHVG231yZhTVi00KoWYOeeCL3vfCO//Weco7QO\n",
       "gQ4Q4L7gtooPuUjPtSYhFiEv+mOGu4MDJF3AO8lg5IuzjXFItphsZ2lu4EuUtIxvdM8M4z0I2ghn\n",
       "O0lLW1e/z9liD6SGJN/SU02o+R9YI/hCzftzt0fDq+c8Ab4LPqT0RupAOfwfkptRtLvpKsleADEF\n",
       "d8np0pQQUv6sqwlT5YBnibiQ2xJmay+4X470v30IjiwBR1LtBYd7aYXMXnhyYVLbZjKIZH8k7kkE\n",
       "/8IvpV3NkAPzkx4Ks3nXwxHVIVLMpOa/8CI9B9t/BLpqclaf+9xXZBJDwx0NkbPXEbED6AOrY4x6\n",
       "1/WEu1Qgo09PXX64t/f3sc/byytL1nU9sBPppDtasbIAOVbZdMdsuflR4aK2neNKNATQNLBvf2/D\n",
       "IDQ/LxV/GTlMzpwE5l7liqQ/tBPQAc0X4tA0TVWoN2q90AjQhWPoW0jicHUqov1aQwYtiRQ4pi0L\n",
       "DfAD1+lrtRQABzaojgLVfPsdn88jMkAjGUwiHcwTALSF3q4X+R3KpLwBqu+2tDEbcMboQfaqXitP\n",
       "phxWGwdiv144GW7GOKn4VgPURe9v2Io4stjuYXzo1OOXYEawZPU6OKTC/+hyZSvTCWDuJA6Mqvbw\n",
       "PqIb72fyXRMD+Qw7MxD5GZXwgLgCDbCbpdVuT1zQQMkoTccZRh6Hn4tYoJY/intKJp9JgQiZzK2I\n",
       "cgHS2yFzAISk3g/jD1JWU6wzC2hv30L6K3dBrXTo++WHqdnDmAlVXX/1r9PMPi2bmLeU6VgN2iYc\n",
       "27lEW8M0wT929mSdH8vsnLIWeJ/aQYg9HPL4qcFEP30SCqZtQMswYehsqj0QsqAAAALNQZrKSeEK\n",
       "UmUwIf/+qZYADeXHyoQ4bKwT8DM5cZauyDsHyvYArnC3HXAGcvjDAJkiPLYDQYWCS0ZkVvSDLRgP\n",
       "fwzr7ITBR+SdOH00BvirKl6U9JcGDfJMJx/vChVLHb1AQ6h0QNYacVP2xVMA/knTcpeLYPqgKq32\n",
       "MDPIt8qCj2H11Msg8R9hHdqdeKGy+/BgOaWp5Jo3nf0biHtPxCwRsVrIx6xrGz1rYSU5l9WV3vfm\n",
       "K7Ffr8kygummopURfyQpZyc/Ybs4HYTE9E2H8hxXhRIQGoL+gJBPuGdRky6mmlfjjP9IQy4wvmd0\n",
       "4LrMsOMKpUveQqdgFlaG7213ImX+fgaLr2Vlua+/Cwe25ZtypQE9Eb34I8N3a5PHvwTzxN2+LPpz\n",
       "QFrEfhP0ReQ1VsJynrfOjiIX0dwjyPHg3Ml6C1hCv7a6oW2q+3LXX4IRqgocMX/IczH2u9AttSU1\n",
       "Js/PuD76mfQnmdYnxOhy2vGPbreP6pdeqpu+86ckzSrF+OQ8WaAeX0TDya9l+FEo3+Ftenq6VNKg\n",
       "8tZGYCXdRgofm6k0d4sdVigIFVSxevZCjfNLLYVtdp4+rBNGkYy6kzOKWx7I5Q9oU1oNygIZ/zf2\n",
       "HyftM1HUjR37uqnlVwaWf4h2Jb/2RDP3TFkNxbXiPUuwbsREvnMw23E4NrPzbmlxaem12WnOGzye\n",
       "jsA2x6hIoGTSw0OANmvNAJ4BUEJJ94clD/LV0FrF/gt692Jt3vkP2fJcx6Z68TBcacHZk5uGuNUy\n",
       "ImIco8wzUSpDS7Zve6SkvWLSyr+Z9QTzXk1VxEdLcBnXA4UxvVHgbfdQd1yvTbeRIXEwgIyU8uSZ\n",
       "Shp8Wu8p6DgZ5T4A4WNsBeoz2k5clX4WPVeorw1BiojLzXy7dj8S9PUZ5RJ93AwnHGg8DA78UhY9\n",
       "oJOFB6+HXwzysa8azPBF8j2T4CaKTbcTiJeBAAACcEGa60nhDomUwIIf/qpVAAOPbZgJSOQAADs0\n",
       "fIipuEcqCN9zk1bO5kn1ulfi7dqXVI9I8pBOe6WLQ+y1BTIhhGiEw35THongQ+JZlaT7Cd7ZPEJo\n",
       "SHtPzdKz5yDMgR+Jmpc9P1ZpgSZ8KTCOj+/+xMMKQf43wEbYECw2XijbSaMSzs8psIoXXUPJYOmi\n",
       "1UiRB12muKRpdMGQUR3oLxtk4oEBP+F/Qbl2T4U/znBLH+IZDi0gP4Idybf3+hFBfrXytujJZwqj\n",
       "nFJ6KF7eQAqQ7MybLYUyZZknBtpv5K4DD0xhAkLr4CZIHhg+p0/CReNxV6t1cVV6Dv8IjsIWC6ck\n",
       "RyogOnD0ICIfFryjGxTFrOqiAr3ywedweRvn3AfvmE6uX9JXDC9AH7N+xmOOTYh2Yp6Or2t0P1ox\n",
       "7yDXyj9cnz09WSlKe5WJ9AhAi+8C2ezmEdTrM2kQ06GpljQkXG7K+zC1BGlF1V+weSVyNhU6Kv9y\n",
       "ijEG7eAIx1gzGy7AK5K7zYGYAuSPrVoEs6cC1yy3j7utGT5UglM0SLi/9iWhTN9QFUUaXJd77E2q\n",
       "q2KuOtxQCowp9clFgyjDBIYjEn976KWHtINLLOt/9yXiYqaH7emDqPugGW5Gb6I0ny9gzKC+M4+a\n",
       "+wxxaN4LoUnGjWjBUhI1np+UBLV4PMUy+p446Tcslij4+re7zJlJ0za/caq49vICFMGDXYBHol9s\n",
       "QGhJNRUa0pRcpEEZO57FGsL3JgmXJ9Gy8Z+AqlfNcidK7bGQCN59qKkqw/38Y1w6ky1tCRq9lS30\n",
       "fDghIFcJFOs9zeZdcOQvhDx9No3C7PoHNxiP8AAAAlhBmwxJ4Q8mUwIIf/6qVQADkFyrrwPywAAd\n",
       "mjqTUw+y16qXkJVKn3M3qwWMOR8u2ZBODEJcGXaev65iMQCpvqHwafU9lHrw9xpHu5J8o49ZkqBP\n",
       "RkC6hQ913wq8lnyaJKiNK5liQO00v8/HZ+f99yZAg0NI3expTvkP2FHtmZc/qt7fdKffbse9V8Xm\n",
       "IDA8pjEctdBg02n4xxTe/KIv8iQyoRyzG7cyU6Gh41R8abIvOsVOOG4nvVlqUra7AhsNtY8rj6/J\n",
       "SSl2y5DTJwlOrcXH+TnI3ydXrh7SObxUm0zqXBPrkvbV4Z1KQ4rdsArLFtafIqo6ZPljB1nlq6io\n",
       "kT+rEIhCX1EHwt3P3TId44Nxg6KbIk8JJ3ZjxPLYrZEzuUCgYE9b0ptbE3zf+reQ+E0txpzB31pO\n",
       "dD8twbpEDHXW70j+9TgvdvV1FxRn31o+71mTqSSLShdUeH/GMAqT+jilrbq92B0WC7nyqAaCS/1u\n",
       "UNiHhmVv3PNKCS4+Nvo7dfbf3rACDwSc03aPtxRtszaqp2K14YATDeCiQ7SiuCvBc/nq+0g1rthH\n",
       "vKygd6c7OCOCWIuJBy34s6EAWVJYtTaJwdymCP4Nq0+Na+9mBNJJZce/MN2Cg7fzIhBHWN9hBAXv\n",
       "+dgItEukpbCrklzMmEA1HGpE3ntDGyw38gSuIqbunlcTJtZX8JPbjJWw2Ln6UoCuaHXmag9wUQHb\n",
       "1SbT71vWhcs6TP3YLurOqwUrt2vWTE9B//8WJ0GwJX7nUGSoSBRJIXAoUxEwFnBoF9tnYtUoMCnp\n",
       "NLc5y4AAAAJoQZstSeEPJlMCCH/+qlUAA45eOGH/IADRbUsgmmJzYVGHgrP1CCIRI4z9L2R5jOLR\n",
       "T70NLVbGtzDiJ0GDtBj14XLRN/aq3F7sWYdFnkOjcrcCaJZKtkvqBkCwPSomsdDjgTOKK5jvxu+Z\n",
       "+ZbcBhvGMBQvIJPWFcMy8of0F/QvRTkGFS8BMokR/e0D6hopFjsAeLEHnOjreicDW/pQI92pVlk3\n",
       "9e9UKusu5LGn/APvH8AKlwgbc+SpL534REQoGsxrad9NKAB6mYjGRfLi7e7irGalil3kz0AACeq5\n",
       "JMXVgI7aQXyrPO/D+nPGiQDqm8Oz5uLNhAO4QKhKaTciW5r68S/syHtK/UpLgRmhzpVrfpIzFrft\n",
       "jtzUw1uMG1wu1izR46Sgznm3wjktP80eUQpgNEaj/8poFOVjNjSu4/6LCAVl3dp02D4eApl0QZRF\n",
       "aDLgYkNr0jc5Uf0BjCPFmMzuW4oBh2Jo4xD6bRI64e5tqcLVmyRWf2iVUIzz0azl/154/Y/IBMxV\n",
       "uTRwJ1y/IAv4qVoWebUIu5ayhElDm1g16OYnQZxPtJoSK2+GW2QNn3TzY2rmACyJzt2VDaKT0QCi\n",
       "lShGTj4qMzhXNNdhpudo7viKAT2n0iuWByPiH5m+/UPFOPHj4+rr0zg/tfD7gYCsi82eeIosQhuO\n",
       "aY7b/LC4OgVb4H1bRnemyuK2X+WOtP44A7Y1L/pV1iZSP3oKXbCqMdyw74IBqfRi70dtzSTp4aDI\n",
       "Dgl79PRewrPN0qz8SpmSDl+9yw1MT8iLkf7X6FwTd4FjknhuY+4vpRE/8LwXYIQBgi5Cm7nTQQAA\n",
       "AwlBm09J4Q8mUwURPBH//rUqgAHJZWvIVx+/KDfiXABxKpPQj7CNH56zZL1MKt3/Z5802VfigJlj\n",
       "xcrqC/Yc7nn85FQi+P8PNO5op7gUg8SXF4sRmEtXg+iZ6lB9s07Nk+ldNHmk0TRXiUWOWz6SzkC+\n",
       "Dr+YrqjgwoGKrq8l9aQe41Nwp7SipGpJO5fuXKG2eT2Njs9N0jTBSWrw37qokZi4MfIbIDen/yGj\n",
       "ScxKtP9dHTevApoj4HalmktRqbLmygCUkQDG0Igv6LA31TLYBn5rNR+4+sJDuxjzP5iBah1y6riA\n",
       "Bez79wPbb4NNIfxsuZ6U0h3kW2wiqQgOpShFNMg9v/gk3Twuxn2+vBDifEXV/04BjjtS7xBbszd2\n",
       "2beSwdaUXsuCJt5fPtTz6VNAh0lJpdCRDaO3rPgYf10U4tEQbP8ZAafcuAicjUif4Oq9sI8Lf0Q6\n",
       "g/c3ecqErQ+gkni9C7hQY4VLuF31FjI2mCx9R46FgyHtwos7TTBogBgeLK1rC8uRsRPNl/mgGn1h\n",
       "ynBSnwIMC5fPqUwGgRVHLJv9RPMJGnQuHW1z/4Vd4cg8L0VRlcUGztZ1sxR1GY1kYQOmRy2ogpam\n",
       "rvjm57w8j1laZW9g10g971dKOCp+QPyepQOqCe6GsDIzrIoYaHxWQliGQme5twprCMD1zZkNsxd6\n",
       "lS7MAxb5NvFIfZdKYQkORHrNCiTTKa6xeXSx7wfyCoY/wqbuiLlrRMss8uaAxVDS/1xjn7RZ5BpX\n",
       "7MGTBWN+7eb5zXM9rwWMlDcKZtxKOAwoyALiikKD2ltPfFdsU3It87JpxIPGXhrUKEztnxu2C7fM\n",
       "KbVjG40x8+7NsTmM+Fr2ADFaiPhiBiWMrRGBhC/KZmzV07gsbf9HYiN6wKJ6qIW7p3sXnMxccr//\n",
       "Bm12mDezZgG4RSbUiDHgQLLOfNoLYXenL5VynsgKcfEamwqBYx4PWuLo5sywNkm/RseD0+GNmmyQ\n",
       "/0yDBbzqjM+gQsakdsVGTd9O/2vxth0pLsJ9iRzkqrRCxJJcJB0AAAEVAZ9uakN/ABa3ouv9ZeTo\n",
       "PHeoYAPdAJuKw/wKIbpk1/28+p39KV3PqVys/9gSaNzSKRpZpqxGdBiy4SvYpcO+UJZDbYuWjwvi\n",
       "LzFGqYYPk4CgL5pCuc8dthhGJTJDjLqNecbjm55Ggb/z/5vVvNC4PzVEL/RwDsTBZxYwPVB9Ouc5\n",
       "vPVaWt876hbdfpITxkFPxV8otGJDUg+sl/nIMegweko/MeJf4e9riWCpcPEEvaYfmuKJQuSPQGNI\n",
       "v6OlK69LaOK51NW63Yvdv3IOQzV+5YoYzzYmyxFNVMMJSZPVQQZloby3KuQtUAU6ui8BQCULaEFH\n",
       "M4HLRcQYjsaIGk7kV8EOdRsoe1NLj6wLy9eAA5Jw9WeTbwAAAztBm3JJ4Q8mUwII//61KoAEIdig\n",
       "19E+TdHX02MmYm7SC0BiaPXKU1UcuuLNNmDDu+605CgS8EwncTOgt7CsMLL4X/y2UaYozk3a8BY4\n",
       "AxlkpVTmCwGbZ2G+sZWmUxo5YAdkN/av5hlBXU5PxgQ26WpManyzf9zxc7bKJDjphDfThZRvqfCC\n",
       "103UKCSjKs0QBM5Q7VJGDV8Qjrnv+r38DCUTd+huLbGT9/LIOzQdG+RggJm0PUQofhpPGBt+Srdx\n",
       "hktWELCf4SAtYqI9TmgyFuDHYpWklr6HR6kqo+oZjZ5DyUIQ/LEET40GwQ/pBtKKvm5QD9Gtxc9f\n",
       "LzbWD6OlL1JfcoODqrRLU2A3P7zv27VGvza1t91zty5JsrkIily4xRnPgcE7TRvPOGfSflXVBJFc\n",
       "sovZJ8Gt5LbNi5llyvllvLmhu2TZUbDz805QYpVm2dWK4a+MLRespb+9zVId53ZLS1NJiHKswDRo\n",
       "j2e1kk53jrF1xzvoDHREjE05N1cnx3yaxYn9VSiCAU1NgjRfz7HHo9cmWeAOUElzwXltSxb/s6aD\n",
       "xOT8Xp+qTFIuRzKEO80/CvOOMITTuNZiuv9IAT6E8itz1zNGRtlC/Np34DA2rhOUGgIj08MDFe+L\n",
       "AeO6vcDCXic2+fj3pyYwHFuMKKhMMZzoJgp2DqinpJy6nKIzLOuJHUge+5UVDQX18m6ecggguxAA\n",
       "GX4agNV1s/0okuZ3dJ+viF2zShN7mrRMq54g+7SipcWJ5Vrtiz0irPZ/4Q3VvfOZvCgHPn1Dkb5T\n",
       "4+9duubphSkf5Y1czkzWK7c+a0jbpw4RwFInO/WnGVru33VxE9NJKQug//3FxjUicdNT5EzPVXtb\n",
       "BQ76BMgqC2vquPhOKFaAstHHTPLNnPy+D6NZOrDp0lQZs7cONx368HU9qbfsShAP4dCmUpfUjfNh\n",
       "Nt0aPZF4CUW+y3ifONwAkcEvp6szsExMwy8qLR56TvTjoYRAlaIol/6wXWQa4xRCkneLNth/MIHc\n",
       "+KyMm9EdcYCM3rgJj34NK8ZckYi3S3b9GytkFgEpG0+S5vSXy9xNcR/oPM/5pDufmLVWeuuy6Otn\n",
       "JtY92G7WAJpexAAAAUlBn5BFETw3/wAWuDPauE3PfTNAVztbvAA0hSvstmUCfSuDpnm6v+ip6FjK\n",
       "cgPwkDPTMNi5/7cSj3QMku7t2aJrsicmhef2R94sV7St+6Jcu1D8iuvrbqqTk2zKet2jPuh2z+rp\n",
       "mI0/PhYhBw90BGyWMbk71hRZYjsjh+ZWLBNnYrHgN1RNtqMS/Cxx/VHInd8rDR/kvd6z3+83iaJQ\n",
       "RyhCmXDLvw5kFxxnIVqbT8WBWxLxsxpMWvl3dPQzSZ+nlOlrvj8soblOpoGo8t4XYARz5QvAPrBp\n",
       "qeVBaThzjdLHCWkb/QyNQhDSRibAnRHHaaruO7uey+RZyds/2pVcteI5Xae3QM15y2Qnmx7CjxLk\n",
       "v6me9CvWB+BrnBaP5/IFTpxyD5XlbrvxubmQUugCC+MNeunhdZxQCCg7bcwIk4AO9yEsIliFbEPQ\n",
       "8AAAAOoBn7FqQ38AFqo/PN/U1cALZcJ2wAanB7PRg5pYTcKQdg/OSDSM5WhvjcXEhadm3u+AEdNR\n",
       "oYETPaOUpJoEsobJKXueD32bMD14pB3hnh7OU7IVV8kT3iFKw5eEyteH8dIfgXFaU0SX5R/gTvsn\n",
       "Sqi/HMLgKHFxV2w0BxU+ZAgy8kuOPZLAo/ugxdUXESYPookCeXbR5MSZCbntok6j/6QnvEMnk+QH\n",
       "oJ15ge1XgP+lhPByt9xkNP/+yaM9g70A2QSULojNuRLBpUfI0H0rhxS5uy/I8N70W6s7NLG8vhgP\n",
       "VMLaBNl5c8vv6kkAAALlQZu0SahBaJlMFPBH//61KoAEALMPP8sEGAAgbsxLEZfdIw2vmbFOgSYs\n",
       "Rd5M7EoeRos5COFv9GOLwmvO/ZhuEDplFrbkwZqLmPLOlhIn7TkXjXI/FpsyX9kR0rNQvOYGpIPP\n",
       "7PJgttCCIM512dxeAR0wuHsVeYuN/3PvgPdi/TrKI7vX/Qfgarq4VHHl1V8MsqQFP79uK4oRKpLb\n",
       "tSP+o+SDfKqNRTAv01LdlUqPTVMEAb6yWmu5MwykrnanaKy8lfsy2wUwx8Y+++N5OATAooBi6t25\n",
       "LzN/GupHZPUcF1KOV8THvpoKw8AXpfcutwoqJHLCa+7rcJ7d9ykhkvXYbkMCUuaTOUdWRwEzXh0F\n",
       "MG/3BgmKcFj9jaGMRBNrm34GE1HrVlH1/0fX6tRhnW9gpTRGsvsEe8mi6sEG9i/uXPoaeYE+ndSB\n",
       "W4SGQCboBRPgHLHXxTnHCkhxs47JWFAqio9M6mzPcqljOjQbuD8OwjQ2jfFDR4CCxeWB0goZS2Yd\n",
       "ELQrsl/5GJrSGeaA9cU1/hxJWYb9hqAMi3DtiCuJusD5UpdeEV//yHQoAD7a9NfO0Z+zJVTW1Ean\n",
       "rRJTJ427z2+OIvE39zPI+EoC9ICi8S2T27tTHmplkgBPnUwSa5grKfqky9OaNDmauz2nymrTT8Gw\n",
       "yf3QCfWTAc/3qMrCRB92twMwfbBxxTh2CNzR64uJofgAI76lgEk/Ta8MV/7cP/y/epY/75Ox8sN3\n",
       "Fjkad3LvKFewqt5gS7XufgPJZnW1QE5KmOTHlLOFWr4ryYr6GJSM36mmC4FUH8pA8cedEK3SCUou\n",
       "/wlYLfmablK4kWTofj4n5VHiJu4lhsDIEeH3p2fhAaVbIh39D/kQVaW7a32et3w69tl1V2hNUf9K\n",
       "hYdtEUSyFP2GwpLuVrfEtWfKKRSWjRaLb88k0AiW94v5DDb24M9B7p/Y/2qfSiiOr6imguijr/pZ\n",
       "hYeaSdAuAYSzzrCeOp2AAAABBgGf02pDfwAWtmkgGVAeZScXdY6hh6ZSxXCeSq4QHn/cDpeaDe0A\n",
       "BDiJj9kZTeWziehGN772lYIYr63d8iHJ0DSKU8Hczj/eQhZtNSYfO26dBazQAjA8DRFq2Kd4T2C/\n",
       "H5GhNdAzjKLuGESVyf5Cs7G9EVtoEmyyosILHB/J54uz4l8ECyED4yfKDnqTRWKtpRkt32F0GRwJ\n",
       "E5112W09zb1sPkcwBWp4rCILtNLwwl3eKjs26gbEgiyTeLdhFMLUamGkJaA8qK0HrYh8OKhUxtsu\n",
       "IGoHPzJhyfhlMbkLAKg+QgqTHdhWyC/08u4LtNWHTmwtR+j8lcTkZxmArtRSB68eGENPxmgAAARE\n",
       "QZvYSeEKUmUwII///rUqgAQFRk8RSgAK8XajdomZcu9nxmvU0VTYWcPLy8+ebi6HhpT2/UA5tn4J\n",
       "K1RVMAoOPMHcyUQMY+0gbCa/zk2UwLXoDEwb/lA5yZLN43mgReeHoRNrZ0BHxioAOgQyZXIg1uv/\n",
       "Bhjv3CVAqYWvGVStebumloY9stm5RJ4dOjec25tzT2MwkjYrHlBCFcAlZNelByPSH7FG/1Reno22\n",
       "sOzNc996j9DmmgXAXBcwA+Ijj1+H6Uwt34oxJ60wu8eMj0cAGvW7D3HP9gxDfxCdkBAoHZcUxyJz\n",
       "uiY4vH4RmgPlYszpu9uFLrJ+1jATs3RLOfJfv9zvVIs5C4aexLmR9sVdusG2dZaps1NujR2ZcTZn\n",
       "ccmAhqShwGNRL6O6skifMrHl9/CVLn2PWBAFm2brscKxh+rECsglrtkWvpo45nIzSkbrfawqOXxC\n",
       "tHQtZjS85ZQmvAyFn76mf8Ab82/sTstynuVw0F+L8fWIVhuJASqs8K58jt1FleMWwyrnknK2WORU\n",
       "fBIE31Voxcy7DfU31dnPEWWxyRxX5m9JgTTWk75clefoBj10mROBT0GcG45QI2Jcp9An0Hkw0evA\n",
       "ofLKUoROTnTlEST0iye6MoItQ3nCz/tx26/8qBFUVWuEncgfCmnwwjzz+tGf1bnb2CPQMlrkV3mJ\n",
       "QDW+U8f9iFlWnhucJSUqJxn+fNn5KwqBLZwFPoaejkCMFzTGN2bNalOp0rKn1dggP1aYrNJe4LIF\n",
       "1I1ve4vUHrflPU5Ul7SiuO8kMHcqV7rJUPh3flUV4tu4Hii9mV90EVbSE45hHARKcJh6ZAZeuIHL\n",
       "qxXVK2pxB1VGjEDxpFjLHpcdT01mukjdTO32vRiQwfD1x2HnnmowOAQiFzhTOk7AzHdLeh0iMgxx\n",
       "i2xQCsWAxTHcuLzF5kMJa8rzENX5IELwWqdF/fmtT+E/4RvdIkBiWdiJNgSyu5IwUTYu1xOYFkF4\n",
       "P+S/hxwP7uvRtT16StExeNRGgLEDZv8nSlwzpCDYQmhYkEluuioswBVSOXAARUFpLxOEEzt1NcnM\n",
       "pVs8sjpZFwGlEsHceTr8Zulz4xqyY4vPNhSZHy8/7EXe7cxVQtiUgvyGAFNmKVHa5W/I2pz49Qye\n",
       "Qi5Ze+YwvgW7BKnBv3ckESgdkpmS48xv5wPBu9R4Mv5qjYdTp1Fox3lZw/+q00uLmvrniR6dbjOq\n",
       "+Ikoa7zD5khDhtfAIbGEETIk/WyMjcAtd3bI/dB1DiPIB096L4kEdF0KKxta3TfdDlR5XRTPMAOg\n",
       "CuNrAMWzaCZ/QbtaHbDaUDPzIXRt2cX7gNeeccy3odvMxP+924VjnmTw41nOHLUdrZkUm+f2V/bM\n",
       "EY0KBiH7JUvkpP1ragXF3NWVDDOqKS047Jykv+UwBYqo1CJd2dLs0Ql/xThoEciJkmrUELxSPzpW\n",
       "/4Nhl2vqV8N/AAABbkGf9kU0TDv/AA+ZlEGiFS4AStQouZdObA8TmIffcw+LtqrpteU3b6Sr33JI\n",
       "rPiuGjdJiDWQggQCTMv1j6CMr1Pf+PxTl2sf03d3xe//8UgBCK0ywPhsgJ7L1XH1DcPhWeAfpBqI\n",
       "xJtkaKu/pDZaLhdR/7/rMcEYMZIk+FQxOy1+9JplGb9AsvqVUqIFbW0yAWqR8IQy6MbqetF0wcsV\n",
       "KgKL/PcLuBJMeZ6fDvXy4G7iAklBgPph3CqAR/cPTfPxETlQjmDCQFm9G+glkcwoaJ2JittL2s/9\n",
       "y7E3bYI21LjeDTYpgmcp98z4ETG8zAJTSorDH35qLIzfJU7AfGlrzENkHQFHECsPlQLCDjgXJ+Mc\n",
       "JYysuKcBXpW5mcVBdfqpvbgmEDJIy5i/dd/ufCLktE+Qu6GbjT6yue/KvwRRm6pN9z72WxP+Y4yJ\n",
       "iVz0yN/wzb+4PO3kAqDVhokuZ6WiiVT88oCpDS3EuabmftasoAAAAOIBnhV0Q38AFm5XA7TlWJAC\n",
       "atUQnXTvUEvgrvsIiWLO/SF7yHVnfjwYNIqko4hFD/3vfmxznzY+tDI4Ae1XmgWdxFryvf+5mxIA\n",
       "PgQwLxNK4ut3r9QBe+fGgSDp1JC9nwU7/BKkiQMmV8/m27yt+rARUEtWut0CxeoIr70MA03NOHJS\n",
       "Y60PuzdDZqpwb8J3dBhXNKuEh+HKye8mwc4TGkI77J9ui9DW5gO9mQXYZjEJDEgFCqG5RBy2KmYS\n",
       "7P6WLC4Aa/JzC8PBHVXp8cJgONUv166mLx3YgmbkRUcCw2knjtX9AAABJgGeF2pDfwAWblueA23t\n",
       "6CQAlf4PDRu3DqUhdDjzQWtuiChwZKokx4K4OCDeStH6MIdnJqRR9KlnTmbk+fSyWAOxaXWNpG+0\n",
       "QananNTa8C9CDznwn7aTlVr6zzm2MQ1NQJtTd9BTVipRnnrSmAfv7dfxEj2GV/URNfWH/vzEAUy8\n",
       "7r8SsLjow94cZi3eINj9TB2ZIE/E9keSsNKaW3zKtxfZeZwrKcj6w2h8U/hYrpQXT4sTEIZc7dRh\n",
       "iE4CnsX2vXp/hmpSHkfBDDKGbCmBKuBW25jQtAtr5gFmsdrxorAi2ycoPNdNak/PXPjdiuxIx6Ny\n",
       "aZZBEHjW3aZgdDPTPLxU/1EGaDTt94vMwiSFLTK4P1tfDQlPgODjvApkwtJ9zJSpZVJuYwAAA49B\n",
       "mhxJqEFomUwII//+tSqABAPMuqv4kYAWq/Bx05Tbp00bPpxNLxP6tX4xgWSTubMy8FpqlFWFwUan\n",
       "gzkfhQ/rntOlyWP2Wbt5mM7aMBWOqFexegeSC9HNkG4QIe7Y1JCMliULY1nqI5Vaxtgt3ICbCU89\n",
       "nCCpizGH/TjhbYYF5qELhNTj7KwJTI8DMDUDr+LEzbpOV1Mq7k1xdKXRTGH7HCH0sqLz91J7vg1v\n",
       "ljksPl3o/AJ9vB3r4GW+0LbOUa9uhn5zkRUjk13x09TyL4vAdEFreAJD24pCR1+eELyfvahf4D4f\n",
       "pZQSBTzcXodmVQk16mkUuefPNGSxMvSVQttSqyKMrC7ndBGk/4MrB0rAidL9+eNmy+QZbk6Cd/8v\n",
       "a6WXzy9eEdLVCXQaW0m9pW+NyoUPrPf3atkM4HlvFhjb6nfY0LIQ06p3oFy7gOe7FAZx5rfCWBFQ\n",
       "W4sCYAMjAOgDSvYCMik7QsYuMSAthS60YW1ux12a56rE6/CZ6a1dfCKkZXNZawLWfAVrY4OWOAgc\n",
       "5hcwl8uh5c5dBEAzSxNcULewzHDfxhHsn5Ix2MM6+LsLkBLa6ABzlktuOBj8kZCoQ+09umbqMVxw\n",
       "DcbtagCmArH9ZRvpzwxDzrUxK/1yJj87CQLYh5e5lxyG+D9a2YAYUX/W2q7uPbo1obBbUFCouGUp\n",
       "hU6fxKmx4RmvLwB4YIr6xElxcdDQs30p206Iz3L5sc3n07u4/9BPUkspg5is1GGAmRsS0M1x/+9z\n",
       "al6B5Fght9H6qpmG5fMXTiYtii4rXXf+y4dCRXPkOoctlOodVEJD+IF109fpX3TAJDTnkgyQ1uW2\n",
       "SYQo5uMtY/jLUlJ3GP/sG6SgCvXciDKLOKnO333pjwkuiBX+noP9MVxaVvWzvZM73C16SzumE2hl\n",
       "GqwiUyHion8n18wQ9thU/PC4LwXiV6g3r3c7UBMZbk0w91YCUL7qJFvG86uIj6RCb7nL7gMgC3zI\n",
       "FoIc13WCJK+67LjdT8Q5U0dv3nF8OCxolouDvej4+1827NMDjP5EEGu3t5eHkUTPOU/+WqQtDuek\n",
       "iiECzI1SJU01yZQ9jy8u7qCPU8Q/KBU2KOhVqoqrMNc88QX5OIALbOFHQyhl2v8wFneMnMx5ZGE+\n",
       "kPYex1pKumc3rRlIjHpmEgLL6/voMtX8NUopovJ9hQiAxQ4mr5jDbCpygSr4yaZL5Wqyp1DpgAAA\n",
       "AVxBnjpFESw7/wAPmBw2q7ZoALmiij2LgrY0iaM9tx+3uAR41qmDX3J1EI+2mYDNTzDaVGS8kxAk\n",
       "0dxXMc3qI16qCUIqfoVrsUF3SQXAEmfybwLWthTb5UCuU6HuawDe1NWN9mtvuOfjOEpOMjaU9oDL\n",
       "Oxcco7rR/KmWnso3WwVupOrsj009106t9Af+DNJV7OzIRWPHHbu/0waYVNe6NvC+VxDJm0P/eWQ/\n",
       "vpMpVERkAl6nBINDcl05ffm0/qTovG1AyZpEC/81bZnzy85bXIP8+GsXuYLCucbTL0f/O5ZvHXj+\n",
       "I6ZKnwszIUFElFDi09DE2TQOTSxzvuD1fmj+yB3ma8d0b6L4GvOvd84+LCR2H1AHAJdu2cWlFcZU\n",
       "D6YF3ZDW9NlbkRymmyJZc9eMDs81MifnaGj2toq9QLNOJnse4a2O8iPR/sc3f2YbANefPHxK+0x5\n",
       "7/aHEjMf2sEAAAD9AZ5ZdEN/ABZt0MUmmSAD+gstLIYO1PSOfHpMPYutWIwH/U86k5o1shge62z1\n",
       "92bFb/nlPgGMkvoQCDEZxd36HzQE84uIrDl3v/BvWyrPqmd+pEeOPxFeUOSQSrxTZHngdZHOnvQL\n",
       "qfgaN9rnfGcBvipJBWZ9ywb+wl0oHpD3Qvyz6dfSEoTQfE0AJyV/nuLSV3FxJN/0aROTEozsToup\n",
       "ZEVsM6Rbu/STpjjU1o2Zbi0Ptl+jcCGywbwsHV1IftMmukDtaDylekVWFxMZctL97LBa4q36zUJX\n",
       "wnEV3TapaQ/d6CpcKfL4wE00Lw4eZCen2iM4GmEBa3FoEpI1IAAAAPgBnltqQ38AFm3Rmd3MkAH9\n",
       "AG+yAvVYAp3oGxYGXsizPdyfMXV9JcVH33t9wyzi88rnXAYIaYIvLooqilX1HXpSAkLZUGpxRTuO\n",
       "w6OUjR6JHT8hN27XLabcRPZc5umiwldzQ9HR2ts7FQEcwtbSsCJ7KQtYnK7y+Ddvll7FsmSeVMSu\n",
       "AxDxiwVHhbjKGGu2/7xbYmbh+uAz35YOjDA2bxC2eXbs4zmbsh0FiuSZnq2YcG27v0L1DrPaH4PO\n",
       "LmCUnt1Lldwocd0XdTufOBRC59oR3CggSS2ofhLBVWbsV0J9sj9UKLJeNpH1oW9+NnNglMfEHPAN\n",
       "ZtxLjQAAA4tBmkBJqEFsmUwII//+tSqABAQ15+jmADih4M99CqZOzXtDPQSdrzoDssX9cJwRjpw2\n",
       "7NeHeGPQACHgp5WgaL5rcMZGqzLM35IzO96JsC5w/KWlPZAd2L1l00xB/LBQFKJBN03vR6bFeWkg\n",
       "ursdzguaAxlvVUhb0CHRmOKPfFW2fo6e7ZYWStij8alrnIJ8d6Xj0SCPXaV9xbV+2zEFnUiLcJkr\n",
       "VVO9b1QpPxjZPvvsVe0nHKZEOvITv72QqwjY/XlKfCYLKEcUgPXQlQ0Pds1c6CodMKhObIleGCsR\n",
       "KPLcgXp1nPxK5n9V/gtLTcoHkmi2DM2MHA9sPugvGQv7pPh3+e7F38hbd8XOzeOX+17iZjBHBe/G\n",
       "adDw9JDtsmi5WxqSz86YD2Vc3PLP0oUbwJzh2Dmu4BflKwagaxhDUjjwTGJciW2SGVe5CiS3KBKJ\n",
       "rz2QfrRhSFF69ZywyRpbQL+vAVsEpO36UyZr8nH9lDPjIwDCLfk3DOKtEdTgVx2dICuMcEhf7DHf\n",
       "jw1KM6Wiy8+r7nPjM6tmpObvUHDcniurb13tuQ7kkpXwtpP1bf3vyOwsN09gmeKzn5sbVjuq4eyI\n",
       "QALbWzD1G8wh2KUf+IQswI08bBxf7JzgaJu17QA7rl/JiXF7SD6+ktG7REmYD9niWrJWUM5biW9r\n",
       "mvC10lH4YFRlBjWJ5lGs362QKQBz50PVIROWPXZXZHY+PV6x8jQpEAN7694YKZl9OOoQgRUVC9vt\n",
       "DyHIC1X5JQ//AWA2LjrtvSxWan+NXitSrWQGHCFoEbeOAnLAquwa4BENZQ+lIT3h/392Qs0s8exb\n",
       "7+/iGUjlgFsDJHk+Cgk4BiwQXAs6vunvzq1w+vHKQD23DHxJib/kCnZEj05URVEq7zUD0pz5bCju\n",
       "zz4pJFGeq5gBhQk32lz4EgAM9NHUGY08o4VxUZRVb5dD8uzUhWy2s4GBnl/46FNUwEuc86q8KVT2\n",
       "OLAgZG7cVpgdY2UDDHE9fV8WkTTLAZSK2yZDajPTsei9zbK5cLrD5sbQgTrNFqnNXyRYN0mUoVuA\n",
       "rCqVglQlXZaMzOD2hu9Cx1ULD0Nub2vrOSVSEeQvv5+XrDs5YQpIHGBxg3/MdOatHwiUjaPJoKEf\n",
       "h3wz486v+IH9OZ6R/LZZF2OTdCAcMFqSQ+utd8uq074SUqWbnVgci3kMukoa4DF+jJusrWn1udkt\n",
       "XKxxAAABSEGefkUVLDv/AA9v67b0xAtWPl6CZ1tX0+ACYdLU+KxYGwaOufbwVcXC5fTZiAr4NCT2\n",
       "MixVRTGKvA+9QvhYwYo1N9W9OpITSfmIsO9vIndtCXmIw0J1n8mA0E4R/NEk/W+nArZlCuCLn7eN\n",
       "wDbs52CD0ofh61Trk9p7Klo8ds4RVLFVPfP3XJCnsNKEAHIYCc4rA3IAIu8sm9fBAU4o/r1ebFBR\n",
       "KzZwEKn7mMBjt/4t4JAflIa9yNJ+064l7xRqOaUMTC+l1EbGC9jL7Zwaxa8o2aIAUQFeBYffKfUo\n",
       "1nnskTgRI4hXdMjFevY6ZRphNqdLdPjfnxP2irZqjs0y/2fy/wQqJyae9l57ZuPptwiEzupPkqkI\n",
       "b4Zbs9DmWQIS3iSjsiSWXd412QTtIqMz23z6GZQ1D/NDd01KUAk+EBWIqVwZpgBSFrAAAADHAZ6d\n",
       "dEN/ABX5lHrYT4I50iH5z4ANl20bI1bBEBC0TtGGW2fLxOgUCyWUJ24wYx+++JBHkTQPXCDpjdZn\n",
       "KWZkjZukvMSfxZX8sNwjv9IAw+xOdREIopV79JL6W65w3FR0+Z7yJVa0SFC3SZ2y0YUqIhmiPmgG\n",
       "PaZBFDygBrDR24A6ry1Ibl9U7UFrCeyGtYpmA2aCrz4BZBtzr4s+2ENLbBZ5w0wEBLg+WWyOtCeK\n",
       "EkfZGmPD8FJXH2pFRfEXKTSLMhANLsSUvgAAALgBnp9qQ38AFiReSTUz8P+fG+CzUP3BMAGau9Pc\n",
       "sS2PpICKCU6Wv+zguwFBI3yhXssCmJfOkWXFYfEwCxIiSq2w8UA8kH8sKEXEz74roBqRpw0GMUt/\n",
       "fk8hPkOD7xneytBVAExiAt29EY9qurSE4fR1U4xXugJo4ZV2uVDlNiTV2AYdQ+QLDIcdl0pGb0J3\n",
       "ZPArjoeY3pCGWPiy6PGBDmxFssIl0dewU4+lFvS2sv+dWsLjfwVb/QZ9AAADTEGahEmoQWyZTAgh\n",
       "//6qVQAICGmtczABcjn1HPD5PpXIGkslC2yV6BDgbiTaXb2Vo3PKk3iYa472kiKFyV8MzLWIepsx\n",
       "c9+ywwqB9pPMeVVR3uxTQSjjwiOd6/43uBZuWDiXrDWFZsoTJZkp3T2OFTxoDh+RP0XfGYbNFImO\n",
       "lk7QTTKC3ZoTS2jN2bKN2oSBC0WaiJm4R/b83Fuxit0W/DP18Q96KRGAjXt77lCq+wGkWeQxr8F+\n",
       "YU1KOJQvSHnnAH+AV3tRCxz/nNw1Yz4pBen6X8ysJRP4AyjmTdBN7QBKkcr0/az8nDOofbdE5oRY\n",
       "4F8VBO6dYl0Z5EOfOCb+7+chJgTroN/iBwoYUbfDBCIhPJ8B6KKWsRaCTg3Vl0Bm72vmtnPXnssN\n",
       "QHD/s0hwywDcbLs3TO4nmsFTynnazOKEIggog+vOQz7gILZJGtqIQwWokQYVC5DqOh/9pAITa1eS\n",
       "hy5jLCvMG+UVrwtDfiUPZ4MCVOhvgOeQLBPnt9ZaGapVC8BkGLwsw/epZF4ZNL5pb1MAfwMFJ/bZ\n",
       "qGmZ/Ok86TfZAooTdOF31ic5XAz4YUyZi5HDylreY+yYNBzilNHl3K3N0DO+SwWgSTnrTmqphjhR\n",
       "NelMd3nor6PERvViXCzHQZ4GKkVTTdV96oy3pIziGzc1AvzVDgYEv+IaYSuZHMeeTmbR4dElYzxo\n",
       "3Q+68fcK3Cs44Y/hxaCxFVsvebRrx5q2x3DQ0eWQ8uVn+TOY+r1QXS9UCbfyFG60cZL2m1O1pcUt\n",
       "2AZtWXHA/rYTPni3ZD+oPJEn3G4l0rdEB//UKHErljrgdnlJorUu7zvRH+ZlLPDvk8pKZSCVXk1R\n",
       "KYhHy+jl/gHbMYHVavY1SwkWydYNlxUwDpIaKRSIc/QLU4pWWIYG3n1djohslHQMRaapOZ5MbIXo\n",
       "bv/MDb60TQ35jP6dFy4YYqqi+XT3wccnG+bKbU3rYL0mp3v+100B9aXFLiuWoDIct7RC6Uyp51yY\n",
       "noplnHPuwsM2u5J0rIIuQBrJBUpmLM0/AqylpUzjCkVxLHZdA6eDiI+07kC6tSoiGNEbJXD+jeo7\n",
       "8S0wnoUYs2hY7/4gjFEU+8YF1WSWrqFk51WXNwMv3v67sngAAAEoQZ6iRRUsO/8AD5sMTn9Kgg20\n",
       "j0AF0ZZYN3V7hQwMkLIy3wBm6QVHQCGhB1jgNrdt2jaSWU8FIqZGY0YPswFqb9wP3f/jkKahM/lC\n",
       "Jlm4XnOcaOtP7yam24r1kzBsz5wSfqXR0EEAxIOE5wShHgjrz+cTiCAWYKIjNn0hO9UxAUZfdBXq\n",
       "Rxsi0ChzSIf8DyL8UEPbBUgu5nUzI3kI2b7a4OV4CjEvOYTP25WAcHIOZ6KD9ZNvBg341IJ1apF7\n",
       "sqhw6BG5kUrUdNIJtjlAI3JYg8XylOIGK603puaaMdhuVKCZw0VgFMBP+I8HVCkz85D5n0XiUUkh\n",
       "pC6PL8F+XY8Jdf0Rtq5Q78rwbZI+sOvr5JHy2tAzeriNU6S/9zQDxYMqANG9u7S+3TEAAACjAZ7B\n",
       "dEN/ABXegS8VsHzj+q1YYtYgKxT6F6THVPAAhRqT485bQ/yJEDjTxIMl14mpP2vG9svq+jkygmHr\n",
       "R/jxxYoZM6iVXmvbFVDH3ACgCYl3MEcwGXIY/uz8A8cuSUGGz17BT0ejhZ+szWtMAEb3lLQEYaTH\n",
       "X6Akq2yGYRdInYjA7IF8bb61oIKvbELlR5pXcUIsp2AjXn/Y7L4lQGG5gMNbyQAAAKsBnsNqQ38A\n",
       "Ca18Afp2ADaWegWTx+8py1QhXverF5aPGVyccS6en9bbvS+knQ5LPbmoDqvPHpRNeuuV2zlqw8+e\n",
       "q0YmfQ+CaIA/kFGV2aydhoNcW00gdDOSbj+PkNNicJn4y1QTPWyLJzdZID4FvS7Y/WyGUdxOyLQ6\n",
       "4JJdlKY1SblQ+wFDj9ue7t2I2/+CflNnfr9p/+A/87CTxCkB/5gNY4HaDAG5tYE0iF8AAAKWQZrI\n",
       "SahBbJlMCCH//qpVAAgFW2PKwABKxDpq4kqLRo68rzOOnTEqXo/UjaLwEw6/WgmU1lDz7MIvH4NK\n",
       "YKyPAeZS3AXU8+rmahL5IHwy34yHGA4zNxVVm9oRBMm3NBqcOHu1n6VNPeCFWrA+Cjxf3D69+EP6\n",
       "SGL5k3UaujMY2rsGI4dxCtDAakKySWRrqlsBPh6/qvxUa5DRu9A7hpnhfqfSEfu0A8C9u9VLunsX\n",
       "FgrsGw1KN6jEkxsIO7nbq3v+cHEn1IQs88z8kEVKS4rQ9entfMoAJPCRn10ajEDOJeLwpdli4QEg\n",
       "c3+oLuyNBMPZMST22LY1viJSx+zTaSk6CMdAgm31pLuVIGCSp/5mXPu39sjHNxmnErrLuUAURmLd\n",
       "RKmJiQLqWRN2vjSddEejyQUQb2MHhH04VJMQAqTQuys0E1FQKS8nnOFe2vhJPF5d/lbfIOQXy0U7\n",
       "XwGYFhy/kFOBjAXexjGBhMqm3y7+ICTHUs3S58kLn8SYWaKamaNdfOKvyyD8dMyyHWwr+d9ALHcu\n",
       "+yxWtD5lKASb98Yrxxmk6Jv9vbdPN6ZMBAKamqGyT4+H8DkD9VvKhro0wd8papSLDIChWUKNyQR1\n",
       "9IxgebvfzUW+lqCPs9BaJeOuu+ePAwg17oJy5JgnVECqiZGAUslV8aUVN3v/Prx8sk+9rRxxhgNC\n",
       "dfKHIeVCnF7h81iSmVona8KoNKlCRYsaio/Uq/0tgRcYxlrsXo7CjEexZ+gztX0Y/FCNU2LBPvG2\n",
       "EWGpNVd8KLbbN1BjIq2V4OYqP5Ce/5g3MCucT/TefVt63JCzTfDD4RtVrCS+2dkwjYHthui11Si7\n",
       "uWVSaCdIspUUwRgKLrKLj8DWQUZx1E/PHBwI71kHdvUAAADWQZ7mRRUsO/8AD29S+lDfR+gAt+IG\n",
       "tMJmb3qrVeuuLL/Pfrp9ipYw+48tBiVngG5KzEnr5lVRupvhAusA86vCU/MqcUNioBz2fI58FLrz\n",
       "R2NHbfZuyXrp3Gsxuo8KfdmMpZnj8ShrNYizSjnITk6unRlUmBbRTJjSydSWeMYsC2Xslg4q2zXf\n",
       "9w5f7NpEzAU2TQS0s7zZWnvvCaAyBmycCZGUjUsld1268aaIjZt6RV7fUseEEsrGaD68m3cxltuW\n",
       "yDjQxrrWv5RhYAt+Kj0AbCsCTShLwQAAAJgBnwV0Q38AFpPzh/Y3qzgbnyg8Xd5aRL8DmLTh+hS6\n",
       "u2ICggA/iaIxayAqe+4yRUx3HZV77vnpRPh8HdTRX50spPod7HxTJyEAT2PaKV4FepnqD/ytENFS\n",
       "EhJsfIqbg1elt6khTHET6eptV2U+kIn3d9WWABf7Q+LS3L/1B3Vxt0O7iBC4DcXLzoL8i5VtDnhk\n",
       "8ggDnKoBdwAAAIUBnwdqQ38AFiF2dTimOdFRvlHP6UVES4k3QioAP1a8iiAsrFboAOtzs3CqBple\n",
       "BhUYSzoUlRNP/7SRdgMpoC6H+wqGfT/MAdaLeO1C7g3jdKlJflVw0qc7f4dp0C3yFUfqy5s1Ww54\n",
       "wGpOEUBEBM8qo2CRXE0WJQO9NdgYAiRE0TGVADbgAAABwkGbCUmoQWyZTAgh//6qVQAIAL9nETbA\n",
       "AEtSh+Rn8pqqTXhjmOo1qUDCNqUX8F4gFzh72sh8U9j0Cx+jgdciWDikcpeOTE/iWgJJ1i8e7Ptb\n",
       "2G05P/HUMriLjN32t2iI6iIWzCwxZqFCZ11weIru1XnErAjSGRWs8QE0Uy/eZhKmZQ9lMimuvhPF\n",
       "1LabB7CGUO4Af7DAzE1N42PXMwPLjlNFsd7uEX5RE9MYhHVvTw4Ac/36e9drDecK9nedX7THGvBM\n",
       "R3LpB5s4UqheA6bdrRTZAix9sYjdr0yV/yEr3kiTc7Xs8Dzb+cIUePNJlb0qCxdNDjmT954j0xSv\n",
       "NRR8lJaF6fLI91J9tdM3tTdKDTxztmYhtHJp5EfAi2rOQ27xmQz1tr4BwFU6YTpcutiUJtFmxBBy\n",
       "2bXlhOvrHuFQ1zTYdxxPks8SeHB8FwxByubdmOr87/AXROvOZq8oG6fnw8b3bNfcdkoehBkD6gdd\n",
       "qL8eSwWy2kOmUYF1svE39vnariGBMALBrLowFjYKEmdamzrRm2fbfeNQeDaqS96zlwYuAqgakoRl\n",
       "UA0mn1P80bceMZds6L+2dyeGdT1ZVsO7/B+aiAAAAi5BmytJ4QpSZTBRUsEP/qpVAAgAwFDK0Gim\n",
       "ABY93wLNFIHfbCF3/Fe6QYgNl9y1OTVoFHQ139l36eVWRbxpgeSonIDzYkTc5Inr5JeiqFf+FlaF\n",
       "hW6oZ1w2uSK9fiGQ/jgilbb78izjtJp9KMz4u0uWaXGVccKWu6/ZCQwHJBiW3kVqVPGYox1ouCAl\n",
       "VbVpzpP7mA0uzETgX3DKENkO8TpbI5uiGrhtoshgy52MLhiTD/Pi0XfRAZ7D8sF8CaRtlnF2SwDg\n",
       "RRZa+3au+sOqo9O2vlaZHDQ3KgcUaCQpYlAPgac6kSI2KZ9JwL+tase+QEnZd4F8BbxsKcKRGqfG\n",
       "0KxdR4S/7EVvVGxLUNUOqQ8H+4RzrJ6R8NpkBl/8YtPz1ORl2N69u6h/1N8HGr0NgJjaOS0fgecB\n",
       "QmeNYXSdIy2Lp5D7PhBnwI5aMvCk9FhppAR6iLEEMrXiOiXVV96JXv5WPFAgHnTteDGMWf2voWSK\n",
       "DHw6wpYeKQYcbPz7ydJC/ShPkZXDBiUWLs/HKKdLrrIi9CSxDHHh8+QrNLONQc03nzC1jT/EAszh\n",
       "PgW8RENBlj+/o4K0wvQgZrIYAMoMKPfDYPs/eEA8au90iWEFQNn28ToSnWINjQxtRBwThSi64Sjp\n",
       "Pf0c2DI21cLnB6cgsOaWUq4vvILq030mUZEhiERtBixJZteQgYTWLTbP8rHIGa3fWWy0kMyfwY0m\n",
       "KqaRffw9YKvTXiVQoxG5E8tli0EAAACAAZ9KakN/ABZufQx0RzBAveZIXQFMHYV0hW97twRCIrVx\n",
       "cr70AHgDXyzBqx1EtdMzLRPlPDVX5gCszdoN7rarIpXQcXgNdmS1vVoP4R8D1XwUEunJiX33KeBi\n",
       "9//0gIXWJusYby5DaXdogwTOFiH63pkGM0vUMESdqv2gAWLMQcAAAAHFQZtMSeEOiZTAgh/+qlUA\n",
       "CAHBtjQALWycW2xwcSJABIh7qas5M3GMYgrGXPwKRz7FPPjTzwXEnqeTZmAEpqCndf0njgPiweld\n",
       "HCq7If7fbQiT6thRgxrtJxn1vWqYOMZjEcFsqVWvYX89eEzJUSkzlp4eA4cQ1xKfagfhdrUgauX4\n",
       "V+JMrlqyc9xwlCFxEoc6D+Aa8P8fywEjtjWRtZCE7iTdaaVplWnykY/SJdDU2/mL5YS0uMDaDcvm\n",
       "GJewc+ayp29vvF8e3YsxUQLKV4MaFE5AZTob9Y8mOUwcxBdHjzP8SWCwoGRAYxuPfpjf0cxLJV0R\n",
       "FnyYCLKWCGAvvEq1AnfAciMdp2TjIpbIiGTndYeJ/W2mmGxsY9xlDI73ud1yXX9G3UN7P9T04sBj\n",
       "yCvecIm5mMnNfUXA4gMgCk571fX5TY50ucx9JJ8MVnpsbgAgUZHWHtvAwLisj9753pbCCjUmbrum\n",
       "DSEKqAX93FDjp3mgMTrjrmGbnsCAyikG78kJ1jQT+Xs07vrUFPQZTw6q2+dOdNuL73fqHCkBDy9z\n",
       "NBCpLOaB4CmWbTTE7zkVzb6qLtfZnsYrRllRGIfz1jtpz+kogAQ8AAAB4EGbbUnhDyZTAgj//rUq\n",
       "gAQEE5/gwAS9zDMrUKzLOobkTgyWXISpsVKZgBBRRmTaOjV+mLeTz7A0N1yS2dtnuhh5w+I7wBGA\n",
       "TmD3N1GuUQyE63exy+V27I/fg2Pk4/yGlw0ZDXlp7H0WMf1wYkx5HBGpolZWrXgeY27NFhNd4N5A\n",
       "MZKfk9gbxTVQ2aFw29fH3V1IV+3Hwv9zuhMe9hK3OxgLS4QNu7FnbxR/20YL6ne982tQu5Puu/VR\n",
       "f+m0Be7BRCM5Xc8e8XLGKw5yVE1dpgpAlHIXBAUKn6A3fl+giyZHIAzxq66aXVbtNOmUl/zO76Zq\n",
       "2c5Fvw/3Zc0oUAEW2LCJD3AkRkm5YZsCE4qmajJo2upOREyaST0qLm1q6iWCKguZ9E6QsdsigLZb\n",
       "G5Vo8KCHj5k6lGRJZspZA5WJ04gYZw5p88k5hHXcqs+LkSNbuOxiYx+d4XuVuoahVDbxTiPfFdeQ\n",
       "9rYUVzTQfbZs0hZe+FVSygBpGLA4F7d/jmwC9vQoseg8TGAqCFfaHFW+ceBZQWf9HDt8prYkHTjf\n",
       "biFE6W7Xio9EN+b92PHJYoVSeaOORy0WHe8tlNRW4+IO4c3fnhOZ0sTpiCojswhz1aunNgdE7B7m\n",
       "LIDyXtfpyX+1XwAAAuRBm5FJ4Q8mUwII//61KoAEAZwsnwAJo4MtTOgthePcsMT/Cd4T6FWeJ1Hn\n",
       "6DF4/gYTPwevVUM2SSHvqbgmPjCcSOcUp+0fmruprtlcSnyM42UsWm71ReKX42qZrj7iEf5JwCL1\n",
       "HeqxEljEYp3fqDPXYpB2TRib6BqPpLtFdNfbT3vTiF6qQOb10I78B5lM0Yh0WXGVDSYjrjzVNHYC\n",
       "eTHHqegHzslmDxxA9/tvX0VB5OUmuxLfzBBoEHLfj4VQHI6WzDCs/4QNNHwnYE+dZ2N1BGEPYiTi\n",
       "fbVUGf8dAJw/HOUeE1hlBqLaZVo/pHoWHOTh66Vdv9E0xW7UNY5+4XpylhempO0+AjEMjNnfXVZN\n",
       "giB/reMPFxf2N1ads1rHovLmKQ6kOatEhfNRjLljtrTeuc2M4z8enLzFceo02J4VJkTsGLvVB+md\n",
       "Haa8JWAc8poZncawAHsw0DtRHYxDHXZ/esUkwxZkiV/9OfXTl5B0WoOdpKfH1vRs+NzzhMwPxP3a\n",
       "MqrUJYgBW1gfAvBRvO8mABroYEXnv03RAQe0lUjcDu4Q1a69qa6gnR+Vv7RKymug+m9q5J2scBlc\n",
       "/0+N3vvuFwrJXfe83Q8NfIZkZqeeMKP1VlCohrzAaKTOl6ZhjEskz7PGCcKEJ8h2Ht3xhB1UxaO1\n",
       "MAhWwfIlZ68cwhcRKRWyoL3rcBo4EsNa/nAxpgEGJwIrDZ4mQ0ngpTCfslSyurPrDbRhmzDAImKb\n",
       "HQ6EXBpv2Yd9FQ5h5ZVZTOSGzPcGPsA0A0JidNzFDVDLxuBjEMKeTZdQFCHhUAkPXr7AK4nHNrix\n",
       "K4Rl5nln/jiTM3VDFYHl7uLT49ZBtjDoCxaJJu9V/+FDxnpcsG4galfUT8FUkPjhyBldJRge71/A\n",
       "VDKTL/r+W3cA5lrnfHqlGtaU6qiuJg230HxbCam8MniwnqyG1CDnH2M+Ok4jV7k8GsdLiBo2EQbf\n",
       "wVq3aoSiPjV0wgADfwAAAPtBn69FETw7/wAPchwFSm2AFhFhvvvS5ERQr07JYfw86O4+Fi0yATvW\n",
       "3jtLumnkqe+l1ACpapsf9rTUojx0BffhDNtz7Z3KsnIwUkPnWi07SkmkkmPtUMh8hGf1jaZQvVDx\n",
       "Bd0UKdwB+DrgqJ5A8VJOuNyOLPCOvw7r52WQykUdNxKUdiO8x8j9HK9s05bB7SA0bhm1YirYLtRi\n",
       "cktvL/NsotB+3MozMJ7jaU1cw5TwL9D3flERLj+YKs/pig+JenGaY0jwmqwNTWhmyNH+g3x0WRrC\n",
       "n0klFtJyggWv4BFOYNpJa3TbBmWQsgkCsacMYNR/LLJWIP4L1Lmm/QAAAIoBn850Q38AFm6BA88u\n",
       "AEyO3Y30+TmpBMXQXRr9U5nruZQ7zCqLFFCzp1stJKdt6XLEieJgxZfAKE/FaveaswWhEGERQFtZ\n",
       "lJhExzz6VJUxYesePU9+0tY9KUs3GeHnguqwud0SmAuYl2lzzD8B/ppKZl/f5acm/5TVPKGMbho+\n",
       "vKAseVB4PldAFbAAAABrAZ/QakN/ABaLSDucHIl4DnJedcRQMI/aVAXtKd68kE8uMClq7UA2jXiy\n",
       "AJKT62ewbLsAG0D4ieGvXQf3ZM2293hlQlBMYmGJZpt7tkVvipFpxTywZBzXnfSMKrPeDyeJ66GI\n",
       "1y5EFrdABtwAAALRQZvVSahBaJlMCCP//rUqgAQBnGFfAAmjrNgHBDvf+YYbnzsog6f4TzdKsyaI\n",
       "O9/tJOicRHMwEG2G46lxG0AgsyO2kjN9R8FfitgsYBe1o9YVq4qqf8+McBEycQ6cugodUZQhFM+e\n",
       "XfEK4GvWj4RxAgAJAqukCFTq5CpL4FUcfcY5+T+Qc3q6FG9WbU+ocmocxATYjo3tKWNDqP3Qur6C\n",
       "QQ/9RonPIaaCFQ/8C7bIWGQhhxMNL233nQoxO8F5S6nSfekYkk9U4l0AHsYFbISFuxIB9XhRbjd1\n",
       "s6q9Q1LgOwOQvNFCKR8aGQjOFjUra/8w5aw/sXs8IatU2JxyX0SPmfBf/CN2krT7vo1dXVC0ZyMG\n",
       "lRi9c8B2CaSwPHFJi5n3bE4VXTv5NufxyodQepw0IaKN6qTd4HhvCd9zgZPAuZoLKD05i9cyJ5XU\n",
       "7XL4bCfEPNMR+LKhg580GGWP193++MMEofVouxYias+57TjZm2ltHK3pSLB6F9OBOO0iul5PFzc8\n",
       "5AJSqoZ6qgahX0QrMnQeyWu/RJkzOmrbhwA0M1FuAcRNkfzE3QfCr7iEZFSK5yz7TjKFEBjzYHd7\n",
       "wpN7DPiHLsQxHDQi+eeYVyyTMJpTSBXUtMtWE9OgP67k9zosrF412xSMHatrp8cJNqUu/DfaMJoy\n",
       "Dl5GN0wY5S3n2EnIFDabNd2lHZPxuFs069E4zeHvlM1DlCFauG1M7ol6WTaZR49hmuStzga5NOK0\n",
       "NWOHDC+h29Xejo6KtAL2SgksjsTo728JOy9tEv69EqDZDlYwDF/fT5vcRNoAwKP1Nyab0A8Oj95K\n",
       "mel6trtRz6or2LhIXfOg80TO70c8fIu2SxHxSfgh93ArrEV2DZg6G8M//AXjqJSt49RhCM8HFslt\n",
       "pCVIlwfE1xNAU5361NbLjA7rTmVjJmaUmwYoNHs0k9jJER/cXexdZepFwwvKmx2PwQAAARBBn/NF\n",
       "ESw7/wAPchj95H0AFp0TP6XE2bs9i3hb3Zkr03d+3Nl0nTkOZFPfJc7kdvX4cbaOgkMUPkTHHJjA\n",
       "0+Z+o7KeHOyeDk9Rlxc1DjBX/37B+LUM3CNt7pf3kA2mcPjNNi1aqZWb6Ybb7fqqc7aQKasJc/qY\n",
       "yGUz5QhNmOTLulxPHGG6NPNELlPiW7CbdEN2wFP5lGR4wPVhtiGs1MqKA75E0Hac73+qKsAfB5gm\n",
       "fCKu7x9WAZY7GaITPbKTKZZlTI6yKAo3qVmztkzfZa6/Wkj7lO902R5kfZF9IqnqWP5IHtIwfUDV\n",
       "/nxwEa9gNEwaE94S1+uMq2OzkjsxJAJVnqQY0Z/Q+4RvbIFPcThlQAAAAJEBnhJ0Q38AFm6A/fd0\n",
       "ACcAhxl9b3psWdAH6sZ+MTGFaIvdi5ItwcvjDrQ9ULvgPNINtR/Hv2z3Q7PceKJ1XYxsciyOSvQz\n",
       "Y5dw55nkgoG3CNakUX3yJYhE1YdKEKLBUa4EkSKHAI85HIz2O78WDctc2W36SMBjPfqIJ8PXS5dx\n",
       "tIH9nQlGDUoksOc/FAQAMAEvAAAAgAGeFGpDfwAWboFRUBIATUwTwVmKV7rcAX5mZneXXEUiHCTh\n",
       "y7GwO31q2NF5dXJL/fHTPOaDAZjDi94+vIl2lAnkcu4TohlDwL6glbX5+HWGjGmInL12/emzxEyN\n",
       "K4wjh+rvHrIywTt79agAnJwe4fQJgvjE1aLsPht9ABhuwAXdAAACwUGaGUmoQWyZTAgj//61KoAE\n",
       "A9bDOQREAHxoVjt4XMa0hJMowwSesN6j2oHEuaFGcXAQhPlf+/6umeGz/tJOmzyE5hfaUUs0iMBF\n",
       "kZXpyL34FQ2BtHZcr3bj0cicVwspWpBHe765NFUPrEmDJv4p768qnc83gXzfcO5D2Deq21jQldYv\n",
       "XJY8WKDrS1sSp2DpZVorhP+ZXMpw5DZT5w+7CJA/vO8ZgbitbmNxdFlk4Ujw23cnUWiua53PvJb/\n",
       "+CU3ky2QyFdHi61n2ICKfiTQZiHZ3+DWMkxefxXbYgUVU6EBRGe15tYAjjBNCyQRXu7xUBDjW92Z\n",
       "GOaqcncp670ikn2+GAIqNdjufU7XpJ58he5v2npnVyPwvdGrTDWBtdLxtzufObbGoQ8RW9y1d9tG\n",
       "WtHIAPRhtNEEGyqkxylp2g8SK6bx+vOq/4B+HAOzEr68b+wSk+fv+lSemjKJ3eWas0bIRIdx+wAK\n",
       "tg5CqnNvzpYSAbku5WSNDlNrR3NmPLhukiA9EmNKfkTnujs9ivBBu88I8KGDa6OG020GAvx8Rt/A\n",
       "gPpL+SVLGimkX4pUoZXN/YeX0lFSUOman5F6vAWf8iDCGnCqiWr7OokLtu5J0MKRebRVvW7KupfV\n",
       "OHzViNQeBkwBsCRsH4OR54peoT6f5tWoKI+zkNI0KClRseziBkq4B/iS/iRusNN5a73CyCHJAx43\n",
       "uuyyXupbfZjLzHCWcbZoxCPDZxn0cM/THhv/fC30Q/mttIdya5+Z1f2h0P55+Mf4nxrK573x7+OT\n",
       "dKZO9TZ2P+iCzI7IDunOcZA1jir8v/f+xUosq2wd5dCrWLje3S3wfYvWlYAGJPsmAuN/ec0apUpG\n",
       "m5tIsUGmBEZ4qPB/fx/wCpzpkVdepH7FajBiz7fWIYyfTQQ3kp/Y89uOmJXMhUy/7UGqR/OI6MNx\n",
       "NoL20AAAAORBnjdFFSw7/wAPmx1lmjxACtrTLWI5eTHg+7hAs40iLJfate+Ke9hTy6S3L9tV7kxP\n",
       "lugTS5XmdjdV/S4X93Yvi7kvgGqObba4CW0wlePj2N0ecYOxNcZ5J9q4YfHW4vlruvkrYWn++++X\n",
       "rUFKcDwTEAuV8kPqqB06YXHzt+uRXodK4csxTIPDF3hfxv4offYJnMAFj/aGwzRaMl4BX9TV2+CA\n",
       "1AhfUfFivEMDsUJHtHMumhEnfk6w6DwIK8fJcYCnFKD3LhdKHnc+KtMgTYuN4iV5PH1zBRk2fcGM\n",
       "RFXEt/90WBEAAACAAZ5WdEN/ABZuffvV4gBKNSNm0dQYeNbxZzGp68tWa1heV6tThqPYpqr2CWY+\n",
       "oT9mXbr7d8jiDOA12Z0dgoTmYnyLJ0wAz2ONDx7ZNLEqnHGq/114NnqyPbNIV6HhnpAFTJ0fZ/rl\n",
       "rKgu9JzggTMI3MmBiZ059GdD4qRWlOEAB6UAAAB6AZ5YakN/ABZugVFQEgBMt5PI+FlIIcm0tDf3\n",
       "iF4aWuWLInAYbLHH+9J8AOOciAzpmKCEVWRZG7lKytk4LGUA1eMW8huOtaTvSSRTm12rtindYmTO\n",
       "yuBwQgzP5K76WrvlN0s7t8KcRzR6FY9jHr4XIIy6F8nrGi2wBywAAAKUQZpdSahBbJlMCCP//rUq\n",
       "gAQD1vJVBEQAfGe7N5lL9IBOe0IeiS59IaZEpBWlvXC5Sb8/FmzjX9pJv3S18lj/Lp2POweNF7nV\n",
       "fPD+oZej06/r+S4lp/Tqg6A+1kEZTLYa8h1ElzVJWXlBxdoUqoTduO9Kwj2TqgrD3ujR5MI4TTRO\n",
       "gB0TyVUlAX3iQD977FtVdhWRHnxTWjulVRgwal5nyiyfoXfiY5xhyBfMe34GXZC5KwvPf5nAIiiF\n",
       "wWNcGgRurnaGs0fGhU8DKfhhxb0Us3BpQypFpuQ1aoLMwQ/1XXQ70mmSmT5IgR+6LsqA4RcYxNcB\n",
       "R1wEXuaWIeCSuhEuuLcIegH/zLd0hATlE6b1eJbLrvO9qOW4/pQeAjr1nSKzYB34rPnPz4g/DxAZ\n",
       "q93jdEbHZGFmhx3xk+SWZG/O4BvEH07TwmG9vp22WjrVfXPmbow/RuWvTYxihHQ2lH7G7x8Ly/tw\n",
       "wzsc3ogxB8sXjD1Jz4m4Fm/+MHi2/XO6MZoAOc4ZctKY4TqkWdWCGNCaYf/NA9NIZKTs2llRh2uV\n",
       "0ZlGVK5TesJMkS3EEqNtoNr7DKi4Y49tkbXMuCSMcWmi7gZmS3CorIzBckmiQp/km3LjceAsJN6k\n",
       "XoS1c6OJkYc8JUl4sq6WrAR2hA9qhhXnHHcopNH6fBBIStU8+TD2RlquIbbB7C6JSKOR0Z6occBX\n",
       "PVSy/A6lfvII39BG8BeBVyOaVdjntqGfsuzJ5uJJ/xJupsZf7aolv0Eg6nkIvM4eYsnerOKHdlhJ\n",
       "6z3UTFDddx2185crPU1TaxPl4MNe3MHpfLI1TvLF9oDCq03/A+K4UjW69olzvHo9Z8K20Gwm9mKG\n",
       "d3uIxNmSd7I43ostIkaf/Cu3AAAA8UGee0UVLDv/AA9yGQBcfQAVtjqhh4x2jzeptGa9Dc6EEuTv\n",
       "fUKe0bc1j8dUMbYvokWJ9tP7oQtgs8CqsvmFG2VSpFwrEMpCcnlCL9HidX1VxeHFsIdTtvRRqsmn\n",
       "Lgjp4B5gYY9zT+HjBS4tKk9Cc6MLj2T7zgdN+1UVVnkBDeKNEPRKZ9bX9bxitaCB/00Q9iht8pAa\n",
       "Jqq4jB/gOruRo0Mk7EskVwimJUsbCveXG4ZYmkU0PIZhpoIUhP9xQUO+v5be0seYOMXDtqWOdgUa\n",
       "iDPd17dbA69UfjtOyO3+4qBCq3kethpMOfwPhAwKNq6AcsAAAABeAZ6adEN/ABZugP3Cg0z6qOxt\n",
       "Mr3PCdigLu58fEHYoOzs7meh5cqNBfj5W5JDhJX0GoMeIAQh5ykipen9xcVmSBDQ4Wcu+IlvWxz4\n",
       "efAssa1louP3s63/qVJBFgBtwQAAAHQBnpxqQ38AFm6BTX8uAEsmcEUpVXNoVjcSX3rLRftcC0Ra\n",
       "PKJCcYbkiEQp9b8OR6joAmPbm0xICS9GlOoWE7IL5cGP4q5CccWC1WuQydA8sSd0bt6gZIB9MPnQ\n",
       "jk/ONC8u/sgw+/ojgmPkcf8HxiCOEOFkLwAAAptBmoFJqEFsmUwII//+tSqABAGcyt8ACdbguWjW\n",
       "x2kWrDjoy4de8wdWnM+S4aK+AUNVw9YhPRMBcRAs/20qpR092R0DY9yiG/CsLNzXPj7M47HfoHCz\n",
       "ohnVDT5FFZH/p4hyV9JBvJMBk8wN0+ThGzLrDvldosPHAyrh41M+QFWL4QXVSI4jN+6euUPNWp7T\n",
       "40UoJmpTSpfixpW38clBdz7n8Tbewj5/TNisFgdbdMONfYEopzcAhtgo2eghXLjX2b6uXZ+SKpCV\n",
       "XPVbzON2FmxM715NuUW1vBTyIhagxXi7sED/500m81SU27skfcKRLD985yT4GAvTpaC23LJFylRH\n",
       "CaC1QWqB+T21JeauwV8V+eoyWFV3Wxyt5XwOmKXYz1k5v+nQDQ3UKdy0oGR2pwAid1QqTFAy3jk3\n",
       "iyvMeHowV4aRMZTEZxpoSA0JFkcjk2pCDwFQRaedxpziiI3mcLAI9sj62wZgYklDA3pA1JLerGuL\n",
       "cBJRMliLmiJSc7XygGDtbY7L90y+WfTdCTxoGrWmBne/TB8Kv2ZDKz679DT+D27RFMuVM1yB0bmz\n",
       "jx8VLVDN6VBZOsEBJCACvXIqW4UCL+LRAClxjqlj8aBQrlNzOOjUJH55j6WRUj3PaL/VVFPPBjpq\n",
       "hM7DoRbXEpCzIe/epw6ygVMXLCbXj/Yv9aad4stGg23s2LYuNSFrmiLDc7AV4EpQJfOMVnINUWWp\n",
       "ODwDk2yjShUNHR2w0Gdwi1sO6PlnBDx7fqvjctGVkw4FiZZAk+0not3iFXy5oyi1AfjtInZz4lzh\n",
       "uFMMnvuYMlSQdqtGbrqAMRS1tlV8CAvuAAfB1leSufwEBFxIxzppgVGd/XpNleA2ZaGk+km84Vzs\n",
       "0zeqe4l1zcCYpDRcAAAAyEGev0UVLDv/AA9zOv8/QAXOVSU0K3TtcYfWo02LhVNbjMRdnAw5yfUI\n",
       "9z4TgJrxRAcP2RrWwHXrlCj83fYzlxqGY8auT7rME4Zr9FrmoRwx2GpgszFhUdBuxi+v//nXdqI8\n",
       "QdVe4UeJtucoaWeSDNOZl9u8w/+8DfIoMuRcD50XOZYUAvlOMsILU/hTpsH+1ZtPkNrj8tIxUm7L\n",
       "Kbi7p9BSC9VJcJnDhNBtV+kysIw6BGOpcGvqJJt72hR2/3TKxVOE1wHyPpGXAAAAcgGe3nRDfwAW\n",
       "boD7nFcAJqYKHNq9Lb45RsDX/3yykU+jXWZLTHJE/S9tYgtlJCAiF5Fkb7WpYoTVOVTyOR9KWZKx\n",
       "jVTYcNcYI4ZfA4Vs9l1tEr4rX5+S9i74SIS2m+uLq+zOLHHjb6Gxw7B1FiJAWA9twQAAAHIBnsBq\n",
       "Q38AFokEdSrgBNFFGJne+LN4VnjE8uVGTYbG6Xdb6N6znb0XN7Pr/29xQZ41gIDFUkguXZk5Ujfg\n",
       "ZahvnPrJ6oeRDh1RYbatFeD6mSF6JWDNdsBgwcsdzfNNu/w3GrQXspX+PPRNNjtFgKlgrYAAAAJq\n",
       "QZrFSahBbJlMCCP//rUqgAQGkjnlzABtKSxSOg1AOx4sDEi12htxs9umB3b4b93sL6lI28rdohf+\n",
       "Q186t+k+m/AdvYqRRZct9xI+hsDzbhlHwUSZk04bflalXZlXX+W5SmfU8qwl750MyCvtykkvU/AM\n",
       "c2Lv5jRL6Okoz8IZnfF9iAnVL6ZN49yAob7fSgvlPD+OHgzwfCW0wtWePcfamFeXGYiIXq4Fol2g\n",
       "uE7oSsmglCfpsmPY1FbsAJAzuLdAH+RP1VQ8WUEzLc4xIuIX10Tu06V3QsMI14MfMq1B7n/Ec/rn\n",
       "BKgUW17iKoE8+BHf82Ql9i1I0V2qvPO8GV2GFZdYh9lSBKxSyzvJ4VSMTD5x621lRiE0KHlR7VTD\n",
       "wE8DkZN6+Gzktt/bWsUp5o2qiuVy5KdlkPGDYOYUcqi+c0o3bKyGv5z1UCsk7Taw6ZjYyogjXmRi\n",
       "QMK57XPYZb0ak2iuK+gD+F909UT/WbpHbxGXG9M7f7cOHvjj1q9CDdKljIBkmZfBX8r6SMoXW52w\n",
       "qpxLS8dUqgN4PnXye41Igba7Noo1jfVJ7/LVagJPY3AY1jZMIWDiRjjGI0NoZm/Boj4+MIW0D/id\n",
       "cRmzJSF9JdDtlgS/ZH5JhI1oQv+l1jxNC8v4TKzjgK7LbupxYDAOHihragjxbL8v7OxCAMHty0es\n",
       "wXy0/r2jkRSqqKImooB60hLxg+jbJAo5SQvwZ1A/yDKW2/2w0hsycO+/eqrNorQ7EvFG6Gqew0zJ\n",
       "R4PuXLgiibofHptnIL42zPpoHPHbGYz4VfigCof4NUofYwKNEGIU7jLv5vNnEtFFAAAAz0Ge40UV\n",
       "LDv/AA9yHAlybYAW6L5aY13AjJPGg+8AF801ydqdlB9RBq58o//JXCT8cPnu34WofshU4Bedc4bE\n",
       "4V0+0DYytsduF/SlsUeZKEqmtpzdb1xtpr7XknhCqk5dCCqGo5mkf0P7KTd6VAXPxoBCwALD2xMc\n",
       "ILFa56i0zJk74APj+nmlNlQkORNRjRgdx1J+p5E5NZulicUSe0Vzn+qb9bkhXvDEu4tq4G6bxanR\n",
       "HD+KNdLry0rXrlIYbqEw0VH9hHCdghuwBGJlC5HnTAAAAHYBnwJ0Q38AFm598P3QAJ21munWz1D9\n",
       "SCMwQGQABMMFCIDl097dUpvPWEPc3fYVl5DaL+9xYT1+3IO4sYUObhjkf+u84gKgVn95Ku+Q7+RH\n",
       "f5UybVD5ir13h18ZNm7+4UWkAc9g7YSt4Ftx5pdSerCjIMEYmMaBAAAAYQGfBGpDfwAWbnz54kuv\n",
       "ZJnBvAhLoKqLlZiHmA27QAQ5ucFy/p2sqRrHdisYv2+4yx7eEDoXzJwmRBSucxI7WW1UdVLAV22z\n",
       "RqoJn7z9ysz853iX8bR1MpbygpsqWtYAZ8EAAAImQZsJSahBbJlMCCP//rUqgAQD1+zDQ/AAh+q3\n",
       "fySMz0x56+J7Y7wKVEnF4pYaYWWWrQ6t5Yvxmqw3qx6BCvhV3IhdUH9I8Fm5UAHmCQ/YLi1QUCSn\n",
       "hZHi9yL0BpjJmJHjol6Lt3A3hoG21uf/8CC4DYqvJHxURxnW+JyFKkDk4YyOiYxpfGLhF1/WYMgr\n",
       "Sf5ta3OOywKjVSo/6eD6mKkc1Y+XkaQulqVl/aF9mtaVDGLjH19D4Rli6Yr85DjMP1fZH5HfrY9m\n",
       "gyKZdhC8NMXLzpEblGJ3cDCieZkEMx2mWz/G+vQDqldYyRogWyS1KFbxSMAf3Ff5CNyKZ+AaZKzj\n",
       "UvXxU3Ndj51X7kinoZf1xheb2m3HqwJMmyEYQj8t+SQMlO+frkmvJQkiBjBXrX/d9QknlTUfwCLW\n",
       "jl5BEi9dQNuLXagHk+dCMEcBhPJWYD+CvfRZVu+N2czdzeFrUGbSO5G2/P7uHlxe8qVp/Wr2Armu\n",
       "T7Ksd1SOMPiPaRAApXm7ZfD/TqFKJKZilJAaTriiIQaqDS8vnOS1N86U0t1jLNV2h5/7969Y4lW5\n",
       "u2T0PhaxDSZ8zLtjddlm/9ktf1+oH3NsPtweYJO0L+PNHq+hDNHnMi4f2X2rCGVxMDwMFTh1Rxpg\n",
       "NX/cGax3zOkGjykPpCszuUl/0dzHzXMmJoswNpxYsQl3tV9NJrxbxVPkAYD+Dl5xcdOHdtFZuo7Y\n",
       "t0n3yot1l/1rgQAAANdBnydFFSw7/wAPchwJcm2AFudpfZineesRUl5RurjHzdeovsTeDKC1VWXT\n",
       "dSldfdN/1215VCJOIw6DkuIKZJDkZKeiiwcONWU81jmH7TkMWb3JSZoODBEq8ccn+MR4oaE7hhfe\n",
       "zxua5jSr97VTZO5hWCD0WQ/XzIpQHvcnlElHKs9Whx66SDfZRKKfOXrw/LxJk+dva7yN1UFabrjV\n",
       "XpFY0GS0PJVjNMRQw19+T/KP7cUPNwdHSzdd3Ev7czr+zlKlomB5mZLP5PL2pZfAYwcITW3cA9B3\n",
       "aQAAAEwBn0Z0Q38AFiM4sDQk1jnlS0dI4MqNVteG/4iFVvVc4DXbnafdeQrX092AAf0NlZwt8pJn\n",
       "UEykNKNvAI8mBKHEwlev3n2QJvDwyd73AAAAUAGfSGpDfwAWboEyb3swFpfLMDfbxYq66BT1GZUm\n",
       "jmyfXEFcAGsxlox89ycroPcYxh7UPdeEmUUEqSDYpZF5hhBsd0lKffRUhgiCOe8GBWTcAAACT0Gb\n",
       "TUmoQWyZTAgh//6qVQAIBXd+f+MwATmPKSRDHWXTZ/2CQfU/Wa8eTT7GNZqdzWXQCXelWWblpntb\n",
       "Ee0ac2hrqTgLdAvcJhttF82TA6Jr5WYDofKoekWMsz08sztGnhomkQc7NEV6DZ1RppvhofBPPjxr\n",
       "immu6WepDq8GYK3A47VbnckIrRtVl+rgg8BeT58jBxMXfDJ52Qb2uLV0wGmcqQA7mIpd+09Byza2\n",
       "0slPO9D0TTLrW8GUNSChgxMT/BE1wUeugmOYgCpIZSxoyll+gpoUxx7xI1Erq7W61CUPQoIg7i2q\n",
       "bEgFomlhS9X9mlPGH2y/uPdDG8MyHPFKvu4o5uJ88R2zjlmuLcUtowXRP/f6VAJZK+vq7dESRPO0\n",
       "amT+YI0rL+yHqzpv20xDEE7gBK7lShTNX0nXn4Qkp0yRpqlklB1zS0DYtAS+78QC14vL7iz5N7MM\n",
       "VNF6NdxF+46n4aT7iZItCkhTh6iPW4yNA5vdHRDtGKjzSHk7ukgMQGxWdth1TUVLmjdwmqBSIQIw\n",
       "fOzSjQ9x40Evb8If9dyMeZw97sDoTLs91/qN8oPaH02cE4nMGYuM+GpD1n4pkTCD2ovowzDWC8V8\n",
       "iwxETJxDu74orLqVm8Ht1lb7y2Vh1saTuvY2S7pon6vlVqPWeIqLeWRFSL5hHGrX7xaJ1ZMaouqp\n",
       "nMpcCT2X6HTX3r6LAwFP9jXn9V7xl3WlSgs9qEGAtzrxZrezImDdTQ5msA+KVg28LNHz8Ui5JQwy\n",
       "pv9rqAz7bZCyIKlRuYQ03LAdgQAAALBBn2tFFSw7/wAPmvvVW22AG4Z+tLtXD+K2AJmoc6Ximz+f\n",
       "3ui7wSZEnljqKRwyL4iRAWcToFFkciZiOGbHfG/fCqVMIR/jd4EtyfHk7XaK/SouM8+RYK2Oj9VL\n",
       "9d8q59Pbc2DqPxxJQkT1lg1UogBMY95Dfd2PgeTS7Zr+LvIWXdCu6XL0C6UuaFeaRuWnqSBxqv6l\n",
       "U+TNouCueL8z7brt4p8cbOAM1KglCozzxpgN6AAAAFMBn4p0Q38AFpPqoWap1HMX5gt7dJW2MD85\n",
       "YAQh0U6ckaoIwMYjcwsHwx8I1VhlX8MaTJHX3mSXUY+RIZkkZYawMGUpi/nT6Y2CWK/y4ZpqBu17\n",
       "aAAAAGMBn4xqQ38AFidE8BHo4eND/l1tfhtxyuf5BdAAhzXrdDqUn5qbHn08EPhKRsumETV39O9v\n",
       "6GyYSJq7gSGW7qOaCZR5Ds/i/sCtDcmpDrZ/n6+DAIvvo+led/LhatgGVukSpoEAAAGaQZuPSahB\n",
       "bJlMFEwR//61KoAEBEEeSAMAEOkydw2ge1ImKEYSJafRUrLQXEjm5Oo52N701PCniEw3Wu6LuJ2M\n",
       "vI8HYRLkAcBY5Mdy5YUTOO0Eqx793BihhOfhzoK8TYNCGG20TmtDUWvyUZtTPictmIq3TBEnh+m1\n",
       "sSn4SJQV3rmRmJYrxHbgeVljLSea5l9pIuTXuuIzcWci6j1KD25X80lpaSMq/NJbQz6TEexOuwCK\n",
       "jax000mKavEfiM5nmacnvCBbZ27f2NGFKVP3mSiguKm3119JoEz/jLBoFGoD9k2Xj47tm/Yv34yF\n",
       "X1ALobXVYFTZ7jo69eZMBHOzEAu6y2YF+FSlxp1w6U4UmLfXlRLNZgL5vX/P3yfS8JplTOss/iSm\n",
       "mN40hwoLNKGZokPkcPlgYA21zykcBrVijRcy7dImUwdB5q/qC5Am6plFDDrnIH4ZF1BvruIVOvG5\n",
       "AFGh0ZXlmJd5OQkIPQwdvm7WNJCDygN4E8b3oeLffjBaIHy6z5k8QbteLSsngXNoL5BbSpFTuy3v\n",
       "xKAAIuEAAABqAZ+uakN/ABZwTQA35k+K4OS2t2I1Nj0q/C0AEOa9bh7d/9nJuLIx/9gnZv2ir1f6\n",
       "FdhFc0IhwqlgsefOBi1MML7E/Ctki5hW7EqlVnBPBpGU/882AR3r4kPH/q00+hpAK0CCW9UMpjKL\n",
       "twAAAdBBm7NJ4QpSZTAgh//+qlUACASMM3aNoACaWlXWZKWOX5XJozC7NvotZbb8CzulxMPCQ4xM\n",
       "ogDoqcqk44V03UyHRF8JfujRDxazJbmMxrMBaCQpBr/EqZBJdsaw2n0xCvII0q3Gxmj6tgbAiGGv\n",
       "A1s9PPEbXEW/tn/Ose8h/g9maM6mznlXQ6IbWKKO78/senHM5U9I1EHHXffL6mLns226EN3PZOP9\n",
       "j/H9VnBsG6ClZhyzwqTEd8Zm8rzBqCL5QDbb9THhgx2Q6eEH1Pa7NEdLu2nLJlNB8qSt6QDRL79E\n",
       "lAZQm9nvcpHb4CmEojujDW5sH5QC+0ZU5HA6HN+2JBG0ooPEl7IItFl4HyKuGfrt2R6jvsFLHfAK\n",
       "aRdntxUy5sIl4DRmjcvB+uEy0iz6cfYzR//kPSpV1cf7zHnGunY5F3DqzP2qDX2VpPI3NNKR0H+E\n",
       "qb9HgkKYFeuGblWpL3szu0dvHLhRp26N1M3LSZcO20Gwf7A2fOov5T5pCznNGHFTOogFoFsgU2Hq\n",
       "ktybtQFiXIQgOcsG4q6r1Mv4t+ErJBhyPMnQF4ZbV9M2IxvNXQIwXwXz3VVhnsaoQCCYDxpwEjC8\n",
       "aKr9MYVRr9zWhAAC7gAAAMBBn9FFNEw7/wAPjMm39ue8ugBHphssY8K7dAHPfEFsj9PF2ywcEFDA\n",
       "BQyeh6SvtyoXFVPJZlIVZHCbRZ5CVu0TbM1MdpLAlBR2vtl3XvLe1ghMHBcaCASYJOke9iUT8zNE\n",
       "/x67UN+OoAqTJGsHorOaOhuFFuM5mPsQqO1bNv47BoAH5MmxVkyrJ3W+wAqGwONjsGY11bLEzIKN\n",
       "+l9bdaY1Cy546fr12/yCa69+dOaLy3mE+/uwluxBHYI8HZu/WZ0AAABMAZ/wdEN/ABavWRU1O5az\n",
       "AO1jhvkDbqlF73OACIGYwuu1S3Doa0crpMHsTnPWsuZlDtQQlWq2MdQJbshjFieMmJuKveAkk7Ce\n",
       "jzu9mQAAAEUBn/JqQ38AFsTxIBNfbT6r678mjEasPMsim4heR1yWi6Sb5Cc5tmSyPfctxoAuwy9C\n",
       "r4gi/be6U87zHTsEC8SBYRzgpjgAAAEaQZv0SahBaJlMCCP//rUqgAQBm/bSejvPWQAH8KvRY/Yj\n",
       "aOfeAtCU5xFGwnWrfWeqhnOk7aX/i0CbDWuevSuZGl9j3mL1xvz8Tzqu2c7sgs/BRWvkPConQPBq\n",
       "YBlY6oXPKdOVeQ6mpBEVU0gNLCo2Mj89KD4hqQbpkU1ZSx75PL2YYcmt/mhBKyxFesZ9N9NyxMjD\n",
       "bwj0JPb3vfl6aAAK3Jm+cw7SEAQ+AKmQYhwBKY+n33fwgshXRc7H5+wznpcYl97BMJwSe3R7G92z\n",
       "m2eKkq32ps0qjJfRMVueYBHNQpAy+aS4Z8kGQCdnAF/qdqxcTfY6drAsQa0lb7y3q0VyL2l5Y2CX\n",
       "vk98ejsjNvJzbrcQpV2gVW+5uwbgAAAByUGaFknhClJlMFESwR/+tSqABAG3EAJ/gzTkCNWQliqV\n",
       "fNMt/eLT93iD130QUdCcT7FBiOi6+IP5orCwtnOSxBk2O2Kp9F7HJ4NIgQ+54v6a5EFgAigSspXW\n",
       "Xx+kU1Wy9NSVuTjhAZTX4oa7B6T4BUY7+bWSJMAhep2NsQCkPRZlkfJcPnv7q+vju48knbzFiubh\n",
       "dPan/iw+yhf4zToBKqCbrBBeEBKQMejvBa/JEmMbvlVQlKLW8KwP9zpK70Hb+ZUX7ZjStf8duUdB\n",
       "ieUrtRt26W3ueeg3jWdgRZHsSC4LwAtB1HbQu3soXWUeeav9iLKqYjVIaWbOCl4qNmZx0YdmA8BO\n",
       "iXcix+KNuu6/immsN7zKYUqpVdAAxIthAl+I+jT3TX1r/BEP9F2sk2LzlWILPGXL0aD7361hgdCA\n",
       "IVyks5h5SjmhSWjXqQHFpO3ARi02FZMCYZEad/x6hLMvJN8oneVpn7Dr6deUU28nTFb9Yg7KgVhF\n",
       "oq07eUT4V2cgmBLxWRpxsoqGa8JTlW6QQbVMcJaPJT6TQPo6sTMcBAg2e5lF8yIZ+5vprCeoM7wZ\n",
       "NYdc2K8zkyJddtOvFlj2NY5EwwmrnFfWdU8AAABNAZ41akN/AAnO95lz9SGZmaq8x6pHBTYAQp7a\n",
       "Pa/g+QgCqtChXu8UC0T2xiW+zQ7aPlbxLcRHj4TWQh7Vx6QjGkGNZzUVgdg2qAAAakAAAAGKQZo6\n",
       "SeEOiZTAgj/+tSqABAETFskgBP80wfoHvNThGsVQExxIttFZgLe+pvhMmoGIvFQMqX4mLraWJdfw\n",
       "rZVKQq3A9SvWrarz9T04k3wH4TrC70T2EF/IReyf6ujSAuFlBJ7444gEUidgNA8F6+JG9ekqt/Vh\n",
       "EWeYV3lKqKlFE8wFEVL+b571e8Zs2P9LPv5QS7AOb9VFEeSc1Rp8DgzxJv+zHdyzKZWjQSi3/xna\n",
       "umQEiH2N/fNQkHYJcPxxKFrjTNSZA3C9FfOY9mKxoroJxpCm6bsMAnEJoFCUeU6LLqbctaXAqr6i\n",
       "5Ts0jKeSX2f1ah7yBXE/7nv5krL5yuUM5HobUqJy7FkXITgR8VbrXuNQ4U609kSRzU2uv7yJ/CkP\n",
       "gJ+YLFOXH7tG3H4IyXYmjo75C0jHYNFV1LUfbw0OLmUgvy0jjGrf021WC+vVFy18Eoq9GtCxsGx0\n",
       "ICiH6d5jGul/h1RVfHynHy5o6LEM7R2n3Md4AVRqWSh/kxJu0FG/M0JCkgglsootBQAAAIZBnlhF\n",
       "FTw7/wAG37CsleRoALEHk3f2SLieAiVWj8eP94aiVpL8HFvzkrO1ZM0AbuIrs8omqvWnpBeP941D\n",
       "HmFqZNxvAjCTG3W9CT617JPPTru27anfkjIX4H0XYAqmSJwK13xgukLRnJTbSFdv6XH+0qGCqLUt\n",
       "Rr23N0oM4vgkP2nCBBUCDwAAAFsBnnd0Q38ACc7ppJ/ooAPOUy4v3YfkG/yvrOARBXM0p6BKY61R\n",
       "UjPNFbIgGxfWfdyphY2PsEMkKqy3DgC/BmbjCQb1eLUFue2DM/6YG1j9TwXK+NQ9bG4EgBnwAAAA\n",
       "SgGeeWpDfwAV6u/8HiQtB9AB3XtOr5m/+cksfSgsJ4Fnmq2jxpvyTRoxJXugGMNzXTvLrRR2kI/W\n",
       "j4ePuprNM+4VPhzoSMCLgDjhAAABe0GafkmoQWiZTAgh//6qVQAID80BDrohhzuoaFvEAAldHNQh\n",
       "O/EUsr+wj17pkDx5agRCmr94vMz0VughNtsREw5EfmqdP9L9Pf9hQpc+0Ibzbu+aI2dGZk4XSpgT\n",
       "dmkX9+5ZpVNOvk+j6RX2OolUa39geOF0yuyS5k1KMNopeKEyM6M6O4WRRQSn8H9PYUugWBv0V+fe\n",
       "03XqV5kh4SyRRsX90WP+QaPx6/kY6D6YYHgoaonTC5I+OrFJ0lcNnDDibjjYQDVtAXAHvvxf3wuO\n",
       "/QFU/2W3VS95irrESXijU3FcEseOg8XZgYlpHrgs+ze+JSFZFhhZUmus6yvODFh1P+NyAVts52tR\n",
       "AV9B8KnjuH767zA7eVjB0PvwgNwN51NSwcNFmf2U5faprrtluaDwBB7S6nKXbaPkeFeGFHdFTU6H\n",
       "rBxq/PmpdrKZidDNxuSzuCgBLXiGI6NLWg7At9fHGJDJhF6rUdyTCefu9Gy2T9MCLRuMvW3/vkAA\n",
       "H3AAAACoQZ6cRREsO/8AD0cd6y6h5KDZFsAJKD1f28A+2Kj+gZxeh4kBZkgGdUK+BE2Ux5Ttl45V\n",
       "YX6Oh2+L2QbygYEU3cbxs5dKaJFfkWXFe8v5KsyF4QB3vUY+hs6Yl8pro2E5tNslvS/0j50r9Ay6\n",
       "Q8+wLSiCIRv/QMk+naoos/EmOI7ODQWipPlmO3sQiR0G9ueWxDm9hm1DV6OBArATu0vYqBWEoD9C\n",
       "Ugg5AAAAQwGeu3RDfwAWJnMxi4PAqIodRHDQWPhi1TJACCLe3MvHuewMtujQRCFY2rawQwdZUvCU\n",
       "AZ2CImScpWOb6PAyFSXIAekAAABYAZ69akN/ABa2HuX9j5C5DQAJ21Q+PxQo+crKvBYCLM5MmhUw\n",
       "qPe8qjYGRSAH3TTvb45X7g00t4KtxolPPvmMAS1mGFWvEN1d0GfPHVxEXueA9uLmqADggAAAAUxB\n",
       "mqJJqEFsmUwId//+qZYADeNdhWFfpZ0ADtBKZcmLr1W3yyToDy+94puB5C4LhBaL2mdNquHxI0vI\n",
       "2v60ite72U1iJI98rSxImzhg6xNfrnRH2O9mI5dv0BYDQY2Z/lp7OJQfLtHPCquZ70u+WbH4CZzl\n",
       "8UOko1DceheAnJJbT3xG+hHYylvW8XyREkU0G0qNnaOUhJGzHuvOBWIQsfLlozekuTivBgYV01Sv\n",
       "TuUCrSxC11cmQMNeqkkMlcBJckw3rAhs8WT2OSPxUEuEMic6ueBvNQxLHStrnMIe2P+fO0RXMiuU\n",
       "EmYvxCw8Qci5+oxMn2CFafNPP/QC3l+sGvlFWuI6hfGozgZkX0/99uRTOpol3FMftWfpx7orf+jf\n",
       "DllcMoup45AiED1uIsWwiZYgXJdTRlEM4+jAF6DblPyKZzylJ5UHf5ABOCBaIwAAAKhBnsBFFSw7\n",
       "/wAPSDcV6xeN+OrwAXVGVxXTi0rOmgeXN5o0dwjSBJjntQGjQ/ACGztq7v8B33RkbS8DIKxxdck7\n",
       "ChCNuk8UW5vu+AX3VHxu5N0EDdchbDx9vzm6pRQXkWLtzlr0MDc36IFs1k+ExE+Z/Oh3dopYyTrf\n",
       "nKwl1kU6iDnXXYKjyZB2Q8lwG5lKXfae70RZI+V9VaRZh4zbAV9gmwYhIR4EEHEAAABTAZ7/dEN/\n",
       "ABa5bEp8qnEDoLwACd0AKdcc1hItZWmxudW8wA0yO9AHT2f9CcdxU7OBFq+P3e97EYe3iHFHehb4\n",
       "pQRFG8WG1Jj4nVNDSWhfy7sAFJAAAABMAZ7hakN/ABa5r8Fqme9ZKtfkDtV2vPIV67qpACEge1Qj\n",
       "J/9nctRvmoyJjgJPX6kcYxK2DsUlKIu8T8crlqfOQW/kmoj9iUw0FWQBqQAAAJVBmuNJqEFsmUwI\n",
       "b//+p4QAG5NZnj62wAJxBSKk8lCbj6mFLDzLNAatFInLb0+ApWjMj/kKPRxwYNCNRCtoBLEuVi12\n",
       "rypOKU3IL5qW4jC/WI6uoRxLzEw550mateolrqQdwJSiekErO22eP5fCRjCn21avVOhrMGP26UVu\n",
       "jo72LtemhZhwvYTYfDAVJMYMmg/UnmmGYAAAB69tb292AAAAbG12aGQAAAAAAAAAAAAAAAAAAAPo\n",
       "AAAnEAABAAABAAAAAAAAAAAAAAAAAQAAAAAAAAAAAAAAAAAAAAEAAAAAAAAAAAAAAAAAAEAAAAAA\n",
       "AAAAAAAAAAAAAAAAAAAAAAAAAAAAAAAAAAACAAAG2XRyYWsAAABcdGtoZAAAAAMAAAAAAAAAAAAA\n",
       "AAEAAAAAAAAnEAAAAAAAAAAAAAAAAAAAAAAAAQAAAAAAAAAAAAAAAAAAAAEAAAAAAAAAAAAAAAAA\n",
       "AEAAAAAB9AAAAZAAAAAAACRlZHRzAAAAHGVsc3QAAAAAAAAAAQAAJxAAAAgAAAEAAAAABlFtZGlh\n",
       "AAAAIG1kaGQAAAAAAAAAAAAAAAAAACgAAAGQAFXEAAAAAAAtaGRscgAAAAAAAAAAdmlkZQAAAAAA\n",
       "AAAAAAAAAFZpZGVvSGFuZGxlcgAAAAX8bWluZgAAABR2bWhkAAAAAQAAAAAAAAAAAAAAJGRpbmYA\n",
       "AAAcZHJlZgAAAAAAAAABAAAADHVybCAAAAABAAAFvHN0YmwAAAC0c3RzZAAAAAAAAAABAAAApGF2\n",
       "YzEAAAAAAAAAAQAAAAAAAAAAAAAAAAAAAAAB9AGQAEgAAABIAAAAAAAAAAEAAAAAAAAAAAAAAAAA\n",
       "AAAAAAAAAAAAAAAAAAAAAAAAAAAY//8AAAAyYXZjQwFkCBb/4QAZZ2QIFqzZQIAz5+EAAAMAAQAA\n",
       "AwAUDxYtlgEABmjr48siwAAAABx1dWlka2hA8l8kT8W6OaUbzwMj8wAAAAAAAAAYc3R0cwAAAAAA\n",
       "AAABAAAAZAAABAAAAAAUc3RzcwAAAAAAAAABAAAAAQAAAwBjdHRzAAAAAAAAAF4AAAABAAAIAAAA\n",
       "AAEAABQAAAAAAQAACAAAAAABAAAAAAAAAAEAAAQAAAAAAQAAFAAAAAABAAAIAAAAAAEAAAAAAAAA\n",
       "AQAABAAAAAAFAAAIAAAAAAEAAAwAAAAAAQAABAAAAAABAAAQAAAAAAIAAAQAAAAAAQAADAAAAAAB\n",
       "AAAEAAAAAAEAABQAAAAAAQAACAAAAAABAAAAAAAAAAEAAAQAAAAAAQAAFAAAAAABAAAIAAAAAAEA\n",
       "AAAAAAAAAQAABAAAAAABAAAUAAAAAAEAAAgAAAAAAQAAAAAAAAABAAAEAAAAAAEAABQAAAAAAQAA\n",
       "CAAAAAABAAAAAAAAAAEAAAQAAAAAAQAAFAAAAAABAAAIAAAAAAEAAAAAAAAAAQAABAAAAAABAAAI\n",
       "AAAAAAEAAAwAAAAAAQAABAAAAAACAAAIAAAAAAEAABQAAAAAAQAACAAAAAABAAAAAAAAAAEAAAQA\n",
       "AAAAAQAAFAAAAAABAAAIAAAAAAEAAAAAAAAAAQAABAAAAAABAAAUAAAAAAEAAAgAAAAAAQAAAAAA\n",
       "AAABAAAEAAAAAAEAABQAAAAAAQAACAAAAAABAAAAAAAAAAEAAAQAAAAAAQAAFAAAAAABAAAIAAAA\n",
       "AAEAAAAAAAAAAQAABAAAAAABAAAUAAAAAAEAAAgAAAAAAQAAAAAAAAABAAAEAAAAAAEAABQAAAAA\n",
       "AQAACAAAAAABAAAAAAAAAAEAAAQAAAAAAQAAFAAAAAABAAAIAAAAAAEAAAAAAAAAAQAABAAAAAAB\n",
       "AAAMAAAAAAEAAAQAAAAAAQAAFAAAAAABAAAIAAAAAAEAAAAAAAAAAQAABAAAAAABAAAIAAAAAAEA\n",
       "AAwAAAAAAQAABAAAAAABAAAUAAAAAAEAAAgAAAAAAQAAAAAAAAABAAAEAAAAAAEAABQAAAAAAQAA\n",
       "CAAAAAABAAAAAAAAAAEAAAQAAAAAAQAAFAAAAAABAAAIAAAAAAEAAAAAAAAAAQAABAAAAAABAAAI\n",
       "AAAAABxzdHNjAAAAAAAAAAEAAAABAAAAZAAAAAEAAAGkc3RzegAAAAAAAAAAAAAAZAAAIDIAAAYh\n",
       "AAAF2gAAAbEAAAGEAAAGJAAAAt0AAAGHAAABfgAAAvMAAALRAAACdAAAAlwAAAJsAAADDQAAARkA\n",
       "AAM/AAABTQAAAO4AAALpAAABCgAABEgAAAFyAAAA5gAAASoAAAOTAAABYAAAAQEAAAD8AAADjwAA\n",
       "AUwAAADLAAAAvAAAA1AAAAEsAAAApwAAAK8AAAKaAAAA2gAAAJwAAACJAAABxgAAAjIAAACEAAAB\n",
       "yQAAAeQAAALoAAAA/wAAAI4AAABvAAAC1QAAARQAAACVAAAAhAAAAsUAAADoAAAAhAAAAH4AAAKY\n",
       "AAAA9QAAAGIAAAB4AAACnwAAAMwAAAB2AAAAdgAAAm4AAADTAAAAegAAAGUAAAIqAAAA2wAAAFAA\n",
       "AABUAAACUwAAALQAAABXAAAAZwAAAZ4AAABuAAAB1AAAAMQAAABQAAAASQAAAR4AAAHNAAAAUQAA\n",
       "AY4AAACKAAAAXwAAAE4AAAF/AAAArAAAAEcAAABcAAABUAAAAKwAAABXAAAAUAAAAJkAAAAUc3Rj\n",
       "bwAAAAAAAAABAAAALAAAAGJ1ZHRhAAAAWm1ldGEAAAAAAAAAIWhkbHIAAAAAAAAAAG1kaXJhcHBs\n",
       "AAAAAAAAAAAAAAAALWlsc3QAAAAlqXRvbwAAAB1kYXRhAAAAAQAAAABMYXZmNTguMjAuMTAw\n",
       "\">\n",
       "  Your browser does not support the video tag.\n",
       "</video>"
      ],
      "text/plain": [
       "<matplotlib.animation.FuncAnimation at 0x1df7f35f5f8>"
      ]
     },
     "execution_count": 492,
     "metadata": {},
     "output_type": "execute_result"
    }
   ],
   "source": [
    "a_guess=a_start\n",
    "b_guess=b_start\n",
    "fig = plt.figure(dpi=100, figsize=(5, 4))\n",
    "plt.scatter(x,y)\n",
    "line, = plt.plot(x,lin(a_guess,b_guess,x))\n",
    "plt.close()\n",
    "run=0\n",
    "def animate(i):\n",
    "    global run\n",
    "    line.set_ydata(lin(a_guess,b_guess,x))\n",
    "    \n",
    "    #print(run)\n",
    "    for i in range(10): \n",
    "        run=run+1\n",
    "        upd()\n",
    "        if np.mod(run,10)==1:\n",
    "            run=run\n",
    "            print( \"Run = %d , Loss= %.10s, a_guess= %.10s, b_guess= %.10s, a=%.10s, b=%.10s\" % (run, loss(y,a_guess,b_guess,x),a_guess,b_guess,a,b))\n",
    "        #print(i)\n",
    "    return line,\n",
    "    \n",
    "\n",
    "ani = animation.FuncAnimation(fig, animate, np.arange(0, 100), interval=100)\n",
    "print(a_guess)\n",
    "print(b_guess)\n",
    "print(loss(y,a_guess,b_guess,x))\n",
    "ani\n"
   ]
  },
  {
   "cell_type": "code",
   "execution_count": 257,
   "metadata": {
    "slideshow": {
     "slide_type": "slide"
    }
   },
   "outputs": [
    {
     "name": "stdout",
     "output_type": "stream",
     "text": [
      "-0.34816504025594835\n",
      "1.3176568127813217\n",
      "65.04806289905129\n"
     ]
    }
   ],
   "source": [
    "print(a_guess)\n",
    "print(b_guess)\n",
    "print(loss(y,a_guess,b_guess,x))"
   ]
  },
  {
   "cell_type": "code",
   "execution_count": 255,
   "metadata": {
    "slideshow": {
     "slide_type": "slide"
    }
   },
   "outputs": [
    {
     "name": "stdout",
     "output_type": "stream",
     "text": [
      "-1.0\n",
      "0.1\n",
      "262.9351874418169\n"
     ]
    }
   ],
   "source": [
    "# # Animate SGD\n",
    "# a_guess=a_start\n",
    "# b_guess=b_start\n",
    "# fig = plt.figure(dpi=100, figsize=(5, 4))\n",
    "# plt.scatter(x,y)\n",
    "# line, = plt.plot(x,lin(a_guess,b_guess,x))\n",
    "# plt.close()\n",
    "# def animate2(i):\n",
    "#     run=run+1\n",
    "#     print(run)\n",
    "#     line.set_ydata(lin(a_guess,b_guess,x))\n",
    "#     np.random.seed(123)\n",
    "#     for n in permutation(len(x)): \n",
    "#         print(n)\n",
    "#         upd_stoastic(n)\n",
    "#     return line,"
   ]
  },
  {
   "cell_type": "code",
   "execution_count": 243,
   "metadata": {
    "slideshow": {
     "slide_type": "slide"
    }
   },
   "outputs": [
    {
     "name": "stdout",
     "output_type": "stream",
     "text": [
      "-1.0\n",
      "0.1\n",
      "262.9351874418169\n"
     ]
    }
   ],
   "source": [
    "ani = animation.FuncAnimation(fig, animate2, np.arange(0, 40), interval=100)\n",
    "ani\n",
    "print(a_guess)\n",
    "print(b_guess)\n",
    "print(loss(y,a_guess,b_guess,x))"
   ]
  },
  {
   "cell_type": "code",
   "execution_count": 251,
   "metadata": {},
   "outputs": [
    {
     "data": {
      "text/plain": [
       "2"
      ]
     },
     "execution_count": 251,
     "metadata": {},
     "output_type": "execute_result"
    }
   ],
   "source": [
    "b"
   ]
  },
  {
   "cell_type": "code",
   "execution_count": 200,
   "metadata": {},
   "outputs": [
    {
     "ename": "AttributeError",
     "evalue": "'builtin_function_or_method' object has no attribute 'normal'",
     "output_type": "error",
     "traceback": [
      "\u001b[1;31m---------------------------------------------------------------------------\u001b[0m",
      "\u001b[1;31mAttributeError\u001b[0m                            Traceback (most recent call last)",
      "\u001b[1;32m<ipython-input-200-565c05333f99>\u001b[0m in \u001b[0;36m<module>\u001b[1;34m\u001b[0m\n\u001b[1;32m----> 1\u001b[1;33m \u001b[0mrandom\u001b[0m\u001b[1;33m.\u001b[0m\u001b[0mnormal\u001b[0m\u001b[1;33m(\u001b[0m\u001b[1;36m0\u001b[0m\u001b[1;33m,\u001b[0m\u001b[1;36m1\u001b[0m\u001b[1;33m,\u001b[0m\u001b[1;36m10\u001b[0m\u001b[1;33m)\u001b[0m\u001b[1;33m\u001b[0m\u001b[1;33m\u001b[0m\u001b[0m\n\u001b[0m",
      "\u001b[1;31mAttributeError\u001b[0m: 'builtin_function_or_method' object has no attribute 'normal'"
     ]
    }
   ],
   "source": [
    "random.normal(0,1,10)"
   ]
  },
  {
   "cell_type": "raw",
   "metadata": {},
   "source": []
  }
 ],
 "metadata": {
  "celltoolbar": "Slideshow",
  "kernelspec": {
   "display_name": "Python 3",
   "language": "python",
   "name": "python3"
  },
  "language_info": {
   "codemirror_mode": {
    "name": "ipython",
    "version": 3
   },
   "file_extension": ".py",
   "mimetype": "text/x-python",
   "name": "python",
   "nbconvert_exporter": "python",
   "pygments_lexer": "ipython3",
   "version": "3.7.3"
  },
  "latex_envs": {
   "LaTeX_envs_menu_present": true,
   "autoclose": false,
   "autocomplete": true,
   "bibliofile": "biblio.bib",
   "cite_by": "apalike",
   "current_citInitial": 1,
   "eqLabelWithNumbers": true,
   "eqNumInitial": 1,
   "hotkeys": {
    "equation": "Ctrl-E",
    "itemize": "Ctrl-I"
   },
   "labels_anchors": false,
   "latex_user_defs": false,
   "report_style_numbering": false,
   "user_envs_cfg": false
  },
  "rise": {
   "autolaunch": false,
   "backimage": "images/back_img.png",
   "footer": "<h3>23.05.2019 | Dr.-Ing. Rüdiger Alshut| Bedeutung von Rechnerarchitekturen für das Maschinelle Lernen </h3>",
   "header": "<h1></h1>"
  },
  "varInspector": {
   "cols": {
    "lenName": 16,
    "lenType": 16,
    "lenVar": 40
   },
   "kernels_config": {
    "python": {
     "delete_cmd_postfix": "",
     "delete_cmd_prefix": "del ",
     "library": "var_list.py",
     "varRefreshCmd": "print(var_dic_list())"
    },
    "r": {
     "delete_cmd_postfix": ") ",
     "delete_cmd_prefix": "rm(",
     "library": "var_list.r",
     "varRefreshCmd": "cat(var_dic_list()) "
    }
   },
   "position": {
    "height": "394px",
    "left": "638px",
    "right": "20px",
    "top": "120px",
    "width": "300px"
   },
   "types_to_exclude": [
    "module",
    "function",
    "builtin_function_or_method",
    "instance",
    "_Feature"
   ],
   "window_display": false
  }
 },
 "nbformat": 4,
 "nbformat_minor": 2
}
