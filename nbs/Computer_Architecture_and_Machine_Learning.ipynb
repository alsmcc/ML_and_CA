{
 "cells": [
  {
   "cell_type": "markdown",
   "metadata": {},
   "source": [
    "# Bedeutung von Rechnerarchitekturen für das Maschinelle Lernen"
   ]
  },
  {
   "cell_type": "markdown",
   "metadata": {},
   "source": [
    "    Dr.-Ing. Rüdiger Alshut"
   ]
  },
  {
   "cell_type": "markdown",
   "metadata": {
    "collapsed": true,
    "slideshow": {
     "slide_type": "slide"
    }
   },
   "source": [
    "Here we have defined `header`, `footer` and `backimage` - [see also the customization doc](http://rise.readthedocs.io/en/latest/customize.html).\n",
    "\n",
    "See [this other notebook](overlay.ipynb) for a short description of how to use `overlay` instead."
   ]
  },
  {
   "cell_type": "markdown",
   "metadata": {
    "slideshow": {
     "slide_type": "skip"
    }
   },
   "source": [
    "# The impact of Computer Architecture on Machine Learning\n",
    "\n",
    "Here I demonstrate the effect of taking advantage of the Computer Architecture on the Gradient Descent Algorithm.\n",
    "\n",
    "For Optimization the Gradient Descent Algorithm is with out any doubt the best starting point to get an understanding for optimization algorithms. Ther are many derivatives of this algorithm get to the global minimum, or to at least near to it, faster. But the basic principle stays the same. Here I implement in a basic way that makes it easer to understand:\n",
    "\n",
    "1. *Batch* Gradient Descent\n",
    "2. *Stochastic* Gradient Descent\n",
    "3. Gradient Descent with *Mini-Batches*\n",
    "4. Gradient Descent with *Mini-Batches* and *GPU-Parallization*\n"
   ]
  },
  {
   "cell_type": "markdown",
   "metadata": {
    "slideshow": {
     "slide_type": "slide"
    }
   },
   "source": [
    "    /* this code block is 4-space indented */"
   ]
  },
  {
   "cell_type": "markdown",
   "metadata": {
    "slideshow": {
     "slide_type": "slide"
    }
   },
   "source": [
    "```\n",
    "# this code block is within triple backquotes\n",
    "```"
   ]
  },
  {
   "cell_type": "markdown",
   "metadata": {},
   "source": [
    "\\begin{equation}%\\label{eq:theta}\n",
    "h_\\theta(x)=\\sum\\limits_{i=0}^{n}\\theta_j x_j\\\\\n",
    "J(\\theta)=\\frac{1}{2m}\\sum\\limits_{i=1}\n",
    "\\end{equation}\n",
    "\n"
   ]
  },
  {
   "cell_type": "code",
   "execution_count": null,
   "metadata": {},
   "outputs": [],
   "source": [
    "from __future__ import print_function, division\n",
    "%matplotlib inline\n",
    "import math,sys,os,numpy as np\n",
    "from numpy.random import random, permutation, randint\n",
    "from matplotlib import pyplot as plt, rcParams, animation, rc\n",
    "from ipywidgets import interact, interactive, fixed\n",
    "from ipywidgets.widgets import *\n",
    "rc('animation', html='html5')\n",
    "rcParams['figure.figsize'] = 3, 3\n",
    "%precision 4\n",
    "np.set_printoptions(precision=4, linewidth=100)"
   ]
  },
  {
   "cell_type": "code",
   "execution_count": null,
   "metadata": {},
   "outputs": [],
   "source": [
    "def loss(y,a,b,x): return sse(y, lin(a,b,x))\n",
    "def sse(y,y_pred): return ((y-y_pred)**2).sum()"
   ]
  },
  {
   "cell_type": "markdown",
   "metadata": {
    "slideshow": {
     "slide_type": "slide"
    }
   },
   "source": [
    "Wir starten mit der Geradengleichung\n",
    "\\begin{equation}\\label{eq:1}\n",
    "y=a\\mathbf{x}+b\\\n",
    "\\end{equation}\n"
   ]
  },
  {
   "cell_type": "code",
   "execution_count": null,
   "metadata": {
    "slideshow": {
     "slide_type": ""
    }
   },
   "outputs": [],
   "source": [
    "def lin(a,b,x): return a*x+b"
   ]
  },
  {
   "cell_type": "code",
   "execution_count": null,
   "metadata": {},
   "outputs": [],
   "source": [
    "a=1\n",
    "b=2\n",
    "a_start=-5\n",
    "b_start= -1\n",
    "lr=0.01"
   ]
  },
  {
   "cell_type": "code",
   "execution_count": null,
   "metadata": {},
   "outputs": [],
   "source": [
    "n=30\n",
    "noise=np.random.normal(0,.9,n)\n",
    "x = random(n)\n",
    "y = lin(a,b,x)+noise"
   ]
  },
  {
   "cell_type": "code",
   "execution_count": null,
   "metadata": {
    "slideshow": {
     "slide_type": "slide"
    }
   },
   "outputs": [],
   "source": [
    "plt.scatter(x,y)"
   ]
  },
  {
   "cell_type": "markdown",
   "metadata": {},
   "source": [
    "\\begin{equation}%\\label{eq:theta}\n",
    "%h_\\theta(x)=\\sum\\limits_{i=0}^{n}\\theta_j x_j\\\\\n",
    "J(\\theta)=\\frac{1}{2m}\\sum\\limits_{i=1}\n",
    "\\end{equation}\n"
   ]
  },
  {
   "cell_type": "code",
   "execution_count": null,
   "metadata": {
    "slideshow": {
     "slide_type": "slide"
    }
   },
   "outputs": [],
   "source": [
    "def upd(x,y):\n",
    "    global a_guess, b_guess\n",
    "    y_pred = lin(a_guess, b_guess, x)\n",
    "    a_guess = a_guess - lr * len(x)**-1*((y_pred-y) * x).sum()\n",
    "    b_guess = b_guess - lr * len(x)**-1*((y_pred-y)).sum()\n",
    "    \n",
    "    "
   ]
  },
  {
   "cell_type": "code",
   "execution_count": null,
   "metadata": {},
   "outputs": [],
   "source": [
    "def upd_stoastic(n):\n",
    "    global a_guess, b_guess\n",
    "    y_pred = lin(a_guess, b_guess, x[n])\n",
    "    a_guess = a_guess - lr * (y_pred-y[n])*x[n]\n",
    "    b_guess = b_guess - lr * (y_pred-y[n])"
   ]
  },
  {
   "cell_type": "code",
   "execution_count": null,
   "metadata": {
    "code_folding": []
   },
   "outputs": [],
   "source": [
    "def iterate_minibatches(inputs, targets, batchsize, shuffle=False):\n",
    "    assert inputs.shape[0] == targets.shape[0]\n",
    "    if shuffle:\n",
    "        indices = np.arange(inputs.shape[0])\n",
    "        np.random.shuffle(indices)\n",
    "    for start_idx in range(0, inputs.shape[0], batchsize):\n",
    "        end_idx = min(start_idx + batchsize, inputs.shape[0])\n",
    "        if shuffle:\n",
    "            excerpt = indices[start_idx:end_idx]\n",
    "        else:\n",
    "            excerpt = slice(start_idx, end_idx)\n",
    "        yield inputs[excerpt], targets[excerpt]"
   ]
  },
  {
   "cell_type": "code",
   "execution_count": null,
   "metadata": {},
   "outputs": [],
   "source": [
    "n=int(1e4)\n",
    "a_start=-1\n",
    "a_start=-2\n",
    "x = random(n)\n",
    "noise=np.random.normal(0,.9,n)\n",
    "y = lin(a,b,x)+noise\n",
    "x.shape"
   ]
  },
  {
   "cell_type": "code",
   "execution_count": null,
   "metadata": {},
   "outputs": [],
   "source": []
  },
  {
   "cell_type": "code",
   "execution_count": null,
   "metadata": {
    "cell_style": "split",
    "code_folding": [
     10
    ],
    "slideshow": {
     "slide_type": "slide"
    }
   },
   "outputs": [],
   "source": [
    "%%time \n",
    "a_guess=a_start\n",
    "b_guess=b_start\n",
    "global run\n",
    "run=0\n",
    "for i in range(100000):\n",
    "    run=run+1\n",
    "#     if np.mod(run,200)==1:\n",
    "#         print( \"Run=%s, Loss= %.10s, a_guess= %.10s, b_guess= %.10s, a=%.10s, b=%.10s\" % (run, loss(y,a_guess,b_guess,x),a_guess,b_guess,a,b)) #Print information about current loss\n",
    "    upd(x,y)    \n",
    "print( \"Run=%s, Loss= %.10s\\na_guess= %.10s, b_guess= %.10s\\na=%.10s, b=%.10s\" % (run, loss(y,a_guess,b_guess,x),a_guess,b_guess,a,b))\n",
    "    "
   ]
  },
  {
   "cell_type": "code",
   "execution_count": 49,
   "metadata": {
    "cell_style": "split",
    "code_folding": [],
    "scrolled": false
   },
   "outputs": [
    {
     "name": "stdout",
     "output_type": "stream",
     "text": [
      "Run=200, Loss= 8297.55468\n",
      "a_guess= 0.91830123, b_guess= 1.97175284\n",
      "a=1, b=2\n",
      "Wall time: 6.83 s\n"
     ]
    }
   ],
   "source": [
    "%%time \n",
    "a_guess=a_start\n",
    "b_guess=b_start\n",
    "global run\n",
    "run=0\n",
    "for i in range(200):\n",
    "    run=run+1\n",
    "    np.random.seed(123)    \n",
    "#     print( \"Run=%s, Loss= %.10s, a_guess= %.10s, b_guess= %.10s, a=%.10s, b=%.10s\" % (run, loss(y,a_guess,b_guess,x),a_guess,b_guess,a,b))\n",
    "    for n in permutation(len(x)): \n",
    "            upd_stoastic(n)\n",
    "print( \"Run=%s, Loss= %.10s\\na_guess= %.10s, b_guess= %.10s\\na=%.10s, b=%.10s\" % (run, loss(y,a_guess,b_guess,x),a_guess,b_guess,a,b))"
   ]
  },
  {
   "cell_type": "code",
   "execution_count": 50,
   "metadata": {
    "cell_style": "split",
    "code_folding": [],
    "scrolled": false
   },
   "outputs": [
    {
     "name": "stdout",
     "output_type": "stream",
     "text": [
      "Run=200, Loss= 8297.55468\n",
      "a_guess= 0.91830123, b_guess= 1.97175284\n",
      "a=1, b=2\n",
      "Wall time: 6.9 s\n"
     ]
    }
   ],
   "source": [
    "%%time \n",
    "a_guess=a_start\n",
    "b_guess=b_start\n",
    "global run\n",
    "run=0\n",
    "for i in range(200):\n",
    "    run=run+1\n",
    "    np.random.seed(123)    \n",
    "#     print( \"Run=%s, Loss= %.10s, a_guess= %.10s, b_guess= %.10s, a=%.10s, b=%.10s\" % (run, loss(y,a_guess,b_guess,x),a_guess,b_guess,a,b))\n",
    "    for n in permutation(len(x_t)): \n",
    "            upd_stoastic(n)\n",
    "print( \"Run=%s, Loss= %.10s\\na_guess= %.10s, b_guess= %.10s\\na=%.10s, b=%.10s\" % (run, loss(y,a_guess,b_guess,x),a_guess,b_guess,a,b))"
   ]
  },
  {
   "cell_type": "code",
   "execution_count": 43,
   "metadata": {
    "slideshow": {
     "slide_type": "slide"
    }
   },
   "outputs": [
    {
     "name": "stdout",
     "output_type": "stream",
     "text": [
      "Run=0, Loss= 8481.53485, a_guess= 0.43488974, b_guess= 2.31902851, a=1, b=2\n",
      "Wall time: 42 ms\n"
     ]
    }
   ],
   "source": [
    "%%time \n",
    "a_guess=a_start\n",
    "b_guess=b_start\n",
    "global run\n",
    "run=0\n",
    "for n in range(10):\n",
    "    for batch in iterate_minibatches(x, y, 100, shuffle=True):\n",
    "        x_batch, y_batch = batch\n",
    "        upd(x_batch,y_batch)\n",
    "print( \"Run=%s, Loss= %.10s, a_guess= %.10s, b_guess= %.10s, a=%.10s, b=%.10s\" % (run, loss(y,a_guess,b_guess,x),a_guess,b_guess,a,b))\n",
    "    "
   ]
  },
  {
   "cell_type": "code",
   "execution_count": 44,
   "metadata": {
    "slideshow": {
     "slide_type": "slide"
    }
   },
   "outputs": [
    {
     "name": "stdout",
     "output_type": "stream",
     "text": [
      "Wall time: 1.68 s\n"
     ]
    }
   ],
   "source": [
    "%%time \n",
    "a_guess=a_start\n",
    "b_guess=b_start\n",
    "global run\n",
    "run=0\n",
    "for n in range(10):\n",
    "    for batch in iterate_minibatches(x_t, y_t, 100, shuffle=True):\n",
    "        x_batch, y_batch = batch\n",
    "        upd(x_batch,y_batch)\n",
    "#print( \"Run=%s, Loss= %.10s, a_guess= %.10s, b_guess= %.10s, a=%.10s, b=%.10s\" % (run, loss(y,a_guess,b_guess,x),a_guess,b_guess,a,b))\n",
    "    "
   ]
  },
  {
   "cell_type": "code",
   "execution_count": 46,
   "metadata": {},
   "outputs": [
    {
     "data": {
      "text/plain": [
       "torch.Tensor"
      ]
     },
     "execution_count": 46,
     "metadata": {},
     "output_type": "execute_result"
    }
   ],
   "source": [
    "type(x_batch)"
   ]
  },
  {
   "cell_type": "code",
   "execution_count": 33,
   "metadata": {},
   "outputs": [],
   "source": [
    "import torch\n",
    "x_t=torch.from_numpy(x).cuda()\n",
    "y_t=torch.from_numpy(y).cuda()\n",
    "a_guess_t=torch.tensor(a_guess).cuda()\n",
    "b_guess_t=torch.tensor(b_guess).cuda()\n",
    "lr_t=torch.tensor(lr).cuda()"
   ]
  },
  {
   "cell_type": "code",
   "execution_count": 34,
   "metadata": {},
   "outputs": [],
   "source": [
    "def upd_t(x_t,y_t):\n",
    "    global a_guess_t, b_guess_t\n",
    "    y_pred_t = a_guess_t*x_t+b_guess_t\n",
    "    a_guess_t = a_guess_t - lr_t * len(x_t)**-1*((y_pred_t-y_t) * x_t).sum()\n",
    "    b_guess_t = b_guess_t - lr_t * len(x_t)**-1*((y_pred_t-y_t)).sum()\n",
    "    \n",
    "    "
   ]
  },
  {
   "cell_type": "code",
   "execution_count": null,
   "metadata": {
    "cell_style": "split",
    "code_folding": [
     10
    ],
    "scrolled": true,
    "slideshow": {
     "slide_type": "slide"
    }
   },
   "outputs": [],
   "source": [
    "%%time \n",
    "a_guess=a_start\n",
    "b_guess=b_start\n",
    "a_guess_t=torch.tensor(a_guess).cuda()\n",
    "b_guess_t=torch.tensor(b_guess).cuda()\n",
    "global run\n",
    "run=0\n",
    "for i in range(100000):\n",
    "    run=run+1\n",
    "    if np.mod(run,200)==1:\n",
    "#         print( \"Run=%s, Loss= %.10s, a_guess= %.10s, b_guess= %.10s, a=%.10s, b=%.10s\" % (run, loss(y,a_guess,b_guess,x),a_guess,b_guess,a,b)) #Print information about current loss\n",
    "        upd_t2(x_t,y_t)    \n",
    "# a_guess=a_guess_t.cpu().numpy()\n",
    "# b_guess=b_guess_t.cpu().numpy()\n",
    "print( \"Run=%s, Loss= %.10s, a_guess= %.10s, b_guess= %.10s, a=%.10s, b=%.10s\" % (run, loss(y,a_guess,b_guess,x),a_guess,b_guess,a,b))\n",
    "    "
   ]
  },
  {
   "cell_type": "code",
   "execution_count": 16,
   "metadata": {},
   "outputs": [
    {
     "data": {
      "text/plain": [
       "tensor([2.6407, 2.6900, 2.8562,  ..., 2.3647, 2.2739, 2.0902], device='cuda:0',\n",
       "       dtype=torch.float64)"
      ]
     },
     "execution_count": 16,
     "metadata": {},
     "output_type": "execute_result"
    }
   ],
   "source": [
    "y_pred_t = a_guess*x_t+b_guess\n",
    "y_pred_t"
   ]
  },
  {
   "cell_type": "markdown",
   "metadata": {
    "cell_style": "split"
   },
   "source": [
    "\\begin{equation}\\label{eq:}\n",
    "\\frac{X}{Y}\n",
    "\\end{equation}\n"
   ]
  },
  {
   "cell_type": "markdown",
   "metadata": {
    "cell_style": "split"
   },
   "source": [
    "\\begin{equation}\\label{eq:2}\n",
    "\\frac{X}{Y}\n",
    "\\end{equation}\n"
   ]
  },
  {
   "cell_type": "code",
   "execution_count": 28,
   "metadata": {
    "cell_style": "split",
    "code_folding": [
     10
    ],
    "slideshow": {
     "slide_type": "slide"
    }
   },
   "outputs": [
    {
     "name": "stdout",
     "output_type": "stream",
     "text": [
      "Run=1000, Loss= 8480.99670\n",
      "a_guess= 0.43498983, b_guess= 2.31786885\n",
      "a=1, b=2\n",
      "Wall time: 83.9 ms\n"
     ]
    }
   ],
   "source": [
    "%%time \n",
    "a_guess=a_start\n",
    "b_guess=b_start\n",
    "global run\n",
    "run=0\n",
    "for i in range(1000):\n",
    "    run=run+1\n",
    "#     if np.\n",
    "# mod(run,200)==1:\n",
    "#         print( \"Run=%s, Loss= %.10s, a_guess= %.10s, b_guess= %.10s, a=%.10s, b=%.10s\" % (run, loss(y,a_guess,b_guess,x),a_guess,b_guess,a,b)) #Print information about current loss\n",
    "    upd(x,y)    \n",
    "print( \"Run=%s, Loss= %.10s\\na_guess= %.10s, b_guess= %.10s\\na=%.10s, b=%.10s\" % (run, loss(y,a_guess,b_guess,x),a_guess,b_guess,a,b))\n",
    "    "
   ]
  },
  {
   "cell_type": "code",
   "execution_count": 38,
   "metadata": {
    "cell_style": "split",
    "code_folding": [
     10
    ],
    "slideshow": {
     "slide_type": "slide"
    }
   },
   "outputs": [
    {
     "name": "stdout",
     "output_type": "stream",
     "text": [
      "Run=1000, Loss= 8289.52966\n",
      "a_guess= 0.70328549, b_guess= 2.17480949\n",
      "a=1, b=2\n",
      "Wall time: 1.03 s\n"
     ]
    }
   ],
   "source": [
    "%%time \n",
    "a_guess=a_start\n",
    "b_guess=b_start\n",
    "global run\n",
    "run=0\n",
    "for i in range(1000):\n",
    "    run=run+1\n",
    "\n",
    "    #      if np.mod(run,200)==1:\n",
    "#         print( \"Run=%s, Loss= %.10s, a_guess= %.10s, b_guess= %.10s, a=%.10s, b=%.10s\" % (run, loss(y,a_guess,b_guess,x),a_guess,b_guess,a,b)) #Print information about current loss\n",
    "    upd(x_t,y_t)\n",
    "a_guess=a_guess_t.cpu().numpy()\n",
    "b_guess=b_guess_t.cpu().numpy()\n",
    "print( \"Run=%s, Loss= %.10s\\na_guess= %.10s, b_guess= %.10s\\na=%.10s, b=%.10s\" % (run, loss(y,a_guess,b_guess,x),a_guess,b_guess,a,b))\n",
    "    "
   ]
  },
  {
   "cell_type": "markdown",
   "metadata": {},
   "source": [
    "# Animation Area"
   ]
  },
  {
   "cell_type": "code",
   "execution_count": null,
   "metadata": {
    "slideshow": {
     "slide_type": "slide"
    }
   },
   "outputs": [],
   "source": [
    "a_guess=a_start\n",
    "b_guess=b_start\n",
    "lr=0.1\n",
    "fig = plt.figure(dpi=100, figsize=(5, 4))\n",
    "plt.scatter(x,y)\n",
    "line, = plt.plot(x,lin(a_guess,b_guess,x))\n",
    "plt.close()\n",
    "run=0\n",
    "def animate_stochastic(i):\n",
    "    global run\n",
    "    line.set_ydata(lin(a_guess,b_guess,x))\n",
    "    run=run+1\n",
    "    if np.mod(run,10)==1:\n",
    "        print( \"Run = %d , Loss= %.10s, a_guess= %.10s, b_guess= %.10s, a=%.10s, b=%.10s\" % (run, loss(y,a_guess,b_guess,x),a_guess,b_guess,a,b))\n",
    "    \n",
    "    #np.random.seed(123)\n",
    "    \n",
    "#     for n in permutation(len(x)): \n",
    "#         print(n)\n",
    "#         upd_stoastic(n)\n",
    "    upd_stoastic(randint(len(x)))\n",
    "    return line,\n",
    "    \n",
    "\n",
    "ani_stoch = animation.FuncAnimation(fig, animate_stochastic, np.arange(0, 70), interval=100)\n",
    "\n",
    "ani_stoch"
   ]
  },
  {
   "cell_type": "code",
   "execution_count": null,
   "metadata": {
    "slideshow": {
     "slide_type": "slide"
    }
   },
   "outputs": [],
   "source": [
    "a_guess=a_start\n",
    "b_guess=b_start\n",
    "fig = plt.figure(dpi=100, figsize=(5, 4))\n",
    "plt.scatter(x,y)\n",
    "line, = plt.plot(x,lin(a_guess,b_guess,x))\n",
    "plt.close()\n",
    "run=0\n",
    "def animate(i):\n",
    "    global run\n",
    "    line.set_ydata(lin(a_guess,b_guess,x))\n",
    "    \n",
    "    #print(run)\n",
    "    for i in range(10): \n",
    "        run=run+1\n",
    "        upd()\n",
    "        if np.mod(run,10)==1:\n",
    "            run=run\n",
    "            print( \"Run = %d , Loss= %.10s, a_guess= %.10s, b_guess= %.10s, a=%.10s, b=%.10s\" % (run, loss(y,a_guess,b_guess,x),a_guess,b_guess,a,b))\n",
    "        #print(i)\n",
    "    return line,\n",
    "    \n",
    "\n",
    "ani = animation.FuncAnimation(fig, animate, np.arange(0, 100), interval=100)\n",
    "print(a_guess)\n",
    "print(b_guess)\n",
    "print(loss(y,a_guess,b_guess,x))\n",
    "ani\n"
   ]
  },
  {
   "cell_type": "code",
   "execution_count": null,
   "metadata": {
    "slideshow": {
     "slide_type": "slide"
    }
   },
   "outputs": [],
   "source": [
    "print(a_guess)\n",
    "print(b_guess)\n",
    "print(loss(y,a_guess,b_guess,x))"
   ]
  },
  {
   "cell_type": "code",
   "execution_count": null,
   "metadata": {
    "slideshow": {
     "slide_type": "slide"
    }
   },
   "outputs": [],
   "source": [
    "# # Animate SGD\n",
    "# a_guess=a_start\n",
    "# b_guess=b_start\n",
    "# fig = plt.figure(dpi=100, figsize=(5, 4))\n",
    "# plt.scatter(x,y)\n",
    "# line, = plt.plot(x,lin(a_guess,b_guess,x))\n",
    "# plt.close()\n",
    "# def animate2(i):\n",
    "#     run=run+1\n",
    "#     print(run)\n",
    "#     line.set_ydata(lin(a_guess,b_guess,x))\n",
    "#     np.random.seed(123)\n",
    "#     for n in permutation(len(x)): \n",
    "#         print(n)\n",
    "#         upd_stoastic(n)\n",
    "#     return line,"
   ]
  },
  {
   "cell_type": "code",
   "execution_count": null,
   "metadata": {
    "slideshow": {
     "slide_type": "slide"
    }
   },
   "outputs": [],
   "source": [
    "ani = animation.FuncAnimation(fig, animate2, np.arange(0, 40), interval=100)\n",
    "ani\n",
    "print(a_guess)\n",
    "print(b_guess)\n",
    "print(loss(y,a_guess,b_guess,x))"
   ]
  },
  {
   "cell_type": "code",
   "execution_count": null,
   "metadata": {},
   "outputs": [],
   "source": [
    "b"
   ]
  },
  {
   "cell_type": "code",
   "execution_count": null,
   "metadata": {},
   "outputs": [],
   "source": [
    "random.normal(0,1,10)"
   ]
  },
  {
   "cell_type": "raw",
   "metadata": {},
   "source": []
  }
 ],
 "metadata": {
  "celltoolbar": "Slideshow",
  "kernelspec": {
   "display_name": "Python 3",
   "language": "python",
   "name": "python3"
  },
  "language_info": {
   "codemirror_mode": {
    "name": "ipython",
    "version": 3
   },
   "file_extension": ".py",
   "mimetype": "text/x-python",
   "name": "python",
   "nbconvert_exporter": "python",
   "pygments_lexer": "ipython3",
   "version": "3.7.3"
  },
  "latex_envs": {
   "LaTeX_envs_menu_present": true,
   "autoclose": false,
   "autocomplete": true,
   "bibliofile": "biblio.bib",
   "cite_by": "apalike",
   "current_citInitial": 1,
   "eqLabelWithNumbers": true,
   "eqNumInitial": 1,
   "hotkeys": {
    "equation": "Ctrl-E",
    "itemize": "Ctrl-I"
   },
   "labels_anchors": false,
   "latex_user_defs": false,
   "report_style_numbering": false,
   "user_envs_cfg": false
  },
  "rise": {
   "autolaunch": false,
   "backimage": "images/back_img.png",
   "footer": "<h3>23.05.2019 | Dr.-Ing. Rüdiger Alshut| Bedeutung von Rechnerarchitekturen für das Maschinelle Lernen </h3>",
   "header": "<h1></h1>"
  },
  "varInspector": {
   "cols": {
    "lenName": 16,
    "lenType": 16,
    "lenVar": 40
   },
   "kernels_config": {
    "python": {
     "delete_cmd_postfix": "",
     "delete_cmd_prefix": "del ",
     "library": "var_list.py",
     "varRefreshCmd": "print(var_dic_list())"
    },
    "r": {
     "delete_cmd_postfix": ") ",
     "delete_cmd_prefix": "rm(",
     "library": "var_list.r",
     "varRefreshCmd": "cat(var_dic_list()) "
    }
   },
   "position": {
    "height": "394px",
    "left": "638px",
    "right": "20px",
    "top": "120px",
    "width": "300px"
   },
   "types_to_exclude": [
    "module",
    "function",
    "builtin_function_or_method",
    "instance",
    "_Feature"
   ],
   "window_display": false
  }
 },
 "nbformat": 4,
 "nbformat_minor": 2
}
