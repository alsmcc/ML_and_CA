{
 "cells": [
  {
   "cell_type": "code",
   "execution_count": 3,
   "metadata": {},
   "outputs": [],
   "source": [
    "from __future__ import print_function, division\n",
    "%matplotlib inline\n",
    "import math,sys,os,numpy as np\n",
    "from numpy.random import random, permutation, randint\n",
    "from matplotlib import pyplot as plt"
   ]
  },
  {
   "cell_type": "code",
   "execution_count": 1,
   "metadata": {},
   "outputs": [],
   "source": [
    "def lin(a,b,x): return a*x+b"
   ]
  },
  {
   "cell_type": "code",
   "execution_count": 13,
   "metadata": {},
   "outputs": [],
   "source": [
    "def loss(y,a,b,x): return sse(y, lin(a,b,x))\n",
    "def sse(y,y_pred): return ((y-y_pred)**2).sum()"
   ]
  },
  {
   "cell_type": "markdown",
   "metadata": {},
   "source": [
    "### Creating some points for the regression"
   ]
  },
  {
   "cell_type": "code",
   "execution_count": 110,
   "metadata": {},
   "outputs": [
    {
     "data": {
      "text/plain": [
       "<matplotlib.collections.PathCollection at 0x2223b804f60>"
      ]
     },
     "execution_count": 110,
     "metadata": {},
     "output_type": "execute_result"
    },
    {
     "data": {
      "image/png": "[encoded data removed]",
      "text/plain": [
       "<Figure size 432x288 with 1 Axes>"
      ]
     },
     "metadata": {
      "needs_background": "light"
     },
     "output_type": "display_data"
    }
   ],
   "source": [
    "#Get points on a line and add some noise\n",
    "a=3\n",
    "b=2\n",
    "n=int(1e3)\n",
    "noise=np.random.normal(0,.4,n)\n",
    "x = random(n)\n",
    "y = lin(a,b,x)+noise\n",
    "plt.scatter(x,y)"
   ]
  },
  {
   "cell_type": "code",
   "execution_count": 9,
   "metadata": {},
   "outputs": [],
   "source": [
    "#Start at some Point\n",
    "\n",
    "a_start=-5\n",
    "b_start= -1\n",
    "lr=0.01"
   ]
  },
  {
   "cell_type": "code",
   "execution_count": 10,
   "metadata": {},
   "outputs": [],
   "source": [
    "# Batch Gradient Descent\n",
    "def upd(x,y):\n",
    "    global a_guess, b_guess\n",
    "    y_pred = lin(a_guess, b_guess, x)\n",
    "    a_guess = a_guess - lr * len(x)**-1*((y_pred-y) * x).sum()\n",
    "    b_guess = b_guess - lr * len(x)**-1*((y_pred-y)).sum()"
   ]
  },
  {
   "cell_type": "code",
   "execution_count": 44,
   "metadata": {},
   "outputs": [],
   "source": [
    "# Stochastic Gradient Descent\n",
    "def upd_stoastic(x,n):\n",
    "    global a_guess, b_guess\n",
    "    y_pred = lin(a_guess, b_guess, x[n]) # only calc the cost and gradients for the one example we are currently looking ad.\n",
    "    a_guess = a_guess - lr * (y_pred-y[n])*x[n]\n",
    "    b_guess = b_guess - lr * (y_pred-y[n])"
   ]
  },
  {
   "cell_type": "code",
   "execution_count": 28,
   "metadata": {},
   "outputs": [],
   "source": [
    "def iterate_minibatches(inputs, targets, batchsize, shuffle=False):\n",
    "    assert inputs.shape[0] == targets.shape[0]\n",
    "    if shuffle:\n",
    "        indices = np.arange(inputs.shape[0])\n",
    "        np.random.shuffle(indices)\n",
    "    for start_idx in range(0, inputs.shape[0], batchsize):\n",
    "        end_idx = min(start_idx + batchsize, inputs.shape[0])\n",
    "        if shuffle:\n",
    "            excerpt = indices[start_idx:end_idx]\n",
    "        else:\n",
    "            excerpt = slice(start_idx, end_idx)\n",
    "        yield inputs[excerpt], targets[excerpt]"
   ]
  },
  {
   "cell_type": "markdown",
   "metadata": {},
   "source": [
    "## Apply Batch Gradient Descent"
   ]
  },
  {
   "cell_type": "markdown",
   "metadata": {},
   "source": [
    "On CPU:"
   ]
  },
  {
   "cell_type": "code",
   "execution_count": 23,
   "metadata": {},
   "outputs": [
    {
     "name": "stdout",
     "output_type": "stream",
     "text": [
      "Run=10000, Loss= 170.551231\n",
      "a_guess= 3.05446553, b_guess= 1.93839855\n",
      "a=3, b=2\n",
      "Wall time: 219 ms\n"
     ]
    }
   ],
   "source": [
    "\n",
    "a_guess=a_start\n",
    "b_guess=b_start\n",
    "global run\n",
    "run=0\n",
    "for i in range(10000):\n",
    "    run=run+1\n",
    "    upd(x,y) \n",
    "print( \"Run=%s, Loss= %.10s\\na_guess= %.10s, b_guess= %.10s\\na=%.10s, b=%.10s\" % (run, loss(y,a_guess,b_guess,x),a_guess,b_guess,a,b))\n",
    "    "
   ]
  },
  {
   "cell_type": "markdown",
   "metadata": {},
   "source": [
    "On GPU"
   ]
  },
  {
   "cell_type": "code",
   "execution_count": 16,
   "metadata": {},
   "outputs": [],
   "source": [
    "# Move Data to Torch GPU Tensor:\n",
    "import torch\n",
    "x_t=torch.from_numpy(x).cuda()\n",
    "y_t=torch.from_numpy(y).cuda()"
   ]
  },
  {
   "cell_type": "code",
   "execution_count": 25,
   "metadata": {},
   "outputs": [
    {
     "name": "stdout",
     "output_type": "stream",
     "text": [
      "Run=10000, Loss= 170.551231\n",
      "a_guess= 3.05446553, b_guess= 1.93839855\n",
      "a=3, b=2\n",
      "Wall time: 10.2 s\n"
     ]
    }
   ],
   "source": [
    "\n",
    "a_guess=a_start\n",
    "b_guess=b_start\n",
    "global run\n",
    "run=0\n",
    "for i in range(10000):\n",
    "    run=run+1\n",
    "    upd(x_t,y_t)    \n",
    "a_guess=a_guess.cpu().numpy()\n",
    "b_guess=b_guess.cpu().numpy()\n",
    "print( \"Run=%s, Loss= %.10s\\na_guess= %.10s, b_guess= %.10s\\na=%.10s, b=%.10s\" % (run, loss(y,a_guess,b_guess,x),a_guess,b_guess,a,b))\n",
    "    "
   ]
  },
  {
   "cell_type": "code",
   "execution_count": 103,
   "metadata": {},
   "outputs": [
    {
     "data": {
      "text/plain": [
       "3.4556740823116443"
      ]
     },
     "execution_count": 103,
     "metadata": {},
     "output_type": "execute_result"
    }
   ],
   "source": [
    "y_pred = lin(a_guess, b_guess, x[n]) # only calc the cost and gradients for the one example we are currently looking ad.\n",
    "y_pred    "
   ]
  },
  {
   "cell_type": "code",
   "execution_count": null,
   "metadata": {},
   "outputs": [],
   "source": [
    "    a_guess = a_guess - lr * (y_pred-y[n])*x[n]\n",
    "    b_guess = b_guess - lr * (y_pred-y[n])"
   ]
  },
  {
   "cell_type": "markdown",
   "metadata": {},
   "source": [
    "## Apply Stochastic Batch Gradient Descent"
   ]
  },
  {
   "cell_type": "markdown",
   "metadata": {},
   "source": [
    "On CPU"
   ]
  },
  {
   "cell_type": "code",
   "execution_count": 111,
   "metadata": {},
   "outputs": [],
   "source": [
    "a_guess=a_start\n",
    "b_guess=b_start\n",
    "global run\n",
    "run=0\n",
    "ind_shuffle = np.arange(len(x))\n",
    "np.random.seed(123)\n",
    "np.random.shuffle(ind_shuffle)\n",
    "x=x[ind_shuffle]\n",
    "y=y[ind_shuffle]"
   ]
  },
  {
   "cell_type": "code",
   "execution_count": 115,
   "metadata": {},
   "outputs": [
    {
     "name": "stdout",
     "output_type": "stream",
     "text": [
      "Run=40, Loss= 149.020539\n",
      "a_guess= 2.95897337, b_guess= 1.96834614\n",
      "a=3, b=2\n",
      "Wall time: 38 ms\n"
     ]
    }
   ],
   "source": [
    "\n",
    "for i in range(10):\n",
    "    global run\n",
    "    run=run+1\n",
    "    for n in range(0,len(x)): \n",
    "            upd_stoastic(x,n)\n",
    "            #print( \"Run=%s, Loss= %.10s\\na_guess= %.10s, b_guess= %.10s\\na=%.10s, b=%.10s\" % (run, loss(y,a_guess,b_guess,x),a_guess,b_guess,a,b))\n",
    "\n",
    "print( \"Run=%s, Loss= %.10s\\na_guess= %.10s, b_guess= %.10s\\na=%.10s, b=%.10s\" % (run, loss(y,a_guess,b_guess,x),a_guess,b_guess,a,b))"
   ]
  },
  {
   "cell_type": "markdown",
   "metadata": {},
   "source": [
    "On GPU"
   ]
  },
  {
   "cell_type": "code",
   "execution_count": 113,
   "metadata": {},
   "outputs": [],
   "source": [
    "a_guess=a_start\n",
    "b_guess=b_start\n",
    "global run\n",
    "run=0\n",
    "x_t=torch.from_numpy(x).cuda()\n",
    "y_t=torch.from_numpy(x).cuda()"
   ]
  },
  {
   "cell_type": "code",
   "execution_count": 116,
   "metadata": {},
   "outputs": [
    {
     "name": "stdout",
     "output_type": "stream",
     "text": [
      "Run=50, Loss= 149.026772\n",
      "a_guess= 2.96279783, b_guess= 1.96623387\n",
      "a=3, b=2\n",
      "Wall time: 8.89 s\n"
     ]
    }
   ],
   "source": [
    "\n",
    "for i in range(10):\n",
    "    run=run+1\n",
    "    for n in range(0,len(x_t)): \n",
    "            upd_stoastic(x_t,n)\n",
    "a_guess=a_guess.cpu().numpy()\n",
    "b_guess=b_guess.cpu().numpy()\n",
    "print( \"Run=%s, Loss= %.10s\\na_guess= %.10s, b_guess= %.10s\\na=%.10s, b=%.10s\" % (run, loss(y,a_guess,b_guess,x),a_guess,b_guess,a,b))"
   ]
  },
  {
   "cell_type": "code",
   "execution_count": null,
   "metadata": {},
   "outputs": [],
   "source": []
  }
 ],
 "metadata": {
  "kernelspec": {
   "display_name": "Python 3",
   "language": "python",
   "name": "python3"
  },
  "language_info": {
   "codemirror_mode": {
    "name": "ipython",
    "version": 3
   },
   "file_extension": ".py",
   "mimetype": "text/x-python",
   "name": "python",
   "nbconvert_exporter": "python",
   "pygments_lexer": "ipython3",
   "version": "3.7.3"
  },
  "latex_envs": {
   "LaTeX_envs_menu_present": true,
   "autoclose": false,
   "autocomplete": true,
   "bibliofile": "biblio.bib",
   "cite_by": "apalike",
   "current_citInitial": 1,
   "eqLabelWithNumbers": true,
   "eqNumInitial": 1,
   "hotkeys": {
    "equation": "Ctrl-E",
    "itemize": "Ctrl-I"
   },
   "labels_anchors": false,
   "latex_user_defs": false,
   "report_style_numbering": false,
   "user_envs_cfg": false
  },
  "varInspector": {
   "cols": {
    "lenName": 16,
    "lenType": 16,
    "lenVar": 40
   },
   "kernels_config": {
    "python": {
     "delete_cmd_postfix": "",
     "delete_cmd_prefix": "del ",
     "library": "var_list.py",
     "varRefreshCmd": "print(var_dic_list())"
    },
    "r": {
     "delete_cmd_postfix": ") ",
     "delete_cmd_prefix": "rm(",
     "library": "var_list.r",
     "varRefreshCmd": "cat(var_dic_list()) "
    }
   },
   "types_to_exclude": [
    "module",
    "function",
    "builtin_function_or_method",
    "instance",
    "_Feature"
   ],
   "window_display": false
  }
 },
 "nbformat": 4,
 "nbformat_minor": 2
}
